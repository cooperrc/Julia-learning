{
 "cells": [
  {
   "cell_type": "markdown",
   "id": "dcca941e-40fa-4ef7-8c27-78adf863dfb8",
   "metadata": {},
   "source": [
    "# Day_01 - Julia in the Jupyter notebook\n",
    "\n",
    "## Getting Conda and Julia to meet\n",
    "I reinstalled Julia via \n",
    "\n",
    "`pacman -Syu julia`, \n",
    "\n",
    "then created a conda environment to build a clean Jupyter notebook.\n",
    "\n",
    "1. `conda create -n julia`\n",
    "2. `conda activate julia`\n",
    "3. `conda install jupyterlab`\n",
    "\n",
    "Then, I had to rebuild the `IJulia` package:\n",
    "\n",
    "`]build(\"IJulia\")`\n",
    "\n",
    "Now, I'm up and running in the Jupyter notebook. Pretty cool so far."
   ]
  },
  {
   "cell_type": "markdown",
   "id": "fa90a66d-2558-47d5-b475-209291fbe908",
   "metadata": {},
   "source": [
    "## Playing with some vector math and notation"
   ]
  },
  {
   "cell_type": "code",
   "execution_count": 1,
   "id": "2fa03555-a3ee-47ba-ac0a-b3fdf5161f7c",
   "metadata": {},
   "outputs": [],
   "source": [
    "x = [1, 2, 3];"
   ]
  },
  {
   "cell_type": "markdown",
   "id": "1079f2ee-af86-4c9c-93c1-6584f968f833",
   "metadata": {},
   "source": [
    "It looks like Julia suppresses output with the `;` like Matlab."
   ]
  },
  {
   "cell_type": "code",
   "execution_count": 2,
   "id": "441872c0-e864-43c0-9252-6b0bf50280a1",
   "metadata": {},
   "outputs": [
    {
     "name": "stdout",
     "output_type": "stream",
     "text": [
      "[1 2 3]"
     ]
    }
   ],
   "source": [
    "print(transpose(x));"
   ]
  },
  {
   "cell_type": "markdown",
   "id": "edb8922e-fdbd-40af-9904-c6254312d90b",
   "metadata": {},
   "source": [
    "This was an interesting choice here. The default shape for a vector is 1D, e.g. `(N, )`, but you need to do a tranpose to multiply vectors either dot product or outer product"
   ]
  },
  {
   "cell_type": "code",
   "execution_count": 3,
   "id": "05c882dd-b182-4a60-a6d3-26501a2dfd73",
   "metadata": {},
   "outputs": [
    {
     "name": "stdout",
     "output_type": "stream",
     "text": [
      "[1 2 3; 2 4 6; 3 6 9]\n",
      "14"
     ]
    }
   ],
   "source": [
    "print(x*transpose(x))\n",
    "print('\\n',transpose(x)*x)"
   ]
  },
  {
   "cell_type": "markdown",
   "id": "9b213ab0-8a67-481c-b76c-13f015972804",
   "metadata": {},
   "source": [
    "The result is that the 1D vector has an implicit second dimension. This is like Matlab. A `(3, )` vectors is really treated as a `(3, 1)` column vector. \n",
    "\n",
    "There are some cool Linear Algebra things I might be able to build with this kind of framework."
   ]
  },
  {
   "cell_type": "code",
   "execution_count": 4,
   "id": "e210d810-b641-4262-8a8f-5ca4daf29107",
   "metadata": {},
   "outputs": [
    {
     "name": "stdout",
     "output_type": "stream",
     "text": [
      "size(x) = (3,)\n",
      "size(transpose(x)) = (1, 3)"
     ]
    }
   ],
   "source": [
    "print(\"size(x) = \", size(x))\n",
    "print(\"\\nsize(transpose(x)) = \", size(transpose(x)))"
   ]
  },
  {
   "cell_type": "markdown",
   "id": "9947cd44-9f75-4148-8da2-2a4f122b3814",
   "metadata": {},
   "source": [
    "## Plotting _first time to plot_\n",
    "\n",
    "Man, I really thought I messed something up with my first plot. It was taking forever. Then, I tried it in the REPL and same thing. Then, I found the [first time to plot](https://news.ycombinator.com/item?id=26133230) (issue?). It seems that getting the Julia environment ready to display data takes some computational work."
   ]
  },
  {
   "cell_type": "code",
   "execution_count": 5,
   "id": "55c22cbc-7239-46df-9448-4d8d61a07e7f",
   "metadata": {},
   "outputs": [],
   "source": [
    "using Plots"
   ]
  },
  {
   "cell_type": "code",
   "execution_count": 6,
   "id": "65c8517c-9a15-4c59-8191-f77882bd6896",
   "metadata": {},
   "outputs": [
    {
     "data": {
      "image/svg+xml": [
       "<?xml version=\"1.0\" encoding=\"utf-8\"?>\n",
       "<svg xmlns=\"http://www.w3.org/2000/svg\" xmlns:xlink=\"http://www.w3.org/1999/xlink\" width=\"600\" height=\"400\" viewBox=\"0 0 2400 1600\">\n",
       "<defs>\n",
       "  <clipPath id=\"clip020\">\n",
       "    <rect x=\"0\" y=\"0\" width=\"2400\" height=\"1600\"/>\n",
       "  </clipPath>\n",
       "</defs>\n",
       "<path clip-path=\"url(#clip020)\" d=\"\n",
       "M0 1600 L2400 1600 L2400 0 L0 0  Z\n",
       "  \" fill=\"#ffffff\" fill-rule=\"evenodd\" fill-opacity=\"1\"/>\n",
       "<defs>\n",
       "  <clipPath id=\"clip021\">\n",
       "    <rect x=\"480\" y=\"0\" width=\"1681\" height=\"1600\"/>\n",
       "  </clipPath>\n",
       "</defs>\n",
       "<path clip-path=\"url(#clip020)\" d=\"\n",
       "M140.696 1486.45 L2352.76 1486.45 L2352.76 47.2441 L140.696 47.2441  Z\n",
       "  \" fill=\"#ffffff\" fill-rule=\"evenodd\" fill-opacity=\"1\"/>\n",
       "<defs>\n",
       "  <clipPath id=\"clip022\">\n",
       "    <rect x=\"140\" y=\"47\" width=\"2213\" height=\"1440\"/>\n",
       "  </clipPath>\n",
       "</defs>\n",
       "<polyline clip-path=\"url(#clip022)\" style=\"stroke:#000000; stroke-linecap:butt; stroke-linejoin:round; stroke-width:2; stroke-opacity:0.1; fill:none\" points=\"\n",
       "  411.986,1486.45 411.986,47.2441 \n",
       "  \"/>\n",
       "<polyline clip-path=\"url(#clip022)\" style=\"stroke:#000000; stroke-linecap:butt; stroke-linejoin:round; stroke-width:2; stroke-opacity:0.1; fill:none\" points=\"\n",
       "  829.356,1486.45 829.356,47.2441 \n",
       "  \"/>\n",
       "<polyline clip-path=\"url(#clip022)\" style=\"stroke:#000000; stroke-linecap:butt; stroke-linejoin:round; stroke-width:2; stroke-opacity:0.1; fill:none\" points=\"\n",
       "  1246.73,1486.45 1246.73,47.2441 \n",
       "  \"/>\n",
       "<polyline clip-path=\"url(#clip022)\" style=\"stroke:#000000; stroke-linecap:butt; stroke-linejoin:round; stroke-width:2; stroke-opacity:0.1; fill:none\" points=\"\n",
       "  1664.1,1486.45 1664.1,47.2441 \n",
       "  \"/>\n",
       "<polyline clip-path=\"url(#clip022)\" style=\"stroke:#000000; stroke-linecap:butt; stroke-linejoin:round; stroke-width:2; stroke-opacity:0.1; fill:none\" points=\"\n",
       "  2081.47,1486.45 2081.47,47.2441 \n",
       "  \"/>\n",
       "<polyline clip-path=\"url(#clip020)\" style=\"stroke:#000000; stroke-linecap:butt; stroke-linejoin:round; stroke-width:4; stroke-opacity:1; fill:none\" points=\"\n",
       "  140.696,1486.45 2352.76,1486.45 \n",
       "  \"/>\n",
       "<polyline clip-path=\"url(#clip020)\" style=\"stroke:#000000; stroke-linecap:butt; stroke-linejoin:round; stroke-width:4; stroke-opacity:1; fill:none\" points=\"\n",
       "  411.986,1486.45 411.986,1467.55 \n",
       "  \"/>\n",
       "<polyline clip-path=\"url(#clip020)\" style=\"stroke:#000000; stroke-linecap:butt; stroke-linejoin:round; stroke-width:4; stroke-opacity:1; fill:none\" points=\"\n",
       "  829.356,1486.45 829.356,1467.55 \n",
       "  \"/>\n",
       "<polyline clip-path=\"url(#clip020)\" style=\"stroke:#000000; stroke-linecap:butt; stroke-linejoin:round; stroke-width:4; stroke-opacity:1; fill:none\" points=\"\n",
       "  1246.73,1486.45 1246.73,1467.55 \n",
       "  \"/>\n",
       "<polyline clip-path=\"url(#clip020)\" style=\"stroke:#000000; stroke-linecap:butt; stroke-linejoin:round; stroke-width:4; stroke-opacity:1; fill:none\" points=\"\n",
       "  1664.1,1486.45 1664.1,1467.55 \n",
       "  \"/>\n",
       "<polyline clip-path=\"url(#clip020)\" style=\"stroke:#000000; stroke-linecap:butt; stroke-linejoin:round; stroke-width:4; stroke-opacity:1; fill:none\" points=\"\n",
       "  2081.47,1486.45 2081.47,1467.55 \n",
       "  \"/>\n",
       "<path clip-path=\"url(#clip020)\" d=\"M380.887 1532.02 L410.562 1532.02 L410.562 1535.95 L380.887 1535.95 L380.887 1532.02 Z\" fill=\"#000000\" fill-rule=\"evenodd\" fill-opacity=\"1\" /><path clip-path=\"url(#clip020)\" d=\"M433.502 1518.36 L421.697 1536.81 L433.502 1536.81 L433.502 1518.36 M432.275 1514.29 L438.155 1514.29 L438.155 1536.81 L443.085 1536.81 L443.085 1540.7 L438.155 1540.7 L438.155 1548.85 L433.502 1548.85 L433.502 1540.7 L417.9 1540.7 L417.9 1536.19 L432.275 1514.29 Z\" fill=\"#000000\" fill-rule=\"evenodd\" fill-opacity=\"1\" /><path clip-path=\"url(#clip020)\" d=\"M799.298 1532.02 L828.974 1532.02 L828.974 1535.95 L799.298 1535.95 L799.298 1532.02 Z\" fill=\"#000000\" fill-rule=\"evenodd\" fill-opacity=\"1\" /><path clip-path=\"url(#clip020)\" d=\"M843.094 1544.91 L859.414 1544.91 L859.414 1548.85 L837.469 1548.85 L837.469 1544.91 Q840.131 1542.16 844.715 1537.53 Q849.321 1532.88 850.502 1531.53 Q852.747 1529.01 853.627 1527.27 Q854.529 1525.51 854.529 1523.82 Q854.529 1521.07 852.585 1519.33 Q850.664 1517.6 847.562 1517.6 Q845.363 1517.6 842.909 1518.36 Q840.478 1519.13 837.701 1520.68 L837.701 1515.95 Q840.525 1514.82 842.978 1514.24 Q845.432 1513.66 847.469 1513.66 Q852.84 1513.66 856.034 1516.35 Q859.228 1519.03 859.228 1523.52 Q859.228 1525.65 858.418 1527.57 Q857.631 1529.47 855.525 1532.07 Q854.946 1532.74 851.844 1535.95 Q848.742 1539.15 843.094 1544.91 Z\" fill=\"#000000\" fill-rule=\"evenodd\" fill-opacity=\"1\" /><path clip-path=\"url(#clip020)\" d=\"M1246.73 1517.37 Q1243.11 1517.37 1241.29 1520.93 Q1239.48 1524.47 1239.48 1531.6 Q1239.48 1538.71 1241.29 1542.27 Q1243.11 1545.82 1246.73 1545.82 Q1250.36 1545.82 1252.17 1542.27 Q1253.99 1538.71 1253.99 1531.6 Q1253.99 1524.47 1252.17 1520.93 Q1250.36 1517.37 1246.73 1517.37 M1246.73 1513.66 Q1252.54 1513.66 1255.59 1518.27 Q1258.67 1522.85 1258.67 1531.6 Q1258.67 1540.33 1255.59 1544.94 Q1252.54 1549.52 1246.73 1549.52 Q1240.92 1549.52 1237.84 1544.94 Q1234.78 1540.33 1234.78 1531.6 Q1234.78 1522.85 1237.84 1518.27 Q1240.92 1513.66 1246.73 1513.66 Z\" fill=\"#000000\" fill-rule=\"evenodd\" fill-opacity=\"1\" /><path clip-path=\"url(#clip020)\" d=\"M1658.75 1544.91 L1675.07 1544.91 L1675.07 1548.85 L1653.12 1548.85 L1653.12 1544.91 Q1655.79 1542.16 1660.37 1537.53 Q1664.98 1532.88 1666.16 1531.53 Q1668.4 1529.01 1669.28 1527.27 Q1670.18 1525.51 1670.18 1523.82 Q1670.18 1521.07 1668.24 1519.33 Q1666.32 1517.6 1663.22 1517.6 Q1661.02 1517.6 1658.56 1518.36 Q1656.13 1519.13 1653.35 1520.68 L1653.35 1515.95 Q1656.18 1514.82 1658.63 1514.24 Q1661.09 1513.66 1663.12 1513.66 Q1668.49 1513.66 1671.69 1516.35 Q1674.88 1519.03 1674.88 1523.52 Q1674.88 1525.65 1674.07 1527.57 Q1673.29 1529.47 1671.18 1532.07 Q1670.6 1532.74 1667.5 1535.95 Q1664.4 1539.15 1658.75 1544.91 Z\" fill=\"#000000\" fill-rule=\"evenodd\" fill-opacity=\"1\" /><path clip-path=\"url(#clip020)\" d=\"M2084.47 1518.36 L2072.67 1536.81 L2084.47 1536.81 L2084.47 1518.36 M2083.25 1514.29 L2089.13 1514.29 L2089.13 1536.81 L2094.06 1536.81 L2094.06 1540.7 L2089.13 1540.7 L2089.13 1548.85 L2084.47 1548.85 L2084.47 1540.7 L2068.87 1540.7 L2068.87 1536.19 L2083.25 1514.29 Z\" fill=\"#000000\" fill-rule=\"evenodd\" fill-opacity=\"1\" /><polyline clip-path=\"url(#clip022)\" style=\"stroke:#000000; stroke-linecap:butt; stroke-linejoin:round; stroke-width:2; stroke-opacity:0.1; fill:none\" points=\"\n",
       "  140.696,1446.28 2352.76,1446.28 \n",
       "  \"/>\n",
       "<polyline clip-path=\"url(#clip022)\" style=\"stroke:#000000; stroke-linecap:butt; stroke-linejoin:round; stroke-width:2; stroke-opacity:0.1; fill:none\" points=\"\n",
       "  140.696,1174.62 2352.76,1174.62 \n",
       "  \"/>\n",
       "<polyline clip-path=\"url(#clip022)\" style=\"stroke:#000000; stroke-linecap:butt; stroke-linejoin:round; stroke-width:2; stroke-opacity:0.1; fill:none\" points=\"\n",
       "  140.696,902.959 2352.76,902.959 \n",
       "  \"/>\n",
       "<polyline clip-path=\"url(#clip022)\" style=\"stroke:#000000; stroke-linecap:butt; stroke-linejoin:round; stroke-width:2; stroke-opacity:0.1; fill:none\" points=\"\n",
       "  140.696,631.298 2352.76,631.298 \n",
       "  \"/>\n",
       "<polyline clip-path=\"url(#clip022)\" style=\"stroke:#000000; stroke-linecap:butt; stroke-linejoin:round; stroke-width:2; stroke-opacity:0.1; fill:none\" points=\"\n",
       "  140.696,359.637 2352.76,359.637 \n",
       "  \"/>\n",
       "<polyline clip-path=\"url(#clip022)\" style=\"stroke:#000000; stroke-linecap:butt; stroke-linejoin:round; stroke-width:2; stroke-opacity:0.1; fill:none\" points=\"\n",
       "  140.696,87.9763 2352.76,87.9763 \n",
       "  \"/>\n",
       "<polyline clip-path=\"url(#clip020)\" style=\"stroke:#000000; stroke-linecap:butt; stroke-linejoin:round; stroke-width:4; stroke-opacity:1; fill:none\" points=\"\n",
       "  140.696,1486.45 140.696,47.2441 \n",
       "  \"/>\n",
       "<polyline clip-path=\"url(#clip020)\" style=\"stroke:#000000; stroke-linecap:butt; stroke-linejoin:round; stroke-width:4; stroke-opacity:1; fill:none\" points=\"\n",
       "  140.696,1446.28 159.593,1446.28 \n",
       "  \"/>\n",
       "<polyline clip-path=\"url(#clip020)\" style=\"stroke:#000000; stroke-linecap:butt; stroke-linejoin:round; stroke-width:4; stroke-opacity:1; fill:none\" points=\"\n",
       "  140.696,1174.62 159.593,1174.62 \n",
       "  \"/>\n",
       "<polyline clip-path=\"url(#clip020)\" style=\"stroke:#000000; stroke-linecap:butt; stroke-linejoin:round; stroke-width:4; stroke-opacity:1; fill:none\" points=\"\n",
       "  140.696,902.959 159.593,902.959 \n",
       "  \"/>\n",
       "<polyline clip-path=\"url(#clip020)\" style=\"stroke:#000000; stroke-linecap:butt; stroke-linejoin:round; stroke-width:4; stroke-opacity:1; fill:none\" points=\"\n",
       "  140.696,631.298 159.593,631.298 \n",
       "  \"/>\n",
       "<polyline clip-path=\"url(#clip020)\" style=\"stroke:#000000; stroke-linecap:butt; stroke-linejoin:round; stroke-width:4; stroke-opacity:1; fill:none\" points=\"\n",
       "  140.696,359.637 159.593,359.637 \n",
       "  \"/>\n",
       "<polyline clip-path=\"url(#clip020)\" style=\"stroke:#000000; stroke-linecap:butt; stroke-linejoin:round; stroke-width:4; stroke-opacity:1; fill:none\" points=\"\n",
       "  140.696,87.9763 159.593,87.9763 \n",
       "  \"/>\n",
       "<path clip-path=\"url(#clip020)\" d=\"M92.7512 1432.08 Q89.1401 1432.08 87.3114 1435.64 Q85.5058 1439.19 85.5058 1446.32 Q85.5058 1453.42 87.3114 1456.99 Q89.1401 1460.53 92.7512 1460.53 Q96.3854 1460.53 98.1909 1456.99 Q100.02 1453.42 100.02 1446.32 Q100.02 1439.19 98.1909 1435.64 Q96.3854 1432.08 92.7512 1432.08 M92.7512 1428.38 Q98.5613 1428.38 101.617 1432.98 Q104.696 1437.57 104.696 1446.32 Q104.696 1455.04 101.617 1459.65 Q98.5613 1464.23 92.7512 1464.23 Q86.941 1464.23 83.8623 1459.65 Q80.8068 1455.04 80.8068 1446.32 Q80.8068 1437.57 83.8623 1432.98 Q86.941 1428.38 92.7512 1428.38 Z\" fill=\"#000000\" fill-rule=\"evenodd\" fill-opacity=\"1\" /><path clip-path=\"url(#clip020)\" d=\"M83.7929 1157.34 L102.149 1157.34 L102.149 1161.28 L88.0753 1161.28 L88.0753 1169.75 Q89.0938 1169.4 90.1123 1169.24 Q91.1308 1169.05 92.1493 1169.05 Q97.9363 1169.05 101.316 1172.22 Q104.696 1175.4 104.696 1180.81 Q104.696 1186.39 101.223 1189.49 Q97.7511 1192.57 91.4317 1192.57 Q89.2558 1192.57 86.9873 1192.2 Q84.7419 1191.83 82.3346 1191.09 L82.3346 1186.39 Q84.4179 1187.53 86.6401 1188.08 Q88.8623 1188.64 91.3391 1188.64 Q95.3437 1188.64 97.6817 1186.53 Q100.02 1184.42 100.02 1180.81 Q100.02 1177.2 97.6817 1175.09 Q95.3437 1172.99 91.3391 1172.99 Q89.4641 1172.99 87.5892 1173.41 Q85.7373 1173.82 83.7929 1174.7 L83.7929 1157.34 Z\" fill=\"#000000\" fill-rule=\"evenodd\" fill-opacity=\"1\" /><path clip-path=\"url(#clip020)\" d=\"M53.3995 916.304 L61.0384 916.304 L61.0384 889.939 L52.7282 891.605 L52.7282 887.346 L60.9921 885.679 L65.668 885.679 L65.668 916.304 L73.3068 916.304 L73.3068 920.239 L53.3995 920.239 L53.3995 916.304 Z\" fill=\"#000000\" fill-rule=\"evenodd\" fill-opacity=\"1\" /><path clip-path=\"url(#clip020)\" d=\"M92.7512 888.758 Q89.1401 888.758 87.3114 892.323 Q85.5058 895.864 85.5058 902.994 Q85.5058 910.101 87.3114 913.665 Q89.1401 917.207 92.7512 917.207 Q96.3854 917.207 98.1909 913.665 Q100.02 910.101 100.02 902.994 Q100.02 895.864 98.1909 892.323 Q96.3854 888.758 92.7512 888.758 M92.7512 885.054 Q98.5613 885.054 101.617 889.661 Q104.696 894.244 104.696 902.994 Q104.696 911.721 101.617 916.327 Q98.5613 920.911 92.7512 920.911 Q86.941 920.911 83.8623 916.327 Q80.8068 911.721 80.8068 902.994 Q80.8068 894.244 83.8623 889.661 Q86.941 885.054 92.7512 885.054 Z\" fill=\"#000000\" fill-rule=\"evenodd\" fill-opacity=\"1\" /><path clip-path=\"url(#clip020)\" d=\"M54.3949 644.643 L62.0337 644.643 L62.0337 618.278 L53.7236 619.944 L53.7236 615.685 L61.9874 614.018 L66.6633 614.018 L66.6633 644.643 L74.3022 644.643 L74.3022 648.578 L54.3949 648.578 L54.3949 644.643 Z\" fill=\"#000000\" fill-rule=\"evenodd\" fill-opacity=\"1\" /><path clip-path=\"url(#clip020)\" d=\"M83.7929 614.018 L102.149 614.018 L102.149 617.953 L88.0753 617.953 L88.0753 626.426 Q89.0938 626.078 90.1123 625.916 Q91.1308 625.731 92.1493 625.731 Q97.9363 625.731 101.316 628.903 Q104.696 632.074 104.696 637.49 Q104.696 643.069 101.223 646.171 Q97.7511 649.25 91.4317 649.25 Q89.2558 649.25 86.9873 648.879 Q84.7419 648.509 82.3346 647.768 L82.3346 643.069 Q84.4179 644.203 86.6401 644.759 Q88.8623 645.314 91.3391 645.314 Q95.3437 645.314 97.6817 643.208 Q100.02 641.102 100.02 637.49 Q100.02 633.879 97.6817 631.773 Q95.3437 629.666 91.3391 629.666 Q89.4641 629.666 87.5892 630.083 Q85.7373 630.5 83.7929 631.379 L83.7929 614.018 Z\" fill=\"#000000\" fill-rule=\"evenodd\" fill-opacity=\"1\" /><path clip-path=\"url(#clip020)\" d=\"M56.6171 372.982 L72.9365 372.982 L72.9365 376.917 L50.9921 376.917 L50.9921 372.982 Q53.6541 370.228 58.2375 365.598 Q62.8439 360.945 64.0245 359.603 Q66.2698 357.079 67.1494 355.343 Q68.0522 353.584 68.0522 351.894 Q68.0522 349.14 66.1078 347.404 Q64.1865 345.667 61.0847 345.667 Q58.8856 345.667 56.4319 346.431 Q54.0014 347.195 51.2236 348.746 L51.2236 344.024 Q54.0477 342.89 56.5014 342.311 Q58.955 341.732 60.9921 341.732 Q66.3624 341.732 69.5568 344.417 Q72.7513 347.103 72.7513 351.593 Q72.7513 353.723 71.9411 355.644 Q71.1541 357.542 69.0476 360.135 Q68.4689 360.806 65.367 364.024 Q62.2652 367.218 56.6171 372.982 Z\" fill=\"#000000\" fill-rule=\"evenodd\" fill-opacity=\"1\" /><path clip-path=\"url(#clip020)\" d=\"M92.7512 345.436 Q89.1401 345.436 87.3114 349.001 Q85.5058 352.542 85.5058 359.672 Q85.5058 366.778 87.3114 370.343 Q89.1401 373.885 92.7512 373.885 Q96.3854 373.885 98.1909 370.343 Q100.02 366.778 100.02 359.672 Q100.02 352.542 98.1909 349.001 Q96.3854 345.436 92.7512 345.436 M92.7512 341.732 Q98.5613 341.732 101.617 346.339 Q104.696 350.922 104.696 359.672 Q104.696 368.399 101.617 373.005 Q98.5613 377.589 92.7512 377.589 Q86.941 377.589 83.8623 373.005 Q80.8068 368.399 80.8068 359.672 Q80.8068 350.922 83.8623 346.339 Q86.941 341.732 92.7512 341.732 Z\" fill=\"#000000\" fill-rule=\"evenodd\" fill-opacity=\"1\" /><path clip-path=\"url(#clip020)\" d=\"M57.6125 101.321 L73.9318 101.321 L73.9318 105.256 L51.9875 105.256 L51.9875 101.321 Q54.6495 98.5665 59.2328 93.9369 Q63.8393 89.2841 65.0198 87.9416 Q67.2652 85.4184 68.1448 83.6823 Q69.0476 81.9231 69.0476 80.2333 Q69.0476 77.4786 67.1032 75.7425 Q65.1819 74.0064 62.08 74.0064 Q59.881 74.0064 57.4273 74.7703 Q54.9967 75.5342 52.219 77.0851 L52.219 72.3629 Q55.043 71.2287 57.4967 70.65 Q59.9504 70.0713 61.9874 70.0713 Q67.3578 70.0713 70.5522 72.7565 Q73.7466 75.4416 73.7466 79.9323 Q73.7466 82.062 72.9365 83.9832 Q72.1494 85.8814 70.0429 88.474 Q69.4642 89.1453 66.3624 92.3628 Q63.2606 95.5573 57.6125 101.321 Z\" fill=\"#000000\" fill-rule=\"evenodd\" fill-opacity=\"1\" /><path clip-path=\"url(#clip020)\" d=\"M83.7929 70.6963 L102.149 70.6963 L102.149 74.6314 L88.0753 74.6314 L88.0753 83.1036 Q89.0938 82.7564 90.1123 82.5944 Q91.1308 82.4092 92.1493 82.4092 Q97.9363 82.4092 101.316 85.5805 Q104.696 88.7517 104.696 94.1684 Q104.696 99.747 101.223 102.849 Q97.7511 105.928 91.4317 105.928 Q89.2558 105.928 86.9873 105.557 Q84.7419 105.187 82.3346 104.446 L82.3346 99.747 Q84.4179 100.881 86.6401 101.437 Q88.8623 101.992 91.3391 101.992 Q95.3437 101.992 97.6817 99.8859 Q100.02 97.7795 100.02 94.1684 Q100.02 90.5573 97.6817 88.4508 Q95.3437 86.3443 91.3391 86.3443 Q89.4641 86.3443 87.5892 86.761 Q85.7373 87.1777 83.7929 88.0573 L83.7929 70.6963 Z\" fill=\"#000000\" fill-rule=\"evenodd\" fill-opacity=\"1\" /><polyline clip-path=\"url(#clip022)\" style=\"stroke:#009af9; stroke-linecap:butt; stroke-linejoin:round; stroke-width:4; stroke-opacity:1; fill:none\" points=\"\n",
       "  203.301,87.9763 245.89,196.595 288.479,300.689 331.067,400.256 373.656,495.298 416.245,585.814 458.834,671.804 501.422,753.269 544.011,830.207 586.6,902.62 \n",
       "  629.189,970.507 671.777,1033.87 714.366,1092.7 756.955,1147.01 799.544,1196.8 842.132,1242.05 884.721,1282.79 927.31,1318.99 969.899,1350.67 1012.49,1377.83 \n",
       "  1055.08,1400.46 1097.67,1418.56 1140.25,1432.14 1182.84,1441.19 1225.43,1445.72 1268.02,1445.72 1310.61,1441.19 1353.2,1432.14 1395.79,1418.56 1438.38,1400.46 \n",
       "  1480.96,1377.83 1523.55,1350.67 1566.14,1318.99 1608.73,1282.79 1651.32,1242.05 1693.91,1196.8 1736.5,1147.01 1779.09,1092.7 1821.67,1033.87 1864.26,970.507 \n",
       "  1906.85,902.62 1949.44,830.207 1992.03,753.269 2034.62,671.804 2077.21,585.814 2119.8,495.298 2162.38,400.256 2204.97,300.689 2247.56,196.595 2290.15,87.9763 \n",
       "  \n",
       "  \"/>\n",
       "<path clip-path=\"url(#clip020)\" d=\"\n",
       "M1980.81 198.898 L2279.02 198.898 L2279.02 95.2176 L1980.81 95.2176  Z\n",
       "  \" fill=\"#ffffff\" fill-rule=\"evenodd\" fill-opacity=\"1\"/>\n",
       "<polyline clip-path=\"url(#clip020)\" style=\"stroke:#000000; stroke-linecap:butt; stroke-linejoin:round; stroke-width:4; stroke-opacity:1; fill:none\" points=\"\n",
       "  1980.81,198.898 2279.02,198.898 2279.02,95.2176 1980.81,95.2176 1980.81,198.898 \n",
       "  \"/>\n",
       "<polyline clip-path=\"url(#clip020)\" style=\"stroke:#009af9; stroke-linecap:butt; stroke-linejoin:round; stroke-width:4; stroke-opacity:1; fill:none\" points=\"\n",
       "  2005.38,147.058 2152.85,147.058 \n",
       "  \"/>\n",
       "<path clip-path=\"url(#clip020)\" d=\"M2191.28 166.745 Q2189.47 171.375 2187.76 172.787 Q2186.04 174.199 2183.17 174.199 L2179.77 174.199 L2179.77 170.634 L2182.27 170.634 Q2184.03 170.634 2185 169.8 Q2185.98 168.967 2187.16 165.865 L2187.92 163.921 L2177.43 138.412 L2181.95 138.412 L2190.05 158.689 L2198.15 138.412 L2202.66 138.412 L2191.28 166.745 Z\" fill=\"#000000\" fill-rule=\"evenodd\" fill-opacity=\"1\" /><path clip-path=\"url(#clip020)\" d=\"M2209.96 160.402 L2217.6 160.402 L2217.6 134.037 L2209.29 135.703 L2209.29 131.444 L2217.55 129.778 L2222.22 129.778 L2222.22 160.402 L2229.86 160.402 L2229.86 164.338 L2209.96 164.338 L2209.96 160.402 Z\" fill=\"#000000\" fill-rule=\"evenodd\" fill-opacity=\"1\" /></svg>\n"
      ]
     },
     "execution_count": 6,
     "metadata": {},
     "output_type": "execute_result"
    }
   ],
   "source": [
    "x = range(-5, 5, length = 50)\n",
    "y = x.^2\n",
    "plot(x, y)"
   ]
  },
  {
   "cell_type": "markdown",
   "id": "3fcef9c2-5e45-401c-b9eb-714b038f762a",
   "metadata": {},
   "source": [
    "In Matplotlib, the more plots you add, the more lines you have. Here it looks like the lines get overwritten _more like Matlab_. Ah, but adding a `plot!` adds the lines to the current plot."
   ]
  },
  {
   "cell_type": "code",
   "execution_count": 7,
   "id": "62f630d5-b0b5-4b02-8b36-2a9e0eddaf6e",
   "metadata": {},
   "outputs": [
    {
     "data": {
      "image/svg+xml": [
       "<?xml version=\"1.0\" encoding=\"utf-8\"?>\n",
       "<svg xmlns=\"http://www.w3.org/2000/svg\" xmlns:xlink=\"http://www.w3.org/1999/xlink\" width=\"600\" height=\"400\" viewBox=\"0 0 2400 1600\">\n",
       "<defs>\n",
       "  <clipPath id=\"clip060\">\n",
       "    <rect x=\"0\" y=\"0\" width=\"2400\" height=\"1600\"/>\n",
       "  </clipPath>\n",
       "</defs>\n",
       "<path clip-path=\"url(#clip060)\" d=\"\n",
       "M0 1600 L2400 1600 L2400 0 L0 0  Z\n",
       "  \" fill=\"#ffffff\" fill-rule=\"evenodd\" fill-opacity=\"1\"/>\n",
       "<defs>\n",
       "  <clipPath id=\"clip061\">\n",
       "    <rect x=\"480\" y=\"0\" width=\"1681\" height=\"1600\"/>\n",
       "  </clipPath>\n",
       "</defs>\n",
       "<path clip-path=\"url(#clip060)\" d=\"\n",
       "M209.029 1486.45 L2352.76 1486.45 L2352.76 47.2441 L209.029 47.2441  Z\n",
       "  \" fill=\"#ffffff\" fill-rule=\"evenodd\" fill-opacity=\"1\"/>\n",
       "<defs>\n",
       "  <clipPath id=\"clip062\">\n",
       "    <rect x=\"209\" y=\"47\" width=\"2145\" height=\"1440\"/>\n",
       "  </clipPath>\n",
       "</defs>\n",
       "<polyline clip-path=\"url(#clip062)\" style=\"stroke:#000000; stroke-linecap:butt; stroke-linejoin:round; stroke-width:2; stroke-opacity:0.1; fill:none\" points=\"\n",
       "  471.938,1486.45 471.938,47.2441 \n",
       "  \"/>\n",
       "<polyline clip-path=\"url(#clip062)\" style=\"stroke:#000000; stroke-linecap:butt; stroke-linejoin:round; stroke-width:2; stroke-opacity:0.1; fill:none\" points=\"\n",
       "  876.415,1486.45 876.415,47.2441 \n",
       "  \"/>\n",
       "<polyline clip-path=\"url(#clip062)\" style=\"stroke:#000000; stroke-linecap:butt; stroke-linejoin:round; stroke-width:2; stroke-opacity:0.1; fill:none\" points=\"\n",
       "  1280.89,1486.45 1280.89,47.2441 \n",
       "  \"/>\n",
       "<polyline clip-path=\"url(#clip062)\" style=\"stroke:#000000; stroke-linecap:butt; stroke-linejoin:round; stroke-width:2; stroke-opacity:0.1; fill:none\" points=\"\n",
       "  1685.37,1486.45 1685.37,47.2441 \n",
       "  \"/>\n",
       "<polyline clip-path=\"url(#clip062)\" style=\"stroke:#000000; stroke-linecap:butt; stroke-linejoin:round; stroke-width:2; stroke-opacity:0.1; fill:none\" points=\"\n",
       "  2089.85,1486.45 2089.85,47.2441 \n",
       "  \"/>\n",
       "<polyline clip-path=\"url(#clip060)\" style=\"stroke:#000000; stroke-linecap:butt; stroke-linejoin:round; stroke-width:4; stroke-opacity:1; fill:none\" points=\"\n",
       "  209.029,1486.45 2352.76,1486.45 \n",
       "  \"/>\n",
       "<polyline clip-path=\"url(#clip060)\" style=\"stroke:#000000; stroke-linecap:butt; stroke-linejoin:round; stroke-width:4; stroke-opacity:1; fill:none\" points=\"\n",
       "  471.938,1486.45 471.938,1467.55 \n",
       "  \"/>\n",
       "<polyline clip-path=\"url(#clip060)\" style=\"stroke:#000000; stroke-linecap:butt; stroke-linejoin:round; stroke-width:4; stroke-opacity:1; fill:none\" points=\"\n",
       "  876.415,1486.45 876.415,1467.55 \n",
       "  \"/>\n",
       "<polyline clip-path=\"url(#clip060)\" style=\"stroke:#000000; stroke-linecap:butt; stroke-linejoin:round; stroke-width:4; stroke-opacity:1; fill:none\" points=\"\n",
       "  1280.89,1486.45 1280.89,1467.55 \n",
       "  \"/>\n",
       "<polyline clip-path=\"url(#clip060)\" style=\"stroke:#000000; stroke-linecap:butt; stroke-linejoin:round; stroke-width:4; stroke-opacity:1; fill:none\" points=\"\n",
       "  1685.37,1486.45 1685.37,1467.55 \n",
       "  \"/>\n",
       "<polyline clip-path=\"url(#clip060)\" style=\"stroke:#000000; stroke-linecap:butt; stroke-linejoin:round; stroke-width:4; stroke-opacity:1; fill:none\" points=\"\n",
       "  2089.85,1486.45 2089.85,1467.55 \n",
       "  \"/>\n",
       "<path clip-path=\"url(#clip060)\" d=\"M440.839 1532.02 L470.515 1532.02 L470.515 1535.95 L440.839 1535.95 L440.839 1532.02 Z\" fill=\"#000000\" fill-rule=\"evenodd\" fill-opacity=\"1\" /><path clip-path=\"url(#clip060)\" d=\"M493.455 1518.36 L481.649 1536.81 L493.455 1536.81 L493.455 1518.36 M492.228 1514.29 L498.107 1514.29 L498.107 1536.81 L503.038 1536.81 L503.038 1540.7 L498.107 1540.7 L498.107 1548.85 L493.455 1548.85 L493.455 1540.7 L477.853 1540.7 L477.853 1536.19 L492.228 1514.29 Z\" fill=\"#000000\" fill-rule=\"evenodd\" fill-opacity=\"1\" /><path clip-path=\"url(#clip060)\" d=\"M846.358 1532.02 L876.033 1532.02 L876.033 1535.95 L846.358 1535.95 L846.358 1532.02 Z\" fill=\"#000000\" fill-rule=\"evenodd\" fill-opacity=\"1\" /><path clip-path=\"url(#clip060)\" d=\"M890.154 1544.91 L906.473 1544.91 L906.473 1548.85 L884.529 1548.85 L884.529 1544.91 Q887.191 1542.16 891.774 1537.53 Q896.381 1532.88 897.561 1531.53 Q899.806 1529.01 900.686 1527.27 Q901.589 1525.51 901.589 1523.82 Q901.589 1521.07 899.644 1519.33 Q897.723 1517.6 894.621 1517.6 Q892.422 1517.6 889.969 1518.36 Q887.538 1519.13 884.76 1520.68 L884.76 1515.95 Q887.584 1514.82 890.038 1514.24 Q892.492 1513.66 894.529 1513.66 Q899.899 1513.66 903.093 1516.35 Q906.288 1519.03 906.288 1523.52 Q906.288 1525.65 905.478 1527.57 Q904.691 1529.47 902.584 1532.07 Q902.005 1532.74 898.904 1535.95 Q895.802 1539.15 890.154 1544.91 Z\" fill=\"#000000\" fill-rule=\"evenodd\" fill-opacity=\"1\" /><path clip-path=\"url(#clip060)\" d=\"M1280.89 1517.37 Q1277.28 1517.37 1275.45 1520.93 Q1273.65 1524.47 1273.65 1531.6 Q1273.65 1538.71 1275.45 1542.27 Q1277.28 1545.82 1280.89 1545.82 Q1284.53 1545.82 1286.33 1542.27 Q1288.16 1538.71 1288.16 1531.6 Q1288.16 1524.47 1286.33 1520.93 Q1284.53 1517.37 1280.89 1517.37 M1280.89 1513.66 Q1286.7 1513.66 1289.76 1518.27 Q1292.84 1522.85 1292.84 1531.6 Q1292.84 1540.33 1289.76 1544.94 Q1286.7 1549.52 1280.89 1549.52 Q1275.08 1549.52 1272 1544.94 Q1268.95 1540.33 1268.95 1531.6 Q1268.95 1522.85 1272 1518.27 Q1275.08 1513.66 1280.89 1513.66 Z\" fill=\"#000000\" fill-rule=\"evenodd\" fill-opacity=\"1\" /><path clip-path=\"url(#clip060)\" d=\"M1680.02 1544.91 L1696.34 1544.91 L1696.34 1548.85 L1674.4 1548.85 L1674.4 1544.91 Q1677.06 1542.16 1681.64 1537.53 Q1686.25 1532.88 1687.43 1531.53 Q1689.67 1529.01 1690.55 1527.27 Q1691.46 1525.51 1691.46 1523.82 Q1691.46 1521.07 1689.51 1519.33 Q1687.59 1517.6 1684.49 1517.6 Q1682.29 1517.6 1679.84 1518.36 Q1677.41 1519.13 1674.63 1520.68 L1674.63 1515.95 Q1677.45 1514.82 1679.91 1514.24 Q1682.36 1513.66 1684.4 1513.66 Q1689.77 1513.66 1692.96 1516.35 Q1696.16 1519.03 1696.16 1523.52 Q1696.16 1525.65 1695.35 1527.57 Q1694.56 1529.47 1692.45 1532.07 Q1691.87 1532.74 1688.77 1535.95 Q1685.67 1539.15 1680.02 1544.91 Z\" fill=\"#000000\" fill-rule=\"evenodd\" fill-opacity=\"1\" /><path clip-path=\"url(#clip060)\" d=\"M2092.86 1518.36 L2081.05 1536.81 L2092.86 1536.81 L2092.86 1518.36 M2091.63 1514.29 L2097.51 1514.29 L2097.51 1536.81 L2102.44 1536.81 L2102.44 1540.7 L2097.51 1540.7 L2097.51 1548.85 L2092.86 1548.85 L2092.86 1540.7 L2077.25 1540.7 L2077.25 1536.19 L2091.63 1514.29 Z\" fill=\"#000000\" fill-rule=\"evenodd\" fill-opacity=\"1\" /><polyline clip-path=\"url(#clip062)\" style=\"stroke:#000000; stroke-linecap:butt; stroke-linejoin:round; stroke-width:2; stroke-opacity:0.1; fill:none\" points=\"\n",
       "  209.029,1309.94 2352.76,1309.94 \n",
       "  \"/>\n",
       "<polyline clip-path=\"url(#clip062)\" style=\"stroke:#000000; stroke-linecap:butt; stroke-linejoin:round; stroke-width:2; stroke-opacity:0.1; fill:none\" points=\"\n",
       "  209.029,1038.39 2352.76,1038.39 \n",
       "  \"/>\n",
       "<polyline clip-path=\"url(#clip062)\" style=\"stroke:#000000; stroke-linecap:butt; stroke-linejoin:round; stroke-width:2; stroke-opacity:0.1; fill:none\" points=\"\n",
       "  209.029,766.846 2352.76,766.846 \n",
       "  \"/>\n",
       "<polyline clip-path=\"url(#clip062)\" style=\"stroke:#000000; stroke-linecap:butt; stroke-linejoin:round; stroke-width:2; stroke-opacity:0.1; fill:none\" points=\"\n",
       "  209.029,495.298 2352.76,495.298 \n",
       "  \"/>\n",
       "<polyline clip-path=\"url(#clip062)\" style=\"stroke:#000000; stroke-linecap:butt; stroke-linejoin:round; stroke-width:2; stroke-opacity:0.1; fill:none\" points=\"\n",
       "  209.029,223.75 2352.76,223.75 \n",
       "  \"/>\n",
       "<polyline clip-path=\"url(#clip060)\" style=\"stroke:#000000; stroke-linecap:butt; stroke-linejoin:round; stroke-width:4; stroke-opacity:1; fill:none\" points=\"\n",
       "  209.029,1486.45 209.029,47.2441 \n",
       "  \"/>\n",
       "<polyline clip-path=\"url(#clip060)\" style=\"stroke:#000000; stroke-linecap:butt; stroke-linejoin:round; stroke-width:4; stroke-opacity:1; fill:none\" points=\"\n",
       "  209.029,1309.94 227.926,1309.94 \n",
       "  \"/>\n",
       "<polyline clip-path=\"url(#clip060)\" style=\"stroke:#000000; stroke-linecap:butt; stroke-linejoin:round; stroke-width:4; stroke-opacity:1; fill:none\" points=\"\n",
       "  209.029,1038.39 227.926,1038.39 \n",
       "  \"/>\n",
       "<polyline clip-path=\"url(#clip060)\" style=\"stroke:#000000; stroke-linecap:butt; stroke-linejoin:round; stroke-width:4; stroke-opacity:1; fill:none\" points=\"\n",
       "  209.029,766.846 227.926,766.846 \n",
       "  \"/>\n",
       "<polyline clip-path=\"url(#clip060)\" style=\"stroke:#000000; stroke-linecap:butt; stroke-linejoin:round; stroke-width:4; stroke-opacity:1; fill:none\" points=\"\n",
       "  209.029,495.298 227.926,495.298 \n",
       "  \"/>\n",
       "<polyline clip-path=\"url(#clip060)\" style=\"stroke:#000000; stroke-linecap:butt; stroke-linejoin:round; stroke-width:4; stroke-opacity:1; fill:none\" points=\"\n",
       "  209.029,223.75 227.926,223.75 \n",
       "  \"/>\n",
       "<path clip-path=\"url(#clip060)\" d=\"M50.9921 1310.39 L80.6679 1310.39 L80.6679 1314.33 L50.9921 1314.33 L50.9921 1310.39 Z\" fill=\"#000000\" fill-rule=\"evenodd\" fill-opacity=\"1\" /><path clip-path=\"url(#clip060)\" d=\"M91.5706 1323.29 L99.2095 1323.29 L99.2095 1296.92 L90.8993 1298.59 L90.8993 1294.33 L99.1632 1292.66 L103.839 1292.66 L103.839 1323.29 L111.478 1323.29 L111.478 1327.22 L91.5706 1327.22 L91.5706 1323.29 Z\" fill=\"#000000\" fill-rule=\"evenodd\" fill-opacity=\"1\" /><path clip-path=\"url(#clip060)\" d=\"M130.922 1295.74 Q127.311 1295.74 125.482 1299.31 Q123.677 1302.85 123.677 1309.98 Q123.677 1317.08 125.482 1320.65 Q127.311 1324.19 130.922 1324.19 Q134.556 1324.19 136.362 1320.65 Q138.191 1317.08 138.191 1309.98 Q138.191 1302.85 136.362 1299.31 Q134.556 1295.74 130.922 1295.74 M130.922 1292.04 Q136.732 1292.04 139.788 1296.64 Q142.867 1301.23 142.867 1309.98 Q142.867 1318.7 139.788 1323.31 Q136.732 1327.89 130.922 1327.89 Q125.112 1327.89 122.033 1323.31 Q118.978 1318.7 118.978 1309.98 Q118.978 1301.23 122.033 1296.64 Q125.112 1292.04 130.922 1292.04 Z\" fill=\"#000000\" fill-rule=\"evenodd\" fill-opacity=\"1\" /><path clip-path=\"url(#clip060)\" d=\"M161.084 1295.74 Q157.473 1295.74 155.644 1299.31 Q153.839 1302.85 153.839 1309.98 Q153.839 1317.08 155.644 1320.65 Q157.473 1324.19 161.084 1324.19 Q164.718 1324.19 166.524 1320.65 Q168.353 1317.08 168.353 1309.98 Q168.353 1302.85 166.524 1299.31 Q164.718 1295.74 161.084 1295.74 M161.084 1292.04 Q166.894 1292.04 169.95 1296.64 Q173.029 1301.23 173.029 1309.98 Q173.029 1318.7 169.95 1323.31 Q166.894 1327.89 161.084 1327.89 Q155.274 1327.89 152.195 1323.31 Q149.14 1318.7 149.14 1309.98 Q149.14 1301.23 152.195 1296.64 Q155.274 1292.04 161.084 1292.04 Z\" fill=\"#000000\" fill-rule=\"evenodd\" fill-opacity=\"1\" /><path clip-path=\"url(#clip060)\" d=\"M81.154 1038.85 L110.83 1038.85 L110.83 1042.78 L81.154 1042.78 L81.154 1038.85 Z\" fill=\"#000000\" fill-rule=\"evenodd\" fill-opacity=\"1\" /><path clip-path=\"url(#clip060)\" d=\"M120.969 1021.11 L139.325 1021.11 L139.325 1025.05 L125.251 1025.05 L125.251 1033.52 Q126.27 1033.17 127.288 1033.01 Q128.307 1032.83 129.325 1032.83 Q135.112 1032.83 138.492 1036 Q141.871 1039.17 141.871 1044.59 Q141.871 1050.16 138.399 1053.27 Q134.927 1056.35 128.607 1056.35 Q126.432 1056.35 124.163 1055.97 Q121.918 1055.6 119.51 1054.86 L119.51 1050.16 Q121.594 1051.3 123.816 1051.85 Q126.038 1052.41 128.515 1052.41 Q132.519 1052.41 134.857 1050.3 Q137.195 1048.2 137.195 1044.59 Q137.195 1040.97 134.857 1038.87 Q132.519 1036.76 128.515 1036.76 Q126.64 1036.76 124.765 1037.18 Q122.913 1037.6 120.969 1038.47 L120.969 1021.11 Z\" fill=\"#000000\" fill-rule=\"evenodd\" fill-opacity=\"1\" /><path clip-path=\"url(#clip060)\" d=\"M161.084 1024.19 Q157.473 1024.19 155.644 1027.76 Q153.839 1031.3 153.839 1038.43 Q153.839 1045.54 155.644 1049.1 Q157.473 1052.64 161.084 1052.64 Q164.718 1052.64 166.524 1049.1 Q168.353 1045.54 168.353 1038.43 Q168.353 1031.3 166.524 1027.76 Q164.718 1024.19 161.084 1024.19 M161.084 1020.49 Q166.894 1020.49 169.95 1025.1 Q173.029 1029.68 173.029 1038.43 Q173.029 1047.16 169.95 1051.76 Q166.894 1056.35 161.084 1056.35 Q155.274 1056.35 152.195 1051.76 Q149.14 1047.16 149.14 1038.43 Q149.14 1029.68 152.195 1025.1 Q155.274 1020.49 161.084 1020.49 Z\" fill=\"#000000\" fill-rule=\"evenodd\" fill-opacity=\"1\" /><path clip-path=\"url(#clip060)\" d=\"M161.084 752.645 Q157.473 752.645 155.644 756.209 Q153.839 759.751 153.839 766.881 Q153.839 773.987 155.644 777.552 Q157.473 781.094 161.084 781.094 Q164.718 781.094 166.524 777.552 Q168.353 773.987 168.353 766.881 Q168.353 759.751 166.524 756.209 Q164.718 752.645 161.084 752.645 M161.084 748.941 Q166.894 748.941 169.95 753.547 Q173.029 758.131 173.029 766.881 Q173.029 775.608 169.95 780.214 Q166.894 784.797 161.084 784.797 Q155.274 784.797 152.195 780.214 Q149.14 775.608 149.14 766.881 Q149.14 758.131 152.195 753.547 Q155.274 748.941 161.084 748.941 Z\" fill=\"#000000\" fill-rule=\"evenodd\" fill-opacity=\"1\" /><path clip-path=\"url(#clip060)\" d=\"M120.969 478.018 L139.325 478.018 L139.325 481.953 L125.251 481.953 L125.251 490.425 Q126.27 490.078 127.288 489.916 Q128.307 489.731 129.325 489.731 Q135.112 489.731 138.492 492.902 Q141.871 496.074 141.871 501.49 Q141.871 507.069 138.399 510.171 Q134.927 513.249 128.607 513.249 Q126.432 513.249 124.163 512.879 Q121.918 512.509 119.51 511.768 L119.51 507.069 Q121.594 508.203 123.816 508.759 Q126.038 509.314 128.515 509.314 Q132.519 509.314 134.857 507.208 Q137.195 505.101 137.195 501.49 Q137.195 497.879 134.857 495.773 Q132.519 493.666 128.515 493.666 Q126.64 493.666 124.765 494.083 Q122.913 494.499 120.969 495.379 L120.969 478.018 Z\" fill=\"#000000\" fill-rule=\"evenodd\" fill-opacity=\"1\" /><path clip-path=\"url(#clip060)\" d=\"M161.084 481.097 Q157.473 481.097 155.644 484.662 Q153.839 488.203 153.839 495.333 Q153.839 502.439 155.644 506.004 Q157.473 509.546 161.084 509.546 Q164.718 509.546 166.524 506.004 Q168.353 502.439 168.353 495.333 Q168.353 488.203 166.524 484.662 Q164.718 481.097 161.084 481.097 M161.084 477.393 Q166.894 477.393 169.95 482 Q173.029 486.583 173.029 495.333 Q173.029 504.06 169.95 508.666 Q166.894 513.249 161.084 513.249 Q155.274 513.249 152.195 508.666 Q149.14 504.06 149.14 495.333 Q149.14 486.583 152.195 482 Q155.274 477.393 161.084 477.393 Z\" fill=\"#000000\" fill-rule=\"evenodd\" fill-opacity=\"1\" /><path clip-path=\"url(#clip060)\" d=\"M91.5706 237.095 L99.2095 237.095 L99.2095 210.729 L90.8993 212.396 L90.8993 208.137 L99.1632 206.47 L103.839 206.47 L103.839 237.095 L111.478 237.095 L111.478 241.03 L91.5706 241.03 L91.5706 237.095 Z\" fill=\"#000000\" fill-rule=\"evenodd\" fill-opacity=\"1\" /><path clip-path=\"url(#clip060)\" d=\"M130.922 209.549 Q127.311 209.549 125.482 213.114 Q123.677 216.655 123.677 223.785 Q123.677 230.891 125.482 234.456 Q127.311 237.998 130.922 237.998 Q134.556 237.998 136.362 234.456 Q138.191 230.891 138.191 223.785 Q138.191 216.655 136.362 213.114 Q134.556 209.549 130.922 209.549 M130.922 205.845 Q136.732 205.845 139.788 210.452 Q142.867 215.035 142.867 223.785 Q142.867 232.512 139.788 237.118 Q136.732 241.702 130.922 241.702 Q125.112 241.702 122.033 237.118 Q118.978 232.512 118.978 223.785 Q118.978 215.035 122.033 210.452 Q125.112 205.845 130.922 205.845 Z\" fill=\"#000000\" fill-rule=\"evenodd\" fill-opacity=\"1\" /><path clip-path=\"url(#clip060)\" d=\"M161.084 209.549 Q157.473 209.549 155.644 213.114 Q153.839 216.655 153.839 223.785 Q153.839 230.891 155.644 234.456 Q157.473 237.998 161.084 237.998 Q164.718 237.998 166.524 234.456 Q168.353 230.891 168.353 223.785 Q168.353 216.655 166.524 213.114 Q164.718 209.549 161.084 209.549 M161.084 205.845 Q166.894 205.845 169.95 210.452 Q173.029 215.035 173.029 223.785 Q173.029 232.512 169.95 237.118 Q166.894 241.702 161.084 241.702 Q155.274 241.702 152.195 237.118 Q149.14 232.512 149.14 223.785 Q149.14 215.035 152.195 210.452 Q155.274 205.845 161.084 205.845 Z\" fill=\"#000000\" fill-rule=\"evenodd\" fill-opacity=\"1\" /><polyline clip-path=\"url(#clip062)\" style=\"stroke:#009af9; stroke-linecap:butt; stroke-linejoin:round; stroke-width:4; stroke-opacity:1; fill:none\" points=\"\n",
       "  269.7,1445.72 310.973,1365.94 352.246,1292.66 393.519,1225.63 434.793,1164.54 476.066,1109.13 517.339,1059.13 558.612,1014.25 599.885,974.213 641.158,938.749 \n",
       "  682.432,907.578 723.705,880.423 764.978,857.007 806.251,837.053 847.524,820.285 888.797,806.424 930.07,795.195 971.344,786.321 1012.62,779.523 1053.89,774.526 \n",
       "  1095.16,771.053 1136.44,768.825 1177.71,767.567 1218.98,767.002 1260.26,766.852 1301.53,766.84 1342.8,766.69 1384.08,766.125 1425.35,764.867 1466.62,762.639 \n",
       "  1507.89,759.166 1549.17,754.169 1590.44,747.371 1631.71,738.497 1672.99,727.268 1714.26,713.407 1755.53,696.639 1796.81,676.685 1838.08,653.269 1879.35,626.114 \n",
       "  1920.63,594.943 1961.9,559.479 2003.17,519.444 2044.45,474.563 2085.72,424.558 2126.99,369.151 2168.26,308.067 2209.54,241.028 2250.81,167.756 2292.08,87.9763 \n",
       "  \n",
       "  \"/>\n",
       "<polyline clip-path=\"url(#clip062)\" style=\"stroke:#e26f46; stroke-linecap:butt; stroke-linejoin:round; stroke-width:4; stroke-opacity:1; fill:none\" points=\"\n",
       "  269.7,631.072 310.973,641.929 352.246,652.334 393.519,662.287 434.793,671.787 476.066,680.835 517.339,689.431 558.612,697.574 599.885,705.264 641.158,712.502 \n",
       "  682.432,719.288 723.705,725.622 764.978,731.503 806.251,736.932 847.524,741.908 888.797,746.432 930.07,750.503 971.344,754.122 1012.62,757.289 1053.89,760.004 \n",
       "  1095.16,762.266 1136.44,764.075 1177.71,765.432 1218.98,766.337 1260.26,766.789 1301.53,766.789 1342.8,766.337 1384.08,765.432 1425.35,764.075 1466.62,762.266 \n",
       "  1507.89,760.004 1549.17,757.289 1590.44,754.122 1631.71,750.503 1672.99,746.432 1714.26,741.908 1755.53,736.932 1796.81,731.503 1838.08,725.622 1879.35,719.288 \n",
       "  1920.63,712.502 1961.9,705.264 2003.17,697.574 2044.45,689.431 2085.72,680.835 2126.99,671.787 2168.26,662.287 2209.54,652.334 2250.81,641.929 2292.08,631.072 \n",
       "  \n",
       "  \"/>\n",
       "<polyline clip-path=\"url(#clip062)\" style=\"stroke:#3da44d; stroke-linecap:butt; stroke-linejoin:round; stroke-width:4; stroke-opacity:1; fill:none\" points=\"\n",
       "  269.7,780.423 310.973,779.869 352.246,779.315 393.519,778.761 434.793,778.207 476.066,777.652 517.339,777.098 558.612,776.544 599.885,775.99 641.158,775.436 \n",
       "  682.432,774.882 723.705,774.327 764.978,773.773 806.251,773.219 847.524,772.665 888.797,772.111 930.07,771.557 971.344,771.002 1012.62,770.448 1053.89,769.894 \n",
       "  1095.16,769.34 1136.44,768.786 1177.71,768.231 1218.98,767.677 1260.26,767.123 1301.53,766.569 1342.8,766.015 1384.08,765.461 1425.35,764.906 1466.62,764.352 \n",
       "  1507.89,763.798 1549.17,763.244 1590.44,762.69 1631.71,762.135 1672.99,761.581 1714.26,761.027 1755.53,760.473 1796.81,759.919 1838.08,759.365 1879.35,758.81 \n",
       "  1920.63,758.256 1961.9,757.702 2003.17,757.148 2044.45,756.594 2085.72,756.039 2126.99,755.485 2168.26,754.931 2209.54,754.377 2250.81,753.823 2292.08,753.269 \n",
       "  \n",
       "  \"/>\n",
       "<path clip-path=\"url(#clip060)\" d=\"\n",
       "M1990.1 302.578 L2281.3 302.578 L2281.3 95.2176 L1990.1 95.2176  Z\n",
       "  \" fill=\"#ffffff\" fill-rule=\"evenodd\" fill-opacity=\"1\"/>\n",
       "<polyline clip-path=\"url(#clip060)\" style=\"stroke:#000000; stroke-linecap:butt; stroke-linejoin:round; stroke-width:4; stroke-opacity:1; fill:none\" points=\"\n",
       "  1990.1,302.578 2281.3,302.578 2281.3,95.2176 1990.1,95.2176 1990.1,302.578 \n",
       "  \"/>\n",
       "<polyline clip-path=\"url(#clip060)\" style=\"stroke:#009af9; stroke-linecap:butt; stroke-linejoin:round; stroke-width:4; stroke-opacity:1; fill:none\" points=\"\n",
       "  2013.92,147.058 2156.83,147.058 \n",
       "  \"/>\n",
       "<path clip-path=\"url(#clip060)\" d=\"M2194.49 166.745 Q2192.69 171.375 2190.97 172.787 Q2189.26 174.199 2186.39 174.199 L2182.99 174.199 L2182.99 170.634 L2185.49 170.634 Q2187.25 170.634 2188.22 169.8 Q2189.19 168.967 2190.37 165.865 L2191.14 163.921 L2180.65 138.412 L2185.16 138.412 L2193.27 158.689 L2201.37 138.412 L2205.88 138.412 L2194.49 166.745 Z\" fill=\"#000000\" fill-rule=\"evenodd\" fill-opacity=\"1\" /><path clip-path=\"url(#clip060)\" d=\"M2213.17 160.402 L2220.81 160.402 L2220.81 134.037 L2212.5 135.703 L2212.5 131.444 L2220.77 129.778 L2225.44 129.778 L2225.44 160.402 L2233.08 160.402 L2233.08 164.338 L2213.17 164.338 L2213.17 160.402 Z\" fill=\"#000000\" fill-rule=\"evenodd\" fill-opacity=\"1\" /><polyline clip-path=\"url(#clip060)\" style=\"stroke:#e26f46; stroke-linecap:butt; stroke-linejoin:round; stroke-width:4; stroke-opacity:1; fill:none\" points=\"\n",
       "  2013.92,198.898 2156.83,198.898 \n",
       "  \"/>\n",
       "<path clip-path=\"url(#clip060)\" d=\"M2194.49 218.585 Q2192.69 223.215 2190.97 224.627 Q2189.26 226.039 2186.39 226.039 L2182.99 226.039 L2182.99 222.474 L2185.49 222.474 Q2187.25 222.474 2188.22 221.64 Q2189.19 220.807 2190.37 217.705 L2191.14 215.761 L2180.65 190.252 L2185.16 190.252 L2193.27 210.529 L2201.37 190.252 L2205.88 190.252 L2194.49 218.585 Z\" fill=\"#000000\" fill-rule=\"evenodd\" fill-opacity=\"1\" /><path clip-path=\"url(#clip060)\" d=\"M2216.39 212.242 L2232.71 212.242 L2232.71 216.178 L2210.77 216.178 L2210.77 212.242 Q2213.43 209.488 2218.01 204.858 Q2222.62 200.205 2223.8 198.863 Q2226.04 196.34 2226.92 194.604 Q2227.83 192.844 2227.83 191.155 Q2227.83 188.4 2225.88 186.664 Q2223.96 184.928 2220.86 184.928 Q2218.66 184.928 2216.21 185.692 Q2213.78 186.455 2211 188.006 L2211 183.284 Q2213.82 182.15 2216.28 181.571 Q2218.73 180.993 2220.77 180.993 Q2226.14 180.993 2229.33 183.678 Q2232.53 186.363 2232.53 190.854 Q2232.53 192.983 2231.72 194.905 Q2230.93 196.803 2228.82 199.395 Q2228.24 200.067 2225.14 203.284 Q2222.04 206.479 2216.39 212.242 Z\" fill=\"#000000\" fill-rule=\"evenodd\" fill-opacity=\"1\" /><polyline clip-path=\"url(#clip060)\" style=\"stroke:#3da44d; stroke-linecap:butt; stroke-linejoin:round; stroke-width:4; stroke-opacity:1; fill:none\" points=\"\n",
       "  2013.92,250.738 2156.83,250.738 \n",
       "  \"/>\n",
       "<path clip-path=\"url(#clip060)\" d=\"M2194.49 270.425 Q2192.69 275.055 2190.97 276.467 Q2189.26 277.879 2186.39 277.879 L2182.99 277.879 L2182.99 274.314 L2185.49 274.314 Q2187.25 274.314 2188.22 273.48 Q2189.19 272.647 2190.37 269.545 L2191.14 267.601 L2180.65 242.092 L2185.16 242.092 L2193.27 262.369 L2201.37 242.092 L2205.88 242.092 L2194.49 270.425 Z\" fill=\"#000000\" fill-rule=\"evenodd\" fill-opacity=\"1\" /><path clip-path=\"url(#clip060)\" d=\"M2226.53 249.383 Q2229.89 250.101 2231.76 252.369 Q2233.66 254.638 2233.66 257.971 Q2233.66 263.087 2230.14 265.888 Q2226.62 268.689 2220.14 268.689 Q2217.97 268.689 2215.65 268.249 Q2213.36 267.832 2210.91 266.976 L2210.91 262.462 Q2212.85 263.596 2215.16 264.175 Q2217.48 264.754 2220 264.754 Q2224.4 264.754 2226.69 263.018 Q2229.01 261.281 2229.01 257.971 Q2229.01 254.916 2226.85 253.203 Q2224.72 251.467 2220.91 251.467 L2216.88 251.467 L2216.88 247.624 L2221.09 247.624 Q2224.54 247.624 2226.37 246.258 Q2228.2 244.87 2228.2 242.277 Q2228.2 239.615 2226.3 238.203 Q2224.42 236.768 2220.91 236.768 Q2218.98 236.768 2216.79 237.184 Q2214.59 237.601 2211.95 238.481 L2211.95 234.314 Q2214.61 233.573 2216.92 233.203 Q2219.26 232.833 2221.32 232.833 Q2226.65 232.833 2229.75 235.263 Q2232.85 237.67 2232.85 241.791 Q2232.85 244.661 2231.21 246.652 Q2229.56 248.62 2226.53 249.383 Z\" fill=\"#000000\" fill-rule=\"evenodd\" fill-opacity=\"1\" /></svg>\n"
      ]
     },
     "execution_count": 7,
     "metadata": {},
     "output_type": "execute_result"
    }
   ],
   "source": [
    "plot(x, x.^3)\n",
    "plot!(x, x.^2)\n",
    "plot!(x, 1/2*x)"
   ]
  },
  {
   "cell_type": "markdown",
   "id": "603d662b-aed9-4d59-a9dd-55c55ac1a0e6",
   "metadata": {},
   "source": [
    "## Animated plots + help with functions\n",
    "\n",
    "I found this awesome animated gif of a sine+cosine moving camera+tracking line. There were a bunch of plot calls, but one function stood out, `@gif`. I hadn't seen a MATLAB/Python equivalent so I ran the code to get the gif. _Success_."
   ]
  },
  {
   "cell_type": "code",
   "execution_count": null,
   "id": "a386e263-52c8-491c-a470-0442db28b184",
   "metadata": {},
   "outputs": [],
   "source": [
    "default(legend = false)\n",
    "x = y = range(-5, 5, length = 40)\n",
    "zs = zeros(0, 40)\n",
    "n = 100\n",
    "\n",
    "@gif for i in range(0, stop = 2π, length = n)\n",
    "    f(x, y) = sin(x + 10sin(i)) + cos(y)\n",
    "\n",
    "    # create a plot with 3 subplots and a custom layout\n",
    "    l = @layout [a{0.7w} b; c{0.2h}]\n",
    "    p = plot(x, y, f, st = [:surface, :contourf], layout = l)\n",
    "\n",
    "    # induce a slight oscillating camera angle sweep, in degrees (azimuth, altitude)\n",
    "    plot!(p[1], camera = (10 * (1 + cos(i)), 40))\n",
    "\n",
    "    # add a tracking line\n",
    "    fixed_x = zeros(40)\n",
    "    z = map(f, fixed_x, y)\n",
    "    plot!(p[1], fixed_x, y, z, line = (:black, 5, 0.2))\n",
    "    vline!(p[2], [0], line = (:black, 5))\n",
    "\n",
    "    # add to and show the tracked values over time\n",
    "    global zs = vcat(zs, z')\n",
    "    plot!(p[3], zs, alpha = 0.2, palette = cgrad(:blues).colors)\n",
    "end"
   ]
  },
  {
   "cell_type": "markdown",
   "id": "d291c1cf-041b-4bd7-80ab-ef67c395180a",
   "metadata": {},
   "source": [
    "A couple things stood out in the example I found. \n",
    "1. Multiplication was implied, e.g. `2pi` and `10sin`. I don't know if can bring myself to write code this way, but it would help avoid _a lot_ of first-time programmer errors. \n",
    "2. The `linspace` equivalent is just `range(start, stop, length = <>)`. This is nice because it can be taxing to jump back-and-forth between `range` and `linspace`. \n",
    "2. Anonymous functions are so straight-forward: `f(x, y) =...` creates a 2-input function. It feels so natural and lovely. \n",
    "3. The `@gif` function appears to be do some sort of magic. There's an iterator `i` that goes from $0-2\\pi$ and I'm guessing it grabs whatever plots are defined inside the loop and squishing them into one glorious gif. \n",
    "\n",
    "Time to check the docs. This took me a couple tries, but I found the [Accessing documentation](https://docs.julialang.org/en/v1/manual/documentation/#Accessing-Documentation) on docs.julialang.org."
   ]
  },
  {
   "cell_type": "code",
   "execution_count": null,
   "id": "2c7face1-8d9e-4ae7-a9b1-39ea0cf89510",
   "metadata": {},
   "outputs": [],
   "source": [
    "?@gif"
   ]
  },
  {
   "cell_type": "markdown",
   "id": "079eef69-e187-4054-9760-7d797d668356",
   "metadata": {},
   "source": [
    "Cool! Check out the example given"
   ]
  },
  {
   "cell_type": "code",
   "execution_count": null,
   "id": "ed523b6f-8a28-4cbc-95fd-7fa8acd7b1f7",
   "metadata": {},
   "outputs": [],
   "source": [
    "p = plot(1)\n",
    "@gif for x=0:0.1:4pi\n",
    "push!(p, 1, sin(x))\n",
    "end"
   ]
  },
  {
   "cell_type": "code",
   "execution_count": null,
   "id": "b5e1051d-08a1-4e74-a6d0-29c41406de81",
   "metadata": {},
   "outputs": [],
   "source": [
    "?push!"
   ]
  },
  {
   "cell_type": "markdown",
   "id": "5261e240-e573-4df3-b92e-9d02ae51c34f",
   "metadata": {},
   "source": [
    "## Wrapping up\n",
    "\n",
    "Great second day of Julia work. I'm interested to dive into the objects and functions `plot` and `push`. They are so useful, but I don't really understand how they speak to each other right now. That `@gif` function would be **so** useful in MATLAB/Matplotlib. Its such an intuitive way to create an animation that is easy to share and display."
   ]
  }
 ],
 "metadata": {
  "jupytext": {
   "formats": "ipynb,md:myst"
  },
  "kernelspec": {
   "display_name": "Julia 1.7.2",
   "language": "julia",
   "name": "julia-1.7"
  },
  "language_info": {
   "file_extension": ".jl",
   "mimetype": "application/julia",
   "name": "julia",
   "version": "1.7.2"
  }
 },
 "nbformat": 4,
 "nbformat_minor": 5
}
