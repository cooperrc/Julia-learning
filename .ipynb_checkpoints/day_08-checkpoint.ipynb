{
 "cells": [
  {
   "cell_type": "markdown",
   "id": "49b925af",
   "metadata": {},
   "source": [
    "# Day_07 - Julia's `Symbolics`: Computer Algebra System\n",
    "## Let the computer do the hard work\n",
    "\n",
    "The double-pendulum from [Day_06](./day_06.md) was a great success. I got some experience building differential equations, pseudo-benchmarking some results, and building some excellent animations. One of the tough parts of physical simulations is getting all the math worked out correctly. Its satisfying to eliminate terms and come up with a final equation of motion, kind of like a Sudoku puzzle or Wordle game, but it takes time. When you start the next problem, you're back to square one. \n",
    "\n",
    "## Enter [Computer Algebra Systems](https://en.wikipedia.org/wiki/Computer_algebra_system)\n",
    "\n",
    "Computer Algebra Systems (CAS) allow you to create objects that follow symbolic algebra, calculus, etc. I avoided CAS programs for years because it felt so difficult to get the equations back into a numerical form. As an engineer, I mostly deal with tables, fractions, percents, etc. I don't always need or want an exact function. That's why CFD, FEA, and multibody dynamics are so useful to engineers. \n",
    "\n",
    "## Julia's CAS `using Symbolics`\n",
    "\n",
    "There are some great examples on [Symbolics.jl documentation](https://symbolics.juliasymbolics.org/stable/tutorials/symbolic_functions). Here, I want to\n",
    "1. build some simple sets of functions\n",
    "2. take some derivatives\n",
    "3. create a callable numerical function (not a CAS object)"
   ]
  },
  {
   "cell_type": "code",
   "execution_count": 125,
   "id": "67c77f65",
   "metadata": {},
   "outputs": [
    {
     "data": {
      "text/latex": [
       "\\begin{equation}\n",
       "\\left[\n",
       "\\begin{array}{c}\n",
       "t \\\\\n",
       "\\mathrm{x{_1}}\\left( t \\right) \\\\\n",
       "\\mathrm{x{_2}}\\left( t \\right) \\\\\n",
       "k{_1} \\\\\n",
       "k{_2} \\\\\n",
       "m \\\\\n",
       "\\end{array}\n",
       "\\right]\n",
       "\\end{equation}\n"
      ],
      "text/plain": [
       "6-element Vector{Num}:\n",
       "     t\n",
       " x₁(t)\n",
       " x₂(t)\n",
       "    k₁\n",
       "    k₂\n",
       "     m"
      ]
     },
     "execution_count": 125,
     "metadata": {},
     "output_type": "execute_result"
    }
   ],
   "source": [
    "using Symbolics\n",
    "@variables t x₁(t) x₂(t) k₁ k₂ m #<------ \"vectorized variables, k[1], k[2]"
   ]
  },
  {
   "cell_type": "code",
   "execution_count": 126,
   "id": "e5454ef1",
   "metadata": {},
   "outputs": [
    {
     "data": {
      "text/latex": [
       "\\begin{equation}\n",
       "\\mathrm{x{_1}}\\left( t \\right)\n",
       "\\end{equation}\n"
      ],
      "text/plain": [
       "x₁(t)"
      ]
     },
     "execution_count": 126,
     "metadata": {},
     "output_type": "execute_result"
    }
   ],
   "source": [
    "x₁"
   ]
  },
  {
   "cell_type": "code",
   "execution_count": 127,
   "id": "780ee368",
   "metadata": {},
   "outputs": [
    {
     "data": {
      "text/plain": [
       "(::Differential) (generic function with 2 methods)"
      ]
     },
     "execution_count": 127,
     "metadata": {},
     "output_type": "execute_result"
    }
   ],
   "source": [
    "D = Differential(t)"
   ]
  },
  {
   "cell_type": "code",
   "execution_count": 128,
   "id": "5614200f",
   "metadata": {},
   "outputs": [
    {
     "data": {
      "text/latex": [
       "\\begin{equation}\n",
       "\\left[\n",
       "\\begin{array}{cc}\n",
       "k{_1} & k{_2} \\\\\n",
       "\\end{array}\n",
       "\\right]\n",
       "\\end{equation}\n"
      ],
      "text/plain": [
       "1×2 Matrix{Num}:\n",
       " k₁  k₂"
      ]
     },
     "execution_count": 128,
     "metadata": {},
     "output_type": "execute_result"
    }
   ],
   "source": [
    "x = [x₁ x₂]\n",
    "k = [k₁ k₂]"
   ]
  },
  {
   "cell_type": "code",
   "execution_count": 129,
   "id": "fb0ec37b",
   "metadata": {},
   "outputs": [
    {
     "data": {
      "text/latex": [
       "\\begin{equation}\n",
       "\\left[\n",
       "\\begin{array}{cc}\n",
       "\\mathrm{\\frac{d}{d t}}\\left( \\frac{dx{_1}(t)}{dt} \\right) & \\mathrm{\\frac{d}{d t}}\\left( \\frac{dx{_2}(t)}{dt} \\right) \\\\\n",
       "\\end{array}\n",
       "\\right]\n",
       "\\end{equation}\n"
      ],
      "text/plain": [
       "1×2 Matrix{Num}:\n",
       " Differential(t)(Differential(t)(x₁(t)))  …  Differential(t)(Differential(t)(x₂(t)))"
      ]
     },
     "execution_count": 129,
     "metadata": {},
     "output_type": "execute_result"
    }
   ],
   "source": [
    "dx = D.(x)\n",
    "ddx = D.(dx)"
   ]
  },
  {
   "cell_type": "code",
   "execution_count": 130,
   "id": "20f4d323",
   "metadata": {},
   "outputs": [
    {
     "data": {
      "text/latex": [
       "\\begin{equation}\n",
       " - 0.5 \\left( \\mathrm{x{_1}}\\left( t \\right) \\right)^{2} k{_1} - 0.5 \\left(  - \\mathrm{x{_1}}\\left( t \\right) + \\mathrm{x{_2}}\\left( t \\right) \\right)^{2} k{_2} + 0.5 \\left( \\frac{dx{_1}(t)}{dt} \\right)^{2} m + 0.5 \\left( \\frac{dx{_2}(t)}{dt} \\right)^{2} m\n",
       "\\end{equation}\n"
      ],
      "text/plain": [
       "0.5m*(Differential(t)(x₁(t))^2) + 0.5m*(Differential(t)(x₂(t))^2) - 0.5k₁*(x₁(t)^2) - 0.5k₂*((x₂(t) - x₁(t))^2)"
      ]
     },
     "execution_count": 130,
     "metadata": {},
     "output_type": "execute_result"
    }
   ],
   "source": [
    "Lsum = 1/2*m*dx[1]^2 + 1/2*m*dx[2]^2 - 1/2*k[1]*x[1]^2 - 1/2*k[2]*(x[2]-x[1])^2# + x[1]^2 - 2*x[2]*x[1]) # <----- input here\n"
   ]
  },
  {
   "cell_type": "code",
   "execution_count": 131,
   "id": "153a962f",
   "metadata": {},
   "outputs": [
    {
     "data": {
      "text/plain": [
       "1×2 Matrix{Differential}:\n",
       " Differential(Differential(t)(Differential(t)(x₁(t))))  …  Differential(Differential(t)(Differential(t)(x₂(t))))"
      ]
     },
     "execution_count": 131,
     "metadata": {},
     "output_type": "execute_result"
    }
   ],
   "source": [
    "d_x = [Differential(xi) for xi in x]\n",
    "d_dx = [Differential(dxi) for dxi in dx]\n",
    "d_ddx = [Differential(ddxi) for ddxi in ddx]"
   ]
  },
  {
   "cell_type": "code",
   "execution_count": 132,
   "id": "e7e2b4e8",
   "metadata": {},
   "outputs": [
    {
     "data": {
      "text/latex": [
       "\\begin{equation}\n",
       " - 0.5 k{_2} \\left( 2 \\mathrm{x{_1}}\\left( t \\right) - 2 \\mathrm{x{_2}}\\left( t \\right) \\right) - k{_1} \\mathrm{x{_1}}\\left( t \\right)\n",
       "\\end{equation}\n"
      ],
      "text/plain": [
       "-0.5k₂*(2x₁(t) - 2x₂(t)) - k₁*x₁(t)"
      ]
     },
     "execution_count": 132,
     "metadata": {},
     "output_type": "execute_result"
    }
   ],
   "source": [
    "expand_derivatives(d_x[1](Lsum))\n"
   ]
  },
  {
   "cell_type": "code",
   "execution_count": 133,
   "id": "7956f26f",
   "metadata": {},
   "outputs": [
    {
     "data": {
      "text/latex": [
       "\\begin{equation}\n",
       "m \\mathrm{\\frac{d}{d t}}\\left( \\frac{dx{_1}(t)}{dt} \\right)\n",
       "\\end{equation}\n"
      ],
      "text/plain": [
       "m*Differential(t)(Differential(t)(x₁(t)))"
      ]
     },
     "execution_count": 133,
     "metadata": {},
     "output_type": "execute_result"
    }
   ],
   "source": [
    "expand_derivatives(D(d_dx[1](Lsum)))\n"
   ]
  },
  {
   "cell_type": "code",
   "execution_count": 134,
   "id": "5ec3fb8a",
   "metadata": {},
   "outputs": [
    {
     "data": {
      "text/latex": [
       "\\begin{equation}\n",
       "\\left[\n",
       "\\begin{array}{cc}\n",
       "m & 0 \\\\\n",
       "0 & m \\\\\n",
       "\\end{array}\n",
       "\\right]\n",
       "\\end{equation}\n"
      ],
      "text/plain": [
       "2×2 Matrix{Num}:\n",
       " m  0\n",
       " 0  m"
      ]
     },
     "execution_count": 134,
     "metadata": {},
     "output_type": "execute_result"
    }
   ],
   "source": [
    "eoms = [expand_derivatives(D(d_dx[i](Lsum)) - d_x[i](Lsum)) for i in range(1, 2)]\n",
    "\n",
    "M = [expand_derivatives(d_ddx[i](eoms[j])) for i in range(1, 2) for j in range(1, 2)]\n",
    "\n",
    "reshape(M, 2,2)"
   ]
  },
  {
   "cell_type": "code",
   "execution_count": 135,
   "id": "60ce2002",
   "metadata": {},
   "outputs": [
    {
     "data": {
      "text/latex": [
       "\\begin{equation}\n",
       "\\left[\n",
       "\\begin{array}{c}\n",
       "k{_1} \\mathrm{x{_1}}\\left( t \\right) + m \\mathrm{\\frac{d}{d t}}\\left( \\frac{dx{_1}(t)}{dt} \\right) + 0.5 k{_2} \\left( 2 \\mathrm{x{_1}}\\left( t \\right) - 2 \\mathrm{x{_2}}\\left( t \\right) \\right) \\\\\n",
       "m \\mathrm{\\frac{d}{d t}}\\left( \\frac{dx{_2}(t)}{dt} \\right) + 0.5 k{_2} \\left(  - 2 \\mathrm{x{_1}}\\left( t \\right) + 2 \\mathrm{x{_2}}\\left( t \\right) \\right) \\\\\n",
       "\\end{array}\n",
       "\\right]\n",
       "\\end{equation}\n"
      ],
      "text/plain": [
       "2-element Vector{Num}:\n",
       " k₁*x₁(t) + m*Differential(t)(Differential(t)(x₁(t))) + 0.5k₂*(2x₁(t) - 2x₂(t))\n",
       "            m*Differential(t)(Differential(t)(x₂(t))) + 0.5k₂*(2x₂(t) - 2x₁(t))"
      ]
     },
     "execution_count": 135,
     "metadata": {},
     "output_type": "execute_result"
    }
   ],
   "source": [
    "eoms"
   ]
  },
  {
   "cell_type": "code",
   "execution_count": 136,
   "id": "462e9060",
   "metadata": {},
   "outputs": [
    {
     "data": {
      "text/latex": [
       "\\begin{equation}\n",
       "\\left[\n",
       "\\begin{array}{cc}\n",
       "k{_1} + k{_2} &  - k{_2} \\\\\n",
       " - k{_2} & k{_2} \\\\\n",
       "\\end{array}\n",
       "\\right]\n",
       "\\end{equation}\n"
      ],
      "text/plain": [
       "2×2 Matrix{Num}:\n",
       " k₁ + k₂  -k₂\n",
       "     -k₂   k₂"
      ]
     },
     "execution_count": 136,
     "metadata": {},
     "output_type": "execute_result"
    }
   ],
   "source": [
    "eoms = [expand_derivatives(D(d_dx[i](Lsum)) - d_x[i](Lsum)) for i in range(1, 2)]\n",
    "\n",
    "K = [expand_derivatives(d_x[i](eoms[j])) for i in range(1, 2) for j in range(1, 2)]\n",
    "\n",
    "reshape(K, 2,2)"
   ]
  },
  {
   "cell_type": "code",
   "execution_count": 181,
   "id": "09abada7",
   "metadata": {},
   "outputs": [
    {
     "ename": "LoadError",
     "evalue": "MethodError: no method matching init(::Vector{Num}, ::Matrix{Num})\n\u001b[0mClosest candidates are:\n\u001b[0m  init(\u001b[91m::SciMLBase.DEProblem\u001b[39m, ::Any...; kwargs...) at ~/.julia/packages/DiffEqBase/aELvu/src/solve.jl:32\n\u001b[0m  init(\u001b[91m::LinearProblem\u001b[39m, ::Any...; kwargs...) at ~/.julia/packages/LinearSolve/WU0av/src/common.jl:70",
     "output_type": "error",
     "traceback": [
      "MethodError: no method matching init(::Vector{Num}, ::Matrix{Num})\n\u001b[0mClosest candidates are:\n\u001b[0m  init(\u001b[91m::SciMLBase.DEProblem\u001b[39m, ::Any...; kwargs...) at ~/.julia/packages/DiffEqBase/aELvu/src/solve.jl:32\n\u001b[0m  init(\u001b[91m::LinearProblem\u001b[39m, ::Any...; kwargs...) at ~/.julia/packages/LinearSolve/WU0av/src/common.jl:70",
      "",
      "Stacktrace:",
      " [1] solve(::Vector{Num}, ::Vararg{Any}; kwargs::Base.Pairs{Symbol, Union{}, Tuple{}, NamedTuple{(), Tuple{}}})",
      "   @ CommonSolve ~/.julia/packages/CommonSolve/alZRX/src/CommonSolve.jl:3",
      " [2] solve(::Vector{Num}, ::Matrix{Num})",
      "   @ CommonSolve ~/.julia/packages/CommonSolve/alZRX/src/CommonSolve.jl:3",
      " [3] top-level scope",
      "   @ In[181]:1",
      " [4] eval",
      "   @ ./boot.jl:373 [inlined]",
      " [5] include_string(mapexpr::typeof(REPL.softscope), mod::Module, code::String, filename::String)",
      "   @ Base ./loading.jl:1196"
     ]
    }
   ],
   "source": [
    "Symbolics.solve_for(eoms, ddx)"
   ]
  },
  {
   "cell_type": "code",
   "execution_count": 140,
   "id": "c2339048",
   "metadata": {},
   "outputs": [
    {
     "data": {
      "text/latex": [
       "\\begin{equation}\n",
       "\\left[\n",
       "\\begin{array}{c}\n",
       "m ddq{_1} + k{_1} q{_1} + 0.5 k{_2} \\left( 2 q{_1} - 2 q{_2} \\right) \\\\\n",
       "m ddq{_2} + 0.5 k{_2} \\left(  - 2 q{_1} + 2 q{_2} \\right) \\\\\n",
       "\\end{array}\n",
       "\\right]\n",
       "\\end{equation}\n"
      ],
      "text/plain": [
       "2-element Vector{Num}:\n",
       " m*ddq[1] + k₁*q[1] + 0.5k₂*(2q[1] - 2q[2])\n",
       "           m*ddq[2] + 0.5k₂*(2q[2] - 2q[1])"
      ]
     },
     "execution_count": 140,
     "metadata": {},
     "output_type": "execute_result"
    }
   ],
   "source": [
    "@variables q[1:2]\n",
    "@variables dq[1:2]\n",
    "@variables ddq[1:2]\n",
    "eomsddq = simplify.(substitute.(eoms, (Dict(ddx[i] => ddq[i] for i in range(1, 2)),)))\n",
    "eomsdq = simplify.(substitute.(eomsddq, (Dict(dx[i] => dq[i] for i in range(1, 2)),)))\n",
    "eomsq = simplify.(substitute.(eomsdq, (Dict(x[i] => q[i] for i in range(1, 2)),)))\n",
    "eomsq = expand_derivatives.(eomsq)"
   ]
  },
  {
   "cell_type": "code",
   "execution_count": 142,
   "id": "0625468c",
   "metadata": {},
   "outputs": [
    {
     "ename": "LoadError",
     "evalue": "MethodError: isequal(::Sym{Real, Base.ImmutableDict{DataType, Any}}, ::Missing) is ambiguous. Candidates:\n  isequal(::Any, ::Missing) in Base at missing.jl:82\n  isequal(::SymbolicUtils.Symbolic, x) in SymbolicUtils at /home/ryan/.julia/packages/SymbolicUtils/v2ZkM/src/types.jl:63\nPossible fix, define\n  isequal(::SymbolicUtils.Symbolic, ::Missing)",
     "output_type": "error",
     "traceback": [
      "MethodError: isequal(::Sym{Real, Base.ImmutableDict{DataType, Any}}, ::Missing) is ambiguous. Candidates:\n  isequal(::Any, ::Missing) in Base at missing.jl:82\n  isequal(::SymbolicUtils.Symbolic, x) in SymbolicUtils at /home/ryan/.julia/packages/SymbolicUtils/v2ZkM/src/types.jl:63\nPossible fix, define\n  isequal(::SymbolicUtils.Symbolic, ::Missing)",
      "",
      "Stacktrace:",
      " [1] collect_var!(states::OrderedCollections.OrderedSet{Any}, parameters::OrderedCollections.OrderedSet{Any}, var::Sym{Real, Base.ImmutableDict{DataType, Any}}, iv::Missing)",
      "   @ ModelingToolkit ~/.julia/packages/ModelingToolkit/a7NhS/src/utils.jl:399",
      " [2] collect_vars!(states::OrderedCollections.OrderedSet{Any}, parameters::OrderedCollections.OrderedSet{Any}, expr::SymbolicUtils.Add{Real, Int64, Dict{Any, Number}, Nothing}, iv::Missing)",
      "   @ ModelingToolkit ~/.julia/packages/ModelingToolkit/a7NhS/src/utils.jl:378",
      " [3] ODESystem(eqs::Vector{Equation}, iv::Nothing; kwargs::Base.Pairs{Symbol, Symbol, Tuple{Symbol}, NamedTuple{(:name,), Tuple{Symbol}}})",
      "   @ ModelingToolkit ~/.julia/packages/ModelingToolkit/a7NhS/src/systems/diffeqs/odesystem.jl:202",
      " [4] top-level scope",
      "   @ In[142]:1",
      " [5] eval",
      "   @ ./boot.jl:373 [inlined]",
      " [6] include_string(mapexpr::typeof(REPL.softscope), mod::Module, code::String, filename::String)",
      "   @ Base ./loading.jl:1196"
     ]
    }
   ],
   "source": [
    "@named fol_separate = ODESystem(eomsq.~0; name=:cooper)"
   ]
  },
  {
   "cell_type": "code",
   "execution_count": 157,
   "id": "a3737d7d",
   "metadata": {},
   "outputs": [],
   "source": [
    "using Plots, DifferentialEquations, LaTeXStrings, Symbolics, ModelingToolkit"
   ]
  },
  {
   "cell_type": "code",
   "execution_count": 178,
   "id": "519a9a40",
   "metadata": {
    "tags": []
   },
   "outputs": [
    {
     "data": {
      "text/latex": [
       "\\begin{align}\n",
       "\\mathrm{\\frac{d}{d t}}\\left( \\frac{dx(t)}{dt} \\right) =&  - w^{2} x\\left( t \\right) + f\\left( t \\right) \\\\\n",
       "f\\left( t \\right) =& \\sin\\left( 0.99 t w \\right)\n",
       "\\end{align}\n"
      ],
      "text/plain": [
       "\u001b[0m\u001b[1mModel fol_separate with 2 equations\u001b[22m\n",
       "\u001b[0m\u001b[1mStates (2):\u001b[22m\n",
       "  x(t)\n",
       "  f(t)\n",
       "\u001b[0m\u001b[1mParameters (1):\u001b[22m\n",
       "  w"
      ]
     },
     "execution_count": 178,
     "metadata": {},
     "output_type": "execute_result"
    }
   ],
   "source": [
    "Plots.theme(:cooper)\n",
    "@variables t x(t) f(t) # independent and dependent variables\n",
    "@parameters w       # parameters\n",
    "D = Differential(t) # define an operator for the differentiation w.r.t. time\n",
    "\n",
    "# your first ODE, consisting of a single equation, indicated by ~\n",
    "@named fol_separate = ODESystem([D(D(x)) ~ -w^2*x + f, f~sin(0.99*w*t)])"
   ]
  },
  {
   "cell_type": "code",
   "execution_count": 179,
   "id": "3210098a",
   "metadata": {
    "tags": []
   },
   "outputs": [
    {
     "data": {
      "image/svg+xml": [
       "<?xml version=\"1.0\" encoding=\"utf-8\"?>\n",
       "<svg xmlns=\"http://www.w3.org/2000/svg\" xmlns:xlink=\"http://www.w3.org/1999/xlink\" width=\"600\" height=\"400\" viewBox=\"0 0 2400 1600\">\n",
       "<defs>\n",
       "  <clipPath id=\"clip220\">\n",
       "    <rect x=\"0\" y=\"0\" width=\"2400\" height=\"1600\"/>\n",
       "  </clipPath>\n",
       "</defs>\n",
       "<path clip-path=\"url(#clip220)\" d=\"\n",
       "M0 1600 L2400 1600 L2400 0 L0 0  Z\n",
       "  \" fill=\"#ffffff\" fill-rule=\"evenodd\" fill-opacity=\"1\"/>\n",
       "<defs>\n",
       "  <clipPath id=\"clip221\">\n",
       "    <rect x=\"480\" y=\"0\" width=\"1681\" height=\"1600\"/>\n",
       "  </clipPath>\n",
       "</defs>\n",
       "<path clip-path=\"url(#clip220)\" d=\"\n",
       "M222.252 1349.74 L1773.92 1349.74 L1773.92 47.2441 L222.252 47.2441  Z\n",
       "  \" fill=\"#ffffff\" fill-rule=\"evenodd\" fill-opacity=\"1\"/>\n",
       "<defs>\n",
       "  <clipPath id=\"clip222\">\n",
       "    <rect x=\"222\" y=\"47\" width=\"1553\" height=\"1303\"/>\n",
       "  </clipPath>\n",
       "</defs>\n",
       "<polyline clip-path=\"url(#clip220)\" style=\"stroke:#000000; stroke-linecap:butt; stroke-linejoin:round; stroke-width:4; stroke-opacity:1; fill:none\" points=\"\n",
       "  222.252,1349.74 1773.92,1349.74 \n",
       "  \"/>\n",
       "<polyline clip-path=\"url(#clip220)\" style=\"stroke:#000000; stroke-linecap:butt; stroke-linejoin:round; stroke-width:4; stroke-opacity:1; fill:none\" points=\"\n",
       "  222.252,1349.74 222.252,1330.84 \n",
       "  \"/>\n",
       "<polyline clip-path=\"url(#clip220)\" style=\"stroke:#000000; stroke-linecap:butt; stroke-linejoin:round; stroke-width:4; stroke-opacity:1; fill:none\" points=\"\n",
       "  532.586,1349.74 532.586,1330.84 \n",
       "  \"/>\n",
       "<polyline clip-path=\"url(#clip220)\" style=\"stroke:#000000; stroke-linecap:butt; stroke-linejoin:round; stroke-width:4; stroke-opacity:1; fill:none\" points=\"\n",
       "  842.921,1349.74 842.921,1330.84 \n",
       "  \"/>\n",
       "<polyline clip-path=\"url(#clip220)\" style=\"stroke:#000000; stroke-linecap:butt; stroke-linejoin:round; stroke-width:4; stroke-opacity:1; fill:none\" points=\"\n",
       "  1153.26,1349.74 1153.26,1330.84 \n",
       "  \"/>\n",
       "<polyline clip-path=\"url(#clip220)\" style=\"stroke:#000000; stroke-linecap:butt; stroke-linejoin:round; stroke-width:4; stroke-opacity:1; fill:none\" points=\"\n",
       "  1463.59,1349.74 1463.59,1330.84 \n",
       "  \"/>\n",
       "<polyline clip-path=\"url(#clip220)\" style=\"stroke:#000000; stroke-linecap:butt; stroke-linejoin:round; stroke-width:4; stroke-opacity:1; fill:none\" points=\"\n",
       "  1773.92,1349.74 1773.92,1330.84 \n",
       "  \"/>\n",
       "<path clip-path=\"url(#clip220)\" d=\"M222.252 1395.31 Q214.127 1395.31 210.012 1403.33 Q205.95 1411.3 205.95 1427.34 Q205.95 1443.33 210.012 1451.35 Q214.127 1459.32 222.252 1459.32 Q230.429 1459.32 234.491 1451.35 Q238.606 1443.33 238.606 1427.34 Q238.606 1411.3 234.491 1403.33 Q230.429 1395.31 222.252 1395.31 M222.252 1386.97 Q235.325 1386.97 242.2 1397.34 Q249.127 1407.65 249.127 1427.34 Q249.127 1446.97 242.2 1457.34 Q235.325 1467.65 222.252 1467.65 Q209.179 1467.65 202.252 1457.34 Q195.377 1446.97 195.377 1427.34 Q195.377 1407.65 202.252 1397.34 Q209.179 1386.97 222.252 1386.97 Z\" fill=\"#000000\" fill-rule=\"evenodd\" fill-opacity=\"1\" /><path clip-path=\"url(#clip220)\" d=\"M520.555 1457.29 L557.274 1457.29 L557.274 1466.14 L507.899 1466.14 L507.899 1457.29 Q513.888 1451.09 524.201 1440.67 Q534.565 1430.2 537.222 1427.18 Q542.274 1421.5 544.253 1417.6 Q546.284 1413.64 546.284 1409.84 Q546.284 1403.64 541.909 1399.73 Q537.586 1395.83 530.607 1395.83 Q525.659 1395.83 520.138 1397.55 Q514.67 1399.27 508.42 1402.75 L508.42 1392.13 Q514.774 1389.58 520.295 1388.28 Q525.815 1386.97 530.399 1386.97 Q542.482 1386.97 549.67 1393.02 Q556.857 1399.06 556.857 1409.16 Q556.857 1413.95 555.034 1418.28 Q553.263 1422.55 548.524 1428.38 Q547.222 1429.89 540.242 1437.13 Q533.263 1444.32 520.555 1457.29 Z\" fill=\"#000000\" fill-rule=\"evenodd\" fill-opacity=\"1\" /><path clip-path=\"url(#clip220)\" d=\"M849.692 1397.55 L823.129 1439.06 L849.692 1439.06 L849.692 1397.55 M846.931 1388.38 L860.16 1388.38 L860.16 1439.06 L871.254 1439.06 L871.254 1447.81 L860.16 1447.81 L860.16 1466.14 L849.692 1466.14 L849.692 1447.81 L814.588 1447.81 L814.588 1437.65 L846.931 1388.38 Z\" fill=\"#000000\" fill-rule=\"evenodd\" fill-opacity=\"1\" /><path clip-path=\"url(#clip220)\" d=\"M1154.17 1423.07 Q1147.08 1423.07 1142.92 1427.91 Q1138.8 1432.75 1138.8 1441.19 Q1138.8 1449.58 1142.92 1454.47 Q1147.08 1459.32 1154.17 1459.32 Q1161.25 1459.32 1165.36 1454.47 Q1169.53 1449.58 1169.53 1441.19 Q1169.53 1432.75 1165.36 1427.91 Q1161.25 1423.07 1154.17 1423.07 M1175.05 1390.1 L1175.05 1399.68 Q1171.09 1397.81 1167.03 1396.82 Q1163.02 1395.83 1159.06 1395.83 Q1148.65 1395.83 1143.13 1402.86 Q1137.66 1409.89 1136.88 1424.11 Q1139.95 1419.58 1144.58 1417.18 Q1149.22 1414.73 1154.79 1414.73 Q1166.51 1414.73 1173.28 1421.87 Q1180.1 1428.95 1180.1 1441.19 Q1180.1 1453.17 1173.02 1460.41 Q1165.94 1467.65 1154.17 1467.65 Q1140.68 1467.65 1133.54 1457.34 Q1126.41 1446.97 1126.41 1427.34 Q1126.41 1408.9 1135.16 1397.96 Q1143.91 1386.97 1158.65 1386.97 Q1162.6 1386.97 1166.61 1387.75 Q1170.68 1388.54 1175.05 1390.1 Z\" fill=\"#000000\" fill-rule=\"evenodd\" fill-opacity=\"1\" /><path clip-path=\"url(#clip220)\" d=\"M1463.59 1429.21 Q1456.09 1429.21 1451.77 1433.22 Q1447.5 1437.23 1447.5 1444.26 Q1447.5 1451.3 1451.77 1455.31 Q1456.09 1459.32 1463.59 1459.32 Q1471.09 1459.32 1475.41 1455.31 Q1479.74 1451.24 1479.74 1444.26 Q1479.74 1437.23 1475.41 1433.22 Q1471.14 1429.21 1463.59 1429.21 M1453.07 1424.73 Q1446.3 1423.07 1442.5 1418.43 Q1438.75 1413.8 1438.75 1407.13 Q1438.75 1397.81 1445.36 1392.39 Q1452.03 1386.97 1463.59 1386.97 Q1475.2 1386.97 1481.82 1392.39 Q1488.43 1397.81 1488.43 1407.13 Q1488.43 1413.8 1484.63 1418.43 Q1480.88 1423.07 1474.16 1424.73 Q1481.77 1426.5 1485.99 1431.66 Q1490.26 1436.82 1490.26 1444.26 Q1490.26 1455.57 1483.33 1461.61 Q1476.45 1467.65 1463.59 1467.65 Q1450.73 1467.65 1443.8 1461.61 Q1436.92 1455.57 1436.92 1444.26 Q1436.92 1436.82 1441.19 1431.66 Q1445.46 1426.5 1453.07 1424.73 M1449.21 1408.12 Q1449.21 1414.16 1452.96 1417.55 Q1456.77 1420.93 1463.59 1420.93 Q1470.36 1420.93 1474.16 1417.55 Q1478.02 1414.16 1478.02 1408.12 Q1478.02 1402.08 1474.16 1398.69 Q1470.36 1395.31 1463.59 1395.31 Q1456.77 1395.31 1452.96 1398.69 Q1449.21 1402.08 1449.21 1408.12 Z\" fill=\"#000000\" fill-rule=\"evenodd\" fill-opacity=\"1\" /><path clip-path=\"url(#clip220)\" d=\"M1716.97 1457.29 L1734.16 1457.29 L1734.16 1397.96 L1715.46 1401.71 L1715.46 1392.13 L1734.05 1388.38 L1744.58 1388.38 L1744.58 1457.29 L1761.76 1457.29 L1761.76 1466.14 L1716.97 1466.14 L1716.97 1457.29 Z\" fill=\"#000000\" fill-rule=\"evenodd\" fill-opacity=\"1\" /><path clip-path=\"url(#clip220)\" d=\"M1805.51 1395.31 Q1797.39 1395.31 1793.27 1403.33 Q1789.21 1411.3 1789.21 1427.34 Q1789.21 1443.33 1793.27 1451.35 Q1797.39 1459.32 1805.51 1459.32 Q1813.69 1459.32 1817.75 1451.35 Q1821.87 1443.33 1821.87 1427.34 Q1821.87 1411.3 1817.75 1403.33 Q1813.69 1395.31 1805.51 1395.31 M1805.51 1386.97 Q1818.59 1386.97 1825.46 1397.34 Q1832.39 1407.65 1832.39 1427.34 Q1832.39 1446.97 1825.46 1457.34 Q1818.59 1467.65 1805.51 1467.65 Q1792.44 1467.65 1785.51 1457.34 Q1778.64 1446.97 1778.64 1427.34 Q1778.64 1407.65 1785.51 1397.34 Q1792.44 1386.97 1805.51 1386.97 Z\" fill=\"#000000\" fill-rule=\"evenodd\" fill-opacity=\"1\" /><path clip-path=\"url(#clip220)\" d=\"M996.552 1520.8 L996.552 1537.36 L1016.29 1537.36 L1016.29 1544.81 L996.552 1544.81 L996.552 1576.47 Q996.552 1583.61 998.479 1585.64 Q1000.46 1587.67 1006.45 1587.67 L1016.29 1587.67 L1016.29 1595.69 L1006.45 1595.69 Q995.354 1595.69 991.135 1591.58 Q986.916 1587.41 986.916 1576.47 L986.916 1544.81 L979.885 1544.81 L979.885 1537.36 L986.916 1537.36 L986.916 1520.8 L996.552 1520.8 Z\" fill=\"#000000\" fill-rule=\"evenodd\" fill-opacity=\"1\" /><polyline clip-path=\"url(#clip220)\" style=\"stroke:#000000; stroke-linecap:butt; stroke-linejoin:round; stroke-width:4; stroke-opacity:1; fill:none\" points=\"\n",
       "  222.252,1349.74 222.252,47.2441 \n",
       "  \"/>\n",
       "<polyline clip-path=\"url(#clip220)\" style=\"stroke:#000000; stroke-linecap:butt; stroke-linejoin:round; stroke-width:4; stroke-opacity:1; fill:none\" points=\"\n",
       "  222.252,1111.29 236.015,1111.29 \n",
       "  \"/>\n",
       "<polyline clip-path=\"url(#clip220)\" style=\"stroke:#000000; stroke-linecap:butt; stroke-linejoin:round; stroke-width:4; stroke-opacity:1; fill:none\" points=\"\n",
       "  222.252,808.978 236.015,808.978 \n",
       "  \"/>\n",
       "<polyline clip-path=\"url(#clip220)\" style=\"stroke:#000000; stroke-linecap:butt; stroke-linejoin:round; stroke-width:4; stroke-opacity:1; fill:none\" points=\"\n",
       "  222.252,506.665 236.015,506.665 \n",
       "  \"/>\n",
       "<polyline clip-path=\"url(#clip220)\" style=\"stroke:#000000; stroke-linecap:butt; stroke-linejoin:round; stroke-width:4; stroke-opacity:1; fill:none\" points=\"\n",
       "  222.252,204.352 236.015,204.352 \n",
       "  \"/>\n",
       "<path clip-path=\"url(#clip220)\" d=\"M50.9921 1112.31 L117.763 1112.31 L117.763 1121.16 L50.9921 1121.16 L50.9921 1112.31 Z\" fill=\"#000000\" fill-rule=\"evenodd\" fill-opacity=\"1\" /><path clip-path=\"url(#clip220)\" d=\"M149.533 1141.32 L186.252 1141.32 L186.252 1150.17 L136.877 1150.17 L136.877 1141.32 Q142.867 1135.12 153.179 1124.7 Q163.544 1114.23 166.2 1111.21 Q171.252 1105.54 173.231 1101.63 Q175.262 1097.67 175.262 1093.87 Q175.262 1087.67 170.887 1083.76 Q166.564 1079.86 159.585 1079.86 Q154.637 1079.86 149.117 1081.58 Q143.648 1083.3 137.398 1086.79 L137.398 1076.16 Q143.752 1073.61 149.273 1072.31 Q154.794 1071 159.377 1071 Q171.46 1071 178.648 1077.05 Q185.835 1083.09 185.835 1093.19 Q185.835 1097.98 184.012 1102.31 Q182.241 1106.58 177.502 1112.41 Q176.2 1113.92 169.221 1121.16 Q162.242 1128.35 149.533 1141.32 Z\" fill=\"#000000\" fill-rule=\"evenodd\" fill-opacity=\"1\" /><path clip-path=\"url(#clip220)\" d=\"M159.377 777.025 Q151.252 777.025 147.137 785.046 Q143.075 793.014 143.075 809.056 Q143.075 825.045 147.137 833.066 Q151.252 841.035 159.377 841.035 Q167.554 841.035 171.616 833.066 Q175.731 825.045 175.731 809.056 Q175.731 793.014 171.616 785.046 Q167.554 777.025 159.377 777.025 M159.377 768.692 Q172.45 768.692 179.325 779.056 Q186.252 789.369 186.252 809.056 Q186.252 828.691 179.325 839.056 Q172.45 849.368 159.377 849.368 Q146.304 849.368 139.377 839.056 Q132.502 828.691 132.502 809.056 Q132.502 789.369 139.377 779.056 Q146.304 768.692 159.377 768.692 Z\" fill=\"#000000\" fill-rule=\"evenodd\" fill-opacity=\"1\" /><path clip-path=\"url(#clip220)\" d=\"M149.533 536.691 L186.252 536.691 L186.252 545.545 L136.877 545.545 L136.877 536.691 Q142.867 530.493 153.179 520.076 Q163.544 509.607 166.2 506.587 Q171.252 500.91 173.231 497.003 Q175.262 493.045 175.262 489.243 Q175.262 483.045 170.887 479.139 Q166.564 475.233 159.585 475.233 Q154.637 475.233 149.117 476.951 Q143.648 478.67 137.398 482.16 L137.398 471.535 Q143.752 468.983 149.273 467.681 Q154.794 466.378 159.377 466.378 Q171.46 466.378 178.648 472.42 Q185.835 478.462 185.835 488.566 Q185.835 493.357 184.012 497.68 Q182.241 501.951 177.502 507.784 Q176.2 509.295 169.221 516.534 Q162.242 523.722 149.533 536.691 Z\" fill=\"#000000\" fill-rule=\"evenodd\" fill-opacity=\"1\" /><path clip-path=\"url(#clip220)\" d=\"M164.689 174.638 L138.127 216.148 L164.689 216.148 L164.689 174.638 M161.929 165.472 L175.158 165.472 L175.158 216.148 L186.252 216.148 L186.252 224.898 L175.158 224.898 L175.158 243.232 L164.689 243.232 L164.689 224.898 L129.585 224.898 L129.585 214.742 L161.929 165.472 Z\" fill=\"#000000\" fill-rule=\"evenodd\" fill-opacity=\"1\" /><polyline clip-path=\"url(#clip222)\" style=\"stroke:#009af9; stroke-linecap:butt; stroke-linejoin:round; stroke-width:16; stroke-opacity:1; fill:none\" points=\"\n",
       "  222.252,657.821 223.805,657.821 225.358,657.822 226.911,657.822 228.465,657.822 230.018,657.823 231.571,657.824 233.124,657.825 234.678,657.826 236.231,657.828 \n",
       "  237.784,657.829 239.337,657.831 240.891,657.833 242.444,657.836 243.997,657.838 245.55,657.841 247.103,657.845 248.657,657.848 250.21,657.852 251.763,657.856 \n",
       "  253.316,657.861 254.87,657.866 256.423,657.872 257.976,657.878 259.529,657.885 261.082,657.892 262.636,657.9 264.189,657.909 265.742,657.918 267.295,657.928 \n",
       "  268.849,657.938 270.402,657.95 271.955,657.962 273.508,657.975 275.061,657.989 276.615,658.004 278.168,658.021 279.721,658.038 281.274,658.056 282.828,658.075 \n",
       "  284.381,658.096 285.934,658.118 287.487,658.142 289.041,658.166 290.594,658.193 292.147,658.22 293.7,658.25 295.253,658.28 296.807,658.313 298.36,658.348 \n",
       "  299.913,658.384 301.466,658.422 303.02,658.462 304.573,658.504 306.126,658.549 307.679,658.595 309.232,658.644 310.786,658.695 312.339,658.748 313.892,658.804 \n",
       "  315.445,658.862 316.999,658.923 318.552,658.987 320.105,659.053 321.658,659.123 323.211,659.195 324.765,659.27 326.318,659.349 327.871,659.43 329.424,659.515 \n",
       "  330.978,659.603 332.531,659.695 334.084,659.79 335.637,659.889 337.191,659.991 338.744,660.098 340.297,660.208 341.85,660.322 343.403,660.44 344.957,660.562 \n",
       "  346.51,660.689 348.063,660.82 349.616,660.955 351.17,661.095 352.723,661.239 354.276,661.388 355.829,661.542 357.382,661.701 358.936,661.865 360.489,662.034 \n",
       "  362.042,662.209 363.595,662.388 365.149,662.573 366.702,662.763 368.255,662.959 369.808,663.161 371.361,663.369 372.915,663.582 374.468,663.801 376.021,664.027 \n",
       "  377.574,664.258 379.128,664.496 380.681,664.74 382.234,664.991 383.787,665.248 385.34,665.512 386.894,665.783 388.447,666.061 390,666.345 391.553,666.637 \n",
       "  393.107,666.936 394.66,667.242 396.213,667.556 397.766,667.877 399.32,668.206 400.873,668.542 402.426,668.886 403.979,669.238 405.532,669.599 407.086,669.967 \n",
       "  408.639,670.343 410.192,670.728 411.745,671.121 413.299,671.523 414.852,671.933 416.405,672.352 417.958,672.779 419.511,673.216 421.065,673.661 422.618,674.116 \n",
       "  424.171,674.58 425.724,675.053 427.278,675.536 428.831,676.028 430.384,676.53 431.937,677.041 433.49,677.562 435.044,678.093 436.597,678.634 438.15,679.185 \n",
       "  439.703,679.747 441.257,680.318 442.81,680.9 444.363,681.492 445.916,682.094 447.47,682.708 449.023,683.331 450.576,683.966 452.129,684.611 453.682,685.268 \n",
       "  455.236,685.935 456.789,686.613 458.342,687.303 459.895,688.003 461.449,688.715 463.002,689.439 464.555,690.173 466.108,690.92 467.661,691.678 469.215,692.447 \n",
       "  470.768,693.229 472.321,694.022 473.874,694.827 475.428,695.644 476.981,696.473 478.534,697.314 480.087,698.167 481.64,699.032 483.194,699.91 484.747,700.8 \n",
       "  486.3,701.702 487.853,702.617 489.407,703.544 490.96,704.484 492.513,705.437 494.066,706.402 495.62,707.38 497.173,708.371 498.726,709.374 500.279,710.39 \n",
       "  501.832,711.419 503.386,712.461 504.939,713.516 506.492,714.584 508.045,715.666 509.599,716.76 511.152,717.867 512.705,718.988 514.258,720.122 515.811,721.269 \n",
       "  517.365,722.429 518.918,723.602 520.471,724.789 522.024,725.99 523.578,727.203 525.131,728.43 526.684,729.67 528.237,730.924 529.79,732.191 531.344,733.472 \n",
       "  532.897,734.766 534.45,736.074 536.003,737.395 537.557,738.729 539.11,740.077 540.663,741.438 542.216,742.813 543.77,744.201 545.323,745.603 546.876,747.018 \n",
       "  548.429,748.446 549.982,749.888 551.536,751.343 553.089,752.812 554.642,754.293 556.195,755.789 557.749,757.297 559.302,758.819 560.855,760.354 562.408,761.902 \n",
       "  563.961,763.463 565.515,765.038 567.068,766.625 568.621,768.226 570.174,769.84 571.728,771.466 573.281,773.106 574.834,774.758 576.387,776.423 577.94,778.101 \n",
       "  579.494,779.792 581.047,781.496 582.6,783.212 584.153,784.94 585.707,786.682 587.26,788.435 588.813,790.201 590.366,791.979 591.919,793.769 593.473,795.572 \n",
       "  595.026,797.387 596.579,799.213 598.132,801.052 599.686,802.902 601.239,804.764 602.792,806.637 604.345,808.523 605.899,810.419 607.452,812.328 609.005,814.247 \n",
       "  610.558,816.177 612.111,818.119 613.665,820.072 615.218,822.035 616.771,824.009 618.324,825.994 619.878,827.99 621.431,829.996 622.984,832.012 624.537,834.038 \n",
       "  626.09,836.075 627.644,838.121 629.197,840.178 630.75,842.244 632.303,844.319 633.857,846.404 635.41,848.499 636.963,850.602 638.516,852.715 640.069,854.836 \n",
       "  641.623,856.966 643.176,859.105 644.729,861.253 646.282,863.408 647.836,865.572 649.389,867.744 650.942,869.923 652.495,872.111 654.049,874.305 655.602,876.507 \n",
       "  657.155,878.717 658.708,880.933 660.261,883.156 661.815,885.386 663.368,887.623 664.921,889.865 666.474,892.114 668.028,894.369 669.581,896.63 671.134,898.896 \n",
       "  672.687,901.168 674.24,903.445 675.794,905.727 677.347,908.013 678.9,910.305 680.453,912.6 682.007,914.901 683.56,917.205 685.113,919.512 686.666,921.824 \n",
       "  688.219,924.139 689.773,926.457 691.326,928.778 692.879,931.102 694.432,933.429 695.986,935.758 697.539,938.089 699.092,940.422 700.645,942.757 702.199,945.094 \n",
       "  703.752,947.432 705.305,949.771 706.858,952.111 708.411,954.451 709.965,956.792 711.518,959.133 713.071,961.474 714.624,963.814 716.178,966.154 717.731,968.493 \n",
       "  719.284,970.831 720.837,973.168 722.39,975.504 723.944,977.838 725.497,980.169 727.05,982.499 728.603,984.826 730.157,987.15 731.71,989.472 733.263,991.79 \n",
       "  734.816,994.105 736.369,996.416 737.923,998.723 739.476,1001.03 741.029,1003.32 742.582,1005.62 744.136,1007.91 745.689,1010.19 747.242,1012.47 748.795,1014.74 \n",
       "  750.349,1017.01 751.902,1019.27 753.455,1021.52 755.008,1023.77 756.561,1026.01 758.115,1028.24 759.668,1030.47 761.221,1032.69 762.774,1034.9 764.328,1037.1 \n",
       "  765.881,1039.29 767.434,1041.47 768.987,1043.65 770.54,1045.81 772.094,1047.97 773.647,1050.12 775.2,1052.25 776.753,1054.38 778.307,1056.49 779.86,1058.59 \n",
       "  781.413,1060.69 782.966,1062.77 784.519,1064.84 786.073,1066.89 787.626,1068.94 789.179,1070.97 790.732,1072.99 792.286,1074.99 793.839,1076.98 795.392,1078.96 \n",
       "  796.945,1080.93 798.498,1082.88 800.052,1084.81 801.605,1086.73 803.158,1088.64 804.711,1090.53 806.265,1092.4 807.818,1094.26 809.371,1096.11 810.924,1097.93 \n",
       "  812.478,1099.74 814.031,1101.53 815.584,1103.31 817.137,1105.07 818.69,1106.81 820.244,1108.53 821.797,1110.23 823.35,1111.92 824.903,1113.59 826.457,1115.23 \n",
       "  828.01,1116.86 829.563,1118.47 831.116,1120.06 832.669,1121.62 834.223,1123.17 835.776,1124.7 837.329,1126.2 838.882,1127.69 840.436,1129.15 841.989,1130.59 \n",
       "  843.542,1132.01 845.095,1133.41 846.648,1134.78 848.202,1136.14 849.755,1137.46 851.308,1138.77 852.861,1140.05 854.415,1141.31 855.968,1142.55 857.521,1143.76 \n",
       "  859.074,1144.94 860.628,1146.11 862.181,1147.24 863.734,1148.36 865.287,1149.44 866.84,1150.5 868.394,1151.54 869.947,1152.55 871.5,1153.53 873.053,1154.49 \n",
       "  874.607,1155.42 876.16,1156.32 877.713,1157.2 879.266,1158.05 880.819,1158.87 882.373,1159.67 883.926,1160.43 885.479,1161.17 887.032,1161.88 888.586,1162.56 \n",
       "  890.139,1163.21 891.692,1163.84 893.245,1164.43 894.798,1165 896.352,1165.53 897.905,1166.04 899.458,1166.51 901.011,1166.96 902.565,1167.37 904.118,1167.76 \n",
       "  905.671,1168.11 907.224,1168.44 908.778,1168.73 910.331,1168.99 911.884,1169.22 913.437,1169.42 914.99,1169.59 916.544,1169.73 918.097,1169.83 919.65,1169.9 \n",
       "  921.203,1169.94 922.757,1169.95 924.31,1169.92 925.863,1169.87 927.416,1169.77 928.969,1169.65 930.523,1169.49 932.076,1169.3 933.629,1169.08 935.182,1168.82 \n",
       "  936.736,1168.53 938.289,1168.21 939.842,1167.85 941.395,1167.46 942.948,1167.03 944.502,1166.57 946.055,1166.08 947.608,1165.55 949.161,1164.98 950.715,1164.38 \n",
       "  952.268,1163.75 953.821,1163.08 955.374,1162.38 956.927,1161.64 958.481,1160.87 960.034,1160.06 961.587,1159.22 963.14,1158.34 964.694,1157.43 966.247,1156.48 \n",
       "  967.8,1155.49 969.353,1154.47 970.907,1153.42 972.46,1152.32 974.013,1151.2 975.566,1150.04 977.119,1148.84 978.673,1147.6 980.226,1146.34 981.779,1145.03 \n",
       "  983.332,1143.69 984.886,1142.31 986.439,1140.9 987.992,1139.45 989.545,1137.97 991.098,1136.45 992.652,1134.9 994.205,1133.31 995.758,1131.68 997.311,1130.02 \n",
       "  998.865,1128.32 1000.42,1126.59 1001.97,1124.82 1003.52,1123.02 1005.08,1121.18 1006.63,1119.3 1008.18,1117.39 1009.74,1115.45 1011.29,1113.46 1012.84,1111.45 \n",
       "  1014.4,1109.4 1015.95,1107.31 1017.5,1105.19 1019.06,1103.03 1020.61,1100.84 1022.16,1098.62 1023.72,1096.36 1025.27,1094.06 1026.82,1091.73 1028.38,1089.37 \n",
       "  1029.93,1086.97 1031.48,1084.54 1033.04,1082.07 1034.59,1079.57 1036.14,1077.04 1037.7,1074.47 1039.25,1071.87 1040.8,1069.23 1042.35,1066.57 1043.91,1063.86 \n",
       "  1045.46,1061.13 1047.01,1058.36 1048.57,1055.56 1050.12,1052.73 1051.67,1049.86 1053.23,1046.97 1054.78,1044.04 1056.33,1041.07 1057.89,1038.08 1059.44,1035.06 \n",
       "  1060.99,1032 1062.55,1028.91 1064.1,1025.79 1065.65,1022.64 1067.21,1019.46 1068.76,1016.25 1070.31,1013.01 1071.87,1009.74 1073.42,1006.43 1074.97,1003.1 \n",
       "  1076.53,999.741 1078.08,996.351 1079.63,992.932 1081.19,989.484 1082.74,986.007 1084.29,982.502 1085.85,978.969 1087.4,975.407 1088.95,971.819 1090.5,968.203 \n",
       "  1092.06,964.56 1093.61,960.89 1095.16,957.193 1096.72,953.471 1098.27,949.722 1099.82,945.948 1101.38,942.148 1102.93,938.323 1104.48,934.473 1106.04,930.598 \n",
       "  1107.59,926.7 1109.14,922.777 1110.7,918.83 1112.25,914.861 1113.8,910.868 1115.36,906.853 1116.91,902.815 1118.46,898.755 1120.02,894.674 1121.57,890.571 \n",
       "  1123.12,886.447 1124.68,882.302 1126.23,878.138 1127.78,873.953 1129.34,869.748 1130.89,865.524 1132.44,861.282 1134,857.021 1135.55,852.741 1137.1,848.444 \n",
       "  1138.65,844.13 1140.21,839.799 1141.76,835.451 1143.31,831.086 1144.87,826.707 1146.42,822.311 1147.97,817.901 1149.53,813.476 1151.08,809.036 1152.63,804.582 \n",
       "  1154.19,800.115 1155.74,795.634 1157.29,791.141 1158.85,786.635 1160.4,782.117 1161.95,777.587 1163.51,773.046 1165.06,768.494 1166.61,763.932 1168.17,759.36 \n",
       "  1169.72,754.778 1171.27,750.188 1172.83,745.588 1174.38,740.981 1175.93,736.366 1177.49,731.743 1179.04,727.113 1180.59,722.477 1182.15,717.835 1183.7,713.188 \n",
       "  1185.25,708.535 1186.8,703.877 1188.36,699.215 1189.91,694.549 1191.46,689.88 1193.02,685.208 1194.57,680.534 1196.12,675.857 1197.68,671.179 1199.23,666.499 \n",
       "  1200.78,661.819 1202.34,657.139 1203.89,652.459 1205.44,647.78 1207,643.101 1208.55,638.425 1210.1,633.75 1211.66,629.078 1213.21,624.409 1214.76,619.743 \n",
       "  1216.32,615.082 1217.87,610.424 1219.42,605.772 1220.98,601.125 1222.53,596.483 1224.08,591.848 1225.64,587.22 1227.19,582.599 1228.74,577.985 1230.3,573.38 \n",
       "  1231.85,568.783 1233.4,564.196 1234.95,559.618 1236.51,555.05 1238.06,550.493 1239.61,545.947 1241.17,541.413 1242.72,536.89 1244.27,532.381 1245.83,527.884 \n",
       "  1247.38,523.401 1248.93,518.931 1250.49,514.477 1252.04,510.037 1253.59,505.613 1255.15,501.205 1256.7,496.813 1258.25,492.438 1259.81,488.081 1261.36,483.742 \n",
       "  1262.91,479.422 1264.47,475.121 1266.02,470.839 1267.57,466.577 1269.13,462.336 1270.68,458.116 1272.23,453.917 1273.79,449.741 1275.34,445.587 1276.89,441.457 \n",
       "  1278.45,437.349 1280,433.265 1281.55,429.204 1283.1,425.169 1284.66,421.158 1286.21,417.173 1287.76,413.214 1289.32,409.281 1290.87,405.375 1292.42,401.497 \n",
       "  1293.98,397.647 1295.53,393.826 1297.08,390.033 1298.64,386.27 1300.19,382.536 1301.74,378.833 1303.3,375.161 1304.85,371.52 1306.4,367.911 1307.96,364.334 \n",
       "  1309.51,360.79 1311.06,357.279 1312.62,353.802 1314.17,350.358 1315.72,346.949 1317.28,343.575 1318.83,340.236 1320.38,336.933 1321.94,333.666 1323.49,330.435 \n",
       "  1325.04,327.242 1326.6,324.086 1328.15,320.968 1329.7,317.888 1331.25,314.847 1332.81,311.844 1334.36,308.882 1335.91,305.959 1337.47,303.076 1339.02,300.234 \n",
       "  1340.57,297.433 1342.13,294.674 1343.68,291.956 1345.23,289.281 1346.79,286.648 1348.34,284.058 1349.89,281.511 1351.45,279.008 1353,276.549 1354.55,274.134 \n",
       "  1356.11,271.764 1357.66,269.439 1359.21,267.16 1360.77,264.926 1362.32,262.739 1363.87,260.598 1365.43,258.503 1366.98,256.456 1368.53,254.456 1370.09,252.504 \n",
       "  1371.64,250.601 1373.19,248.745 1374.75,246.938 1376.3,245.181 1377.85,243.472 1379.4,241.814 1380.96,240.205 1382.51,238.647 1384.06,237.139 1385.62,235.682 \n",
       "  1387.17,234.276 1388.72,232.922 1390.28,231.619 1391.83,230.368 1393.38,229.17 1394.94,228.024 1396.49,226.931 1398.04,225.891 1399.6,224.905 1401.15,223.971 \n",
       "  1402.7,223.092 1404.26,222.265 1405.81,221.493 1407.36,220.775 1408.92,220.11 1410.47,219.501 1412.02,218.946 1413.58,218.446 1415.13,218.002 1416.68,217.613 \n",
       "  1418.24,217.279 1419.79,217.002 1421.34,216.78 1422.9,216.615 1424.45,216.506 1426,216.454 1427.55,216.458 1429.11,216.52 1430.66,216.639 1432.21,216.814 \n",
       "  1433.77,217.048 1435.32,217.338 1436.87,217.687 1438.43,218.093 1439.98,218.557 1441.53,219.079 1443.09,219.66 1444.64,220.298 1446.19,220.995 1447.75,221.75 \n",
       "  1449.3,222.564 1450.85,223.436 1452.41,224.367 1453.96,225.357 1455.51,226.405 1457.07,227.512 1458.62,228.678 1460.17,229.902 1461.73,231.186 1463.28,232.528 \n",
       "  1464.83,233.93 1466.39,235.39 1467.94,236.909 1469.49,238.487 1471.05,240.124 1472.6,241.82 1474.15,243.574 1475.7,245.388 1477.26,247.26 1478.81,249.191 \n",
       "  1480.36,251.181 1481.92,253.229 1483.47,255.336 1485.02,257.501 1486.58,259.725 1488.13,262.007 1489.68,264.347 1491.24,266.745 1492.79,269.202 1494.34,271.716 \n",
       "  1495.9,274.288 1497.45,276.918 1499,279.605 1500.56,282.35 1502.11,285.152 1503.66,288.011 1505.22,290.927 1506.77,293.899 1508.32,296.929 1509.88,300.014 \n",
       "  1511.43,303.157 1512.98,306.355 1514.54,309.609 1516.09,312.918 1517.64,316.283 1519.2,319.704 1520.75,323.179 1522.3,326.709 1523.85,330.294 1525.41,333.933 \n",
       "  1526.96,337.626 1528.51,341.373 1530.07,345.173 1531.62,349.027 1533.17,352.934 1534.73,356.893 1536.28,360.905 1537.83,364.969 1539.39,369.086 1540.94,373.254 \n",
       "  1542.49,377.473 1544.05,381.744 1545.6,386.066 1547.15,390.438 1548.71,394.86 1550.26,399.333 1551.81,403.855 1553.37,408.426 1554.92,413.046 1556.47,417.715 \n",
       "  1558.03,422.432 1559.58,427.198 1561.13,432.01 1562.69,436.87 1564.24,441.777 1565.79,446.731 1567.35,451.73 1568.9,456.775 1570.45,461.866 1572,467.002 \n",
       "  1573.56,472.182 1575.11,477.406 1576.66,482.674 1578.22,487.986 1579.77,493.34 1581.32,498.737 1582.88,504.176 1584.43,509.657 1585.98,515.179 1587.54,520.742 \n",
       "  1589.09,526.345 1590.64,531.987 1592.2,537.67 1593.75,543.391 1595.3,549.151 1596.86,554.948 1598.41,560.783 1599.96,566.656 1601.52,572.564 1603.07,578.509 \n",
       "  1604.62,584.489 1606.18,590.505 1607.73,596.554 1609.28,602.638 1610.84,608.756 1612.39,614.906 1613.94,621.088 1615.5,627.303 1617.05,633.548 1618.6,639.825 \n",
       "  1620.15,646.131 1621.71,652.468 1623.26,658.833 1624.81,665.227 1626.37,671.648 1627.92,678.097 1629.47,684.573 1631.03,691.075 1632.58,697.603 1634.13,704.155 \n",
       "  1635.69,710.731 1637.24,717.332 1638.79,723.955 1640.35,730.601 1641.9,737.269 1643.45,743.958 1645.01,750.667 1646.56,757.396 1648.11,764.145 1649.67,770.912 \n",
       "  1651.22,777.697 1652.77,784.499 1654.33,791.317 1655.88,798.152 1657.43,805.002 1658.99,811.866 1660.54,818.744 1662.09,825.635 1663.65,832.538 1665.2,839.454 \n",
       "  1666.75,846.381 1668.3,853.319 1669.86,860.268 1671.41,867.226 1672.96,874.194 1674.52,881.169 1676.07,888.152 1677.62,895.142 1679.18,902.139 1680.73,909.14 \n",
       "  1682.28,916.147 1683.84,923.158 1685.39,930.172 1686.94,937.189 1688.5,944.207 1690.05,951.228 1691.6,958.248 1693.16,965.269 1694.71,972.289 1696.26,979.308 \n",
       "  1697.82,986.324 1699.37,993.338 1700.92,1000.35 1702.48,1007.35 1704.03,1014.35 1705.58,1021.35 1707.14,1028.34 1708.69,1035.32 1710.24,1042.29 1711.8,1049.26 \n",
       "  1713.35,1056.22 1714.9,1063.16 1716.45,1070.1 1718.01,1077.02 1719.56,1083.94 1721.11,1090.84 1722.67,1097.72 1724.22,1104.6 1725.77,1111.45 1727.33,1118.3 \n",
       "  1728.88,1125.12 1730.43,1131.93 1731.99,1138.72 1733.54,1145.5 1735.09,1152.25 1736.65,1158.99 1738.2,1165.7 1739.75,1172.39 1741.31,1179.07 1742.86,1185.72 \n",
       "  1744.41,1192.34 1745.97,1198.94 1747.52,1205.52 1749.07,1212.07 1750.63,1218.6 1752.18,1225.1 1753.73,1231.57 1755.29,1238.01 1756.84,1244.43 1758.39,1250.81 \n",
       "  1759.95,1257.17 1761.5,1263.49 1763.05,1269.78 1764.6,1276.04 1766.16,1282.27 1767.71,1288.46 1769.26,1294.62 1770.82,1300.74 1772.37,1306.83 1773.92,1312.88 \n",
       "  \n",
       "  \"/>\n",
       "<polyline clip-path=\"url(#clip222)\" style=\"stroke:#e26f46; stroke-linecap:butt; stroke-linejoin:round; stroke-width:16; stroke-opacity:1; fill:none\" points=\"\n",
       "  222.252,808.978 223.805,807.465 225.358,805.952 226.911,804.439 228.465,802.926 230.018,801.412 231.571,799.899 233.124,798.386 234.678,796.873 236.231,795.36 \n",
       "  237.784,793.847 239.337,792.334 240.891,790.821 242.444,789.308 243.997,787.795 245.55,786.283 247.103,784.77 248.657,783.257 250.21,781.744 251.763,780.231 \n",
       "  253.316,778.719 254.87,777.206 256.423,775.693 257.976,774.181 259.529,772.668 261.082,771.156 262.636,769.644 264.189,768.131 265.742,766.619 267.295,765.107 \n",
       "  268.849,763.595 270.402,762.083 271.955,760.572 273.508,759.06 275.061,757.549 276.615,756.037 278.168,754.526 279.721,753.015 281.274,751.504 282.828,749.994 \n",
       "  284.381,748.483 285.934,746.973 287.487,745.463 289.041,743.953 290.594,742.444 292.147,740.935 293.7,739.426 295.253,737.917 296.807,736.409 298.36,734.901 \n",
       "  299.913,733.393 301.466,731.886 303.02,730.379 304.573,728.872 306.126,727.366 307.679,725.861 309.232,724.356 310.786,722.851 312.339,721.347 313.892,719.843 \n",
       "  315.445,718.341 316.999,716.838 318.552,715.336 320.105,713.835 321.658,712.335 323.211,710.835 324.765,709.336 326.318,707.838 327.871,706.341 329.424,704.844 \n",
       "  330.978,703.349 332.531,701.854 334.084,700.36 335.637,698.867 337.191,697.375 338.744,695.884 340.297,694.395 341.85,692.906 343.403,691.419 344.957,689.932 \n",
       "  346.51,688.447 348.063,686.964 349.616,685.481 351.17,684 352.723,682.521 354.276,681.043 355.829,679.566 357.382,678.091 358.936,676.617 360.489,675.146 \n",
       "  362.042,673.676 363.595,672.207 365.149,670.741 366.702,669.276 368.255,667.814 369.808,666.353 371.361,664.894 372.915,663.438 374.468,661.984 376.021,660.532 \n",
       "  377.574,659.082 379.128,657.634 380.681,656.189 382.234,654.747 383.787,653.307 385.34,651.869 386.894,650.434 388.447,649.002 390,647.573 391.553,646.147 \n",
       "  393.107,644.724 394.66,643.303 396.213,641.886 397.766,640.472 399.32,639.061 400.873,637.654 402.426,636.25 403.979,634.849 405.532,633.452 407.086,632.059 \n",
       "  408.639,630.669 410.192,629.283 411.745,627.901 413.299,626.523 414.852,625.149 416.405,623.78 417.958,622.414 419.511,621.053 421.065,619.696 422.618,618.344 \n",
       "  424.171,616.996 425.724,615.653 427.278,614.315 428.831,612.982 430.384,611.654 431.937,610.33 433.49,609.012 435.044,607.699 436.597,606.392 438.15,605.09 \n",
       "  439.703,603.794 441.257,602.503 442.81,601.218 444.363,599.939 445.916,598.666 447.47,597.399 449.023,596.138 450.576,594.884 452.129,593.635 453.682,592.394 \n",
       "  455.236,591.159 456.789,589.931 458.342,588.709 459.895,587.495 461.449,586.287 463.002,585.087 464.555,583.894 466.108,582.709 467.661,581.531 469.215,580.36 \n",
       "  470.768,579.198 472.321,578.043 473.874,576.896 475.428,575.758 476.981,574.627 478.534,573.505 480.087,572.392 481.64,571.287 483.194,570.191 484.747,569.103 \n",
       "  486.3,568.025 487.853,566.956 489.407,565.896 490.96,564.845 492.513,563.804 494.066,562.772 495.62,561.75 497.173,560.738 498.726,559.736 500.279,558.743 \n",
       "  501.832,557.762 503.386,556.79 504.939,555.829 506.492,554.879 508.045,553.939 509.599,553.01 511.152,552.093 512.705,551.186 514.258,550.291 515.811,549.407 \n",
       "  517.365,548.535 518.918,547.674 520.471,546.826 522.024,545.989 523.578,545.164 525.131,544.352 526.684,543.552 528.237,542.764 529.79,541.99 531.344,541.227 \n",
       "  532.897,540.478 534.45,539.742 536.003,539.019 537.557,538.309 539.11,537.613 540.663,536.93 542.216,536.261 543.77,535.606 545.323,534.965 546.876,534.337 \n",
       "  548.429,533.725 549.982,533.126 551.536,532.542 553.089,531.972 554.642,531.418 556.195,530.878 557.749,530.353 559.302,529.843 560.855,529.349 562.408,528.87 \n",
       "  563.961,528.407 565.515,527.959 567.068,527.527 568.621,527.111 570.174,526.711 571.728,526.327 573.281,525.96 574.834,525.609 576.387,525.275 577.94,524.957 \n",
       "  579.494,524.656 581.047,524.373 582.6,524.106 584.153,523.857 585.707,523.625 587.26,523.41 588.813,523.213 590.366,523.034 591.919,522.873 593.473,522.729 \n",
       "  595.026,522.604 596.579,522.496 598.132,522.408 599.686,522.337 601.239,522.285 602.792,522.252 604.345,522.238 605.899,522.242 607.452,522.266 609.005,522.309 \n",
       "  610.558,522.371 612.111,522.452 613.665,522.553 615.218,522.674 616.771,522.814 618.324,522.975 619.878,523.155 621.431,523.355 622.984,523.576 624.537,523.816 \n",
       "  626.09,524.078 627.644,524.359 629.197,524.661 630.75,524.984 632.303,525.328 633.857,525.692 635.41,526.077 636.963,526.484 638.516,526.911 640.069,527.36 \n",
       "  641.623,527.83 643.176,528.321 644.729,528.834 646.282,529.368 647.836,529.924 649.389,530.502 650.942,531.101 652.495,531.723 654.049,532.366 655.602,533.031 \n",
       "  657.155,533.718 658.708,534.428 660.261,535.159 661.815,535.913 663.368,536.689 664.921,537.488 666.474,538.309 668.028,539.153 669.581,540.019 671.134,540.908 \n",
       "  672.687,541.819 674.24,542.753 675.794,543.71 677.347,544.69 678.9,545.693 680.453,546.719 682.007,547.767 683.56,548.839 685.113,549.934 686.666,551.052 \n",
       "  688.219,552.193 689.773,553.358 691.326,554.545 692.879,555.756 694.432,556.99 695.986,558.247 697.539,559.527 699.092,560.831 700.645,562.158 702.199,563.509 \n",
       "  703.752,564.882 705.305,566.28 706.858,567.7 708.411,569.144 709.965,570.612 711.518,572.103 713.071,573.617 714.624,575.155 716.178,576.716 717.731,578.301 \n",
       "  719.284,579.909 720.837,581.541 722.39,583.196 723.944,584.874 725.497,586.576 727.05,588.301 728.603,590.049 730.157,591.821 731.71,593.616 733.263,595.435 \n",
       "  734.816,597.276 736.369,599.141 737.923,601.029 739.476,602.94 741.029,604.874 742.582,606.831 744.136,608.811 745.689,610.814 747.242,612.839 748.795,614.888 \n",
       "  750.349,616.959 751.902,619.053 753.455,621.17 755.008,623.309 756.561,625.47 758.115,627.654 759.668,629.861 761.221,632.089 762.774,634.34 764.328,636.613 \n",
       "  765.881,638.908 767.434,641.224 768.987,643.563 770.54,645.923 772.094,648.305 773.647,650.708 775.2,653.133 776.753,655.579 778.307,658.046 779.86,660.535 \n",
       "  781.413,663.044 782.966,665.574 784.519,668.125 786.073,670.697 787.626,673.289 789.179,675.901 790.732,678.534 792.286,681.187 793.839,683.859 795.392,686.552 \n",
       "  796.945,689.264 798.498,691.996 800.052,694.747 801.605,697.518 803.158,700.307 804.711,703.116 806.265,705.943 807.818,708.789 809.371,711.654 810.924,714.537 \n",
       "  812.478,717.438 814.031,720.357 815.584,723.294 817.137,726.248 818.69,729.22 820.244,732.21 821.797,735.216 823.35,738.24 824.903,741.28 826.457,744.337 \n",
       "  828.01,747.41 829.563,750.499 831.116,753.605 832.669,756.726 834.223,759.863 835.776,763.015 837.329,766.182 838.882,769.365 840.436,772.562 841.989,775.773 \n",
       "  843.542,779 845.095,782.24 846.648,785.494 848.202,788.762 849.755,792.043 851.308,795.338 852.861,798.645 854.415,801.965 855.968,805.298 857.521,808.643 \n",
       "  859.074,812.001 860.628,815.37 862.181,818.75 863.734,822.142 865.287,825.545 866.84,828.959 868.394,832.383 869.947,835.817 871.5,839.262 873.053,842.716 \n",
       "  874.607,846.18 876.16,849.653 877.713,853.135 879.266,856.626 880.819,860.125 882.373,863.632 883.926,867.147 885.479,870.669 887.032,874.199 888.586,877.736 \n",
       "  890.139,881.279 891.692,884.829 893.245,888.385 894.798,891.947 896.352,895.514 897.905,899.086 899.458,902.663 901.011,906.245 902.565,909.831 904.118,913.42 \n",
       "  905.671,917.014 907.224,920.61 908.778,924.21 910.331,927.813 911.884,931.418 913.437,935.025 914.99,938.634 916.544,942.245 918.097,945.857 919.65,949.47 \n",
       "  921.203,953.083 922.757,956.697 924.31,960.31 925.863,963.923 927.416,967.536 928.969,971.147 930.523,974.757 932.076,978.364 933.629,981.97 935.182,985.573 \n",
       "  936.736,989.174 938.289,992.771 939.842,996.365 941.395,999.955 942.948,1003.54 944.502,1007.12 946.055,1010.7 947.608,1014.27 949.161,1017.84 950.715,1021.4 \n",
       "  952.268,1024.95 953.821,1028.5 955.374,1032.04 956.927,1035.57 958.481,1039.1 960.034,1042.61 961.587,1046.12 963.14,1049.63 964.694,1053.12 966.247,1056.6 \n",
       "  967.8,1060.07 969.353,1063.54 970.907,1066.99 972.46,1070.43 974.013,1073.86 975.566,1077.28 977.119,1080.69 978.673,1084.08 980.226,1087.47 981.779,1090.84 \n",
       "  983.332,1094.19 984.886,1097.54 986.439,1100.87 987.992,1104.18 989.545,1107.48 991.098,1110.77 992.652,1114.04 994.205,1117.29 995.758,1120.53 997.311,1123.75 \n",
       "  998.865,1126.96 1000.42,1130.15 1001.97,1133.32 1003.52,1136.47 1005.08,1139.61 1006.63,1142.72 1008.18,1145.82 1009.74,1148.9 1011.29,1151.96 1012.84,1155 \n",
       "  1014.4,1158.02 1015.95,1161.01 1017.5,1163.99 1019.06,1166.94 1020.61,1169.88 1022.16,1172.79 1023.72,1175.68 1025.27,1178.54 1026.82,1181.38 1028.38,1184.2 \n",
       "  1029.93,1187 1031.48,1189.77 1033.04,1192.52 1034.59,1195.24 1036.14,1197.94 1037.7,1200.61 1039.25,1203.25 1040.8,1205.87 1042.35,1208.47 1043.91,1211.03 \n",
       "  1045.46,1213.57 1047.01,1216.08 1048.57,1218.57 1050.12,1221.02 1051.67,1223.45 1053.23,1225.85 1054.78,1228.21 1056.33,1230.55 1057.89,1232.86 1059.44,1235.14 \n",
       "  1060.99,1237.39 1062.55,1239.61 1064.1,1241.79 1065.65,1243.95 1067.21,1246.07 1068.76,1248.16 1070.31,1250.22 1071.87,1252.25 1073.42,1254.24 1074.97,1256.2 \n",
       "  1076.53,1258.13 1078.08,1260.02 1079.63,1261.88 1081.19,1263.7 1082.74,1265.49 1084.29,1267.24 1085.85,1268.96 1087.4,1270.64 1088.95,1272.29 1090.5,1273.9 \n",
       "  1092.06,1275.48 1093.61,1277.01 1095.16,1278.52 1096.72,1279.98 1098.27,1281.41 1099.82,1282.79 1101.38,1284.15 1102.93,1285.46 1104.48,1286.73 1106.04,1287.97 \n",
       "  1107.59,1289.17 1109.14,1290.32 1110.7,1291.44 1112.25,1292.52 1113.8,1293.56 1115.36,1294.56 1116.91,1295.52 1118.46,1296.44 1120.02,1297.32 1121.57,1298.15 \n",
       "  1123.12,1298.95 1124.68,1299.7 1126.23,1300.42 1127.78,1301.09 1129.34,1301.72 1130.89,1302.3 1132.44,1302.85 1134,1303.35 1135.55,1303.81 1137.1,1304.23 \n",
       "  1138.65,1304.6 1140.21,1304.93 1141.76,1305.22 1143.31,1305.46 1144.87,1305.66 1146.42,1305.82 1147.97,1305.93 1149.53,1306 1151.08,1306.02 1152.63,1306 \n",
       "  1154.19,1305.93 1155.74,1305.82 1157.29,1305.67 1158.85,1305.47 1160.4,1305.22 1161.95,1304.93 1163.51,1304.6 1165.06,1304.22 1166.61,1303.79 1168.17,1303.32 \n",
       "  1169.72,1302.8 1171.27,1302.24 1172.83,1301.63 1174.38,1300.97 1175.93,1300.27 1177.49,1299.52 1179.04,1298.73 1180.59,1297.89 1182.15,1297 1183.7,1296.07 \n",
       "  1185.25,1295.09 1186.8,1294.06 1188.36,1292.99 1189.91,1291.87 1191.46,1290.7 1193.02,1289.48 1194.57,1288.22 1196.12,1286.92 1197.68,1285.56 1199.23,1284.16 \n",
       "  1200.78,1282.71 1202.34,1281.21 1203.89,1279.67 1205.44,1278.08 1207,1276.44 1208.55,1274.76 1210.1,1273.03 1211.66,1271.25 1213.21,1269.43 1214.76,1267.56 \n",
       "  1216.32,1265.64 1217.87,1263.67 1219.42,1261.66 1220.98,1259.6 1222.53,1257.5 1224.08,1255.35 1225.64,1253.15 1227.19,1250.9 1228.74,1248.61 1230.3,1246.28 \n",
       "  1231.85,1243.89 1233.4,1241.47 1234.95,1238.99 1236.51,1236.47 1238.06,1233.9 1239.61,1231.29 1241.17,1228.63 1242.72,1225.93 1244.27,1223.18 1245.83,1220.39 \n",
       "  1247.38,1217.55 1248.93,1214.67 1250.49,1211.74 1252.04,1208.77 1253.59,1205.75 1255.15,1202.69 1256.7,1199.59 1258.25,1196.44 1259.81,1193.25 1261.36,1190.01 \n",
       "  1262.91,1186.74 1264.47,1183.41 1266.02,1180.05 1267.57,1176.64 1269.13,1173.19 1270.68,1169.7 1272.23,1166.17 1273.79,1162.59 1275.34,1158.98 1276.89,1155.32 \n",
       "  1278.45,1151.62 1280,1147.88 1281.55,1144.1 1283.1,1140.28 1284.66,1136.41 1286.21,1132.51 1287.76,1128.57 1289.32,1124.59 1290.87,1120.57 1292.42,1116.51 \n",
       "  1293.98,1112.42 1295.53,1108.28 1297.08,1104.11 1298.64,1099.9 1300.19,1095.65 1301.74,1091.36 1303.3,1087.04 1304.85,1082.68 1306.4,1078.29 1307.96,1073.85 \n",
       "  1309.51,1069.39 1311.06,1064.88 1312.62,1060.35 1314.17,1055.78 1315.72,1051.17 1317.28,1046.53 1318.83,1041.86 1320.38,1037.15 1321.94,1032.41 1323.49,1027.64 \n",
       "  1325.04,1022.83 1326.6,1018 1328.15,1013.13 1329.7,1008.23 1331.25,1003.3 1332.81,998.338 1334.36,993.348 1335.91,988.328 1337.47,983.279 1339.02,978.202 \n",
       "  1340.57,973.096 1342.13,967.962 1343.68,962.8 1345.23,957.611 1346.79,952.396 1348.34,947.154 1349.89,941.887 1351.45,936.594 1353,931.276 1354.55,925.934 \n",
       "  1356.11,920.567 1357.66,915.177 1359.21,909.764 1360.77,904.327 1362.32,898.869 1363.87,893.389 1365.43,887.887 1366.98,882.365 1368.53,876.822 1370.09,871.26 \n",
       "  1371.64,865.678 1373.19,860.077 1374.75,854.458 1376.3,848.821 1377.85,843.166 1379.4,837.495 1380.96,831.807 1382.51,826.104 1384.06,820.385 1385.62,814.651 \n",
       "  1387.17,808.904 1388.72,803.142 1390.28,797.367 1391.83,791.58 1393.38,785.781 1394.94,779.97 1396.49,774.148 1398.04,768.316 1399.6,762.474 1401.15,756.622 \n",
       "  1402.7,750.762 1404.26,744.892 1405.81,739.015 1407.36,733.13 1408.92,727.238 1410.47,721.34 1412.02,715.436 1413.58,709.526 1415.13,703.612 1416.68,697.694 \n",
       "  1418.24,691.772 1419.79,685.847 1421.34,679.92 1422.9,673.991 1424.45,668.061 1426,662.13 1427.55,656.199 1429.11,650.268 1430.66,644.338 1432.21,638.41 \n",
       "  1433.77,632.485 1435.32,626.562 1436.87,620.642 1438.43,614.726 1439.98,608.815 1441.53,602.909 1443.09,597.008 1444.64,591.114 1446.19,585.226 1447.75,579.346 \n",
       "  1449.3,573.473 1450.85,567.61 1452.41,561.755 1453.96,555.91 1455.51,550.075 1457.07,544.251 1458.62,538.438 1460.17,532.638 1461.73,526.85 1463.28,521.075 \n",
       "  1464.83,515.313 1466.39,509.566 1467.94,503.834 1469.49,498.117 1471.05,492.417 1472.6,486.733 1474.15,481.066 1475.7,475.416 1477.26,469.785 1478.81,464.173 \n",
       "  1480.36,458.581 1481.92,453.008 1483.47,447.457 1485.02,441.926 1486.58,436.417 1488.13,430.931 1489.68,425.467 1491.24,420.027 1492.79,414.611 1494.34,409.22 \n",
       "  1495.9,403.854 1497.45,398.514 1499,393.2 1500.56,387.913 1502.11,382.654 1503.66,377.423 1505.22,372.221 1506.77,367.048 1508.32,361.906 1509.88,356.793 \n",
       "  1511.43,351.712 1512.98,346.662 1514.54,341.645 1516.09,336.66 1517.64,331.709 1519.2,326.792 1520.75,321.909 1522.3,317.061 1523.85,312.25 1525.41,307.474 \n",
       "  1526.96,302.735 1528.51,298.034 1530.07,293.371 1531.62,288.747 1533.17,284.162 1534.73,279.616 1536.28,275.111 1537.83,270.645 1539.39,266.22 1540.94,261.836 \n",
       "  1542.49,257.494 1544.05,253.194 1545.6,248.937 1547.15,244.723 1548.71,240.553 1550.26,236.428 1551.81,232.348 1553.37,228.313 1554.92,224.324 1556.47,220.381 \n",
       "  1558.03,216.486 1559.58,212.638 1561.13,208.838 1562.69,205.087 1564.24,201.384 1565.79,197.732 1567.35,194.129 1568.9,190.576 1570.45,187.074 1572,183.624 \n",
       "  1573.56,180.226 1575.11,176.879 1576.66,173.586 1578.22,170.345 1579.77,167.158 1581.32,164.026 1582.88,160.947 1584.43,157.923 1585.98,154.955 1587.54,152.042 \n",
       "  1589.09,149.185 1590.64,146.385 1592.2,143.641 1593.75,140.955 1595.3,138.326 1596.86,135.756 1598.41,133.243 1599.96,130.79 1601.52,128.395 1603.07,126.06 \n",
       "  1604.62,123.784 1606.18,121.569 1607.73,119.414 1609.28,117.32 1610.84,115.287 1612.39,113.315 1613.94,111.405 1615.5,109.557 1617.05,107.772 1618.6,106.049 \n",
       "  1620.15,104.389 1621.71,102.792 1623.26,101.259 1624.81,99.79 1626.37,98.3848 1627.92,97.0439 1629.47,95.7677 1631.03,94.5563 1632.58,93.41 1634.13,92.3291 \n",
       "  1635.69,91.3138 1637.24,90.3644 1638.79,89.481 1640.35,88.664 1641.9,87.9135 1643.45,87.2297 1645.01,86.6129 1646.56,86.0633 1648.11,85.5811 1649.67,85.1663 \n",
       "  1651.22,84.8194 1652.77,84.5404 1654.33,84.3295 1655.88,84.1869 1657.43,84.1127 1658.99,84.1072 1660.54,84.1704 1662.09,84.3026 1663.65,84.5039 1665.2,84.7742 \n",
       "  1666.75,85.1135 1668.3,85.5221 1669.86,86 1671.41,86.5474 1672.96,87.1643 1674.52,87.8508 1676.07,88.6072 1677.62,89.4333 1679.18,90.3294 1680.73,91.2955 \n",
       "  1682.28,92.3317 1683.84,93.4379 1685.39,94.6144 1686.94,95.8611 1688.5,97.178 1690.05,98.5652 1691.6,100.023 1693.16,101.551 1694.71,103.149 1696.26,104.817 \n",
       "  1697.82,106.556 1699.37,108.365 1700.92,110.244 1702.48,112.194 1704.03,114.214 1705.58,116.304 1707.14,118.463 1708.69,120.694 1710.24,122.993 1711.8,125.363 \n",
       "  1713.35,127.803 1714.9,130.312 1716.45,132.891 1718.01,135.54 1719.56,138.257 1721.11,141.044 1722.67,143.901 1724.22,146.826 1725.77,149.82 1727.33,152.882 \n",
       "  1728.88,156.014 1730.43,159.213 1731.99,162.481 1733.54,165.816 1735.09,169.22 1736.65,172.691 1738.2,176.229 1739.75,179.835 1741.31,183.508 1742.86,187.247 \n",
       "  1744.41,191.053 1745.97,194.925 1747.52,198.863 1749.07,202.867 1750.63,206.936 1752.18,211.07 1753.73,215.27 1755.29,219.534 1756.84,223.862 1758.39,228.254 \n",
       "  1759.95,232.71 1761.5,237.229 1763.05,241.812 1764.6,246.457 1766.16,251.164 1767.71,255.934 1769.26,260.765 1770.82,265.657 1772.37,270.611 1773.92,275.625 \n",
       "  \n",
       "  \"/>\n",
       "<path clip-path=\"url(#clip220)\" d=\"\n",
       "M1844.94 440.581 L2352.76 440.581 L2352.76 90.6606 L1844.94 90.6606  Z\n",
       "  \" fill=\"#ffffff\" fill-rule=\"evenodd\" fill-opacity=\"1\"/>\n",
       "<polyline clip-path=\"url(#clip220)\" style=\"stroke:#000000; stroke-linecap:butt; stroke-linejoin:round; stroke-width:4; stroke-opacity:1; fill:none\" points=\"\n",
       "  1844.94,440.581 2352.76,440.581 2352.76,90.6606 1844.94,90.6606 1844.94,440.581 \n",
       "  \"/>\n",
       "<polyline clip-path=\"url(#clip220)\" style=\"stroke:#009af9; stroke-linecap:butt; stroke-linejoin:round; stroke-width:9; stroke-opacity:1; fill:none\" points=\"\n",
       "  1868.61,207.301 2010.65,207.301 \n",
       "  \"/>\n",
       "<path clip-path=\"url(#clip220)\" d=\"M2089.79 187.848 L2068.69 216.233 L2090.88 246.181 L2079.58 246.181 L2062.6 223.264 L2045.62 246.181 L2034.32 246.181 L2056.98 215.66 L2036.25 187.848 L2047.55 187.848 L2063.02 208.629 L2078.49 187.848 L2089.79 187.848 Z\" fill=\"#000000\" fill-rule=\"evenodd\" fill-opacity=\"1\" /><path clip-path=\"url(#clip220)\" d=\"M2105.46 255.139 L2136.61 255.139 L2136.61 262.847 L2105.46 262.847 L2105.46 255.139 Z\" fill=\"#000000\" fill-rule=\"evenodd\" fill-opacity=\"1\" /><path clip-path=\"url(#clip220)\" d=\"M2167.24 171.285 L2167.24 187.848 L2186.97 187.848 L2186.97 195.295 L2167.24 195.295 L2167.24 226.962 Q2167.24 234.097 2169.16 236.129 Q2171.14 238.16 2177.13 238.16 L2186.97 238.16 L2186.97 246.181 L2177.13 246.181 Q2166.04 246.181 2161.82 242.066 Q2157.6 237.899 2157.6 226.962 L2157.6 195.295 L2150.57 195.295 L2150.57 187.848 L2157.6 187.848 L2157.6 171.285 L2167.24 171.285 Z\" fill=\"#000000\" fill-rule=\"evenodd\" fill-opacity=\"1\" /><path clip-path=\"url(#clip220)\" d=\"M2222.6 165.244 Q2215.62 177.223 2212.23 188.941 Q2208.85 200.66 2208.85 212.691 Q2208.85 224.722 2212.23 236.545 Q2215.67 248.316 2222.6 260.243 L2214.27 260.243 Q2206.45 248.004 2202.55 236.181 Q2198.69 224.358 2198.69 212.691 Q2198.69 201.077 2202.55 189.306 Q2206.4 177.535 2214.27 165.244 L2222.6 165.244 Z\" fill=\"#000000\" fill-rule=\"evenodd\" fill-opacity=\"1\" /><path clip-path=\"url(#clip220)\" d=\"M2250.67 171.285 L2250.67 187.848 L2270.41 187.848 L2270.41 195.295 L2250.67 195.295 L2250.67 226.962 Q2250.67 234.097 2252.6 236.129 Q2254.58 238.16 2260.57 238.16 L2270.41 238.16 L2270.41 246.181 L2260.57 246.181 Q2249.47 246.181 2245.26 242.066 Q2241.04 237.899 2241.04 226.962 L2241.04 195.295 L2234.01 195.295 L2234.01 187.848 L2241.04 187.848 L2241.04 171.285 L2250.67 171.285 Z\" fill=\"#000000\" fill-rule=\"evenodd\" fill-opacity=\"1\" /><path clip-path=\"url(#clip220)\" d=\"M2281.51 165.244 L2289.84 165.244 Q2297.65 177.535 2301.51 189.306 Q2305.41 201.077 2305.41 212.691 Q2305.41 224.358 2301.51 236.181 Q2297.65 248.004 2289.84 260.243 L2281.51 260.243 Q2288.43 248.316 2291.82 236.545 Q2295.26 224.722 2295.26 212.691 Q2295.26 200.66 2291.82 188.941 Q2288.43 177.223 2281.51 165.244 Z\" fill=\"#000000\" fill-rule=\"evenodd\" fill-opacity=\"1\" /><polyline clip-path=\"url(#clip220)\" style=\"stroke:#e26f46; stroke-linecap:butt; stroke-linejoin:round; stroke-width:9; stroke-opacity:1; fill:none\" points=\"\n",
       "  1868.61,323.941 2010.65,323.941 \n",
       "  \"/>\n",
       "<path clip-path=\"url(#clip220)\" d=\"M2089.79 304.488 L2068.69 332.873 L2090.88 362.821 L2079.58 362.821 L2062.6 339.904 L2045.62 362.821 L2034.32 362.821 L2056.98 332.3 L2036.25 304.488 L2047.55 304.488 L2063.02 325.269 L2078.49 304.488 L2089.79 304.488 Z\" fill=\"#000000\" fill-rule=\"evenodd\" fill-opacity=\"1\" /><path clip-path=\"url(#clip220)\" d=\"M2127.44 281.884 Q2120.46 293.863 2117.08 305.581 Q2113.69 317.3 2113.69 329.331 Q2113.69 341.362 2117.08 353.185 Q2120.52 364.956 2127.44 376.883 L2119.11 376.883 Q2111.3 364.644 2107.39 352.821 Q2103.54 340.998 2103.54 329.331 Q2103.54 317.717 2107.39 305.946 Q2111.25 294.175 2119.11 281.884 L2127.44 281.884 Z\" fill=\"#000000\" fill-rule=\"evenodd\" fill-opacity=\"1\" /><path clip-path=\"url(#clip220)\" d=\"M2155.52 287.925 L2155.52 304.488 L2175.26 304.488 L2175.26 311.935 L2155.52 311.935 L2155.52 343.602 Q2155.52 350.737 2157.44 352.769 Q2159.42 354.8 2165.41 354.8 L2175.26 354.8 L2175.26 362.821 L2165.41 362.821 Q2154.32 362.821 2150.1 358.706 Q2145.88 354.539 2145.88 343.602 L2145.88 311.935 L2138.85 311.935 L2138.85 304.488 L2145.88 304.488 L2145.88 287.925 L2155.52 287.925 Z\" fill=\"#000000\" fill-rule=\"evenodd\" fill-opacity=\"1\" /><path clip-path=\"url(#clip220)\" d=\"M2186.35 281.884 L2194.68 281.884 Q2202.5 294.175 2206.35 305.946 Q2210.26 317.717 2210.26 329.331 Q2210.26 340.998 2206.35 352.821 Q2202.5 364.644 2194.68 376.883 L2186.35 376.883 Q2193.28 364.956 2196.66 353.185 Q2200.1 341.362 2200.1 329.331 Q2200.1 317.3 2196.66 305.581 Q2193.28 293.863 2186.35 281.884 Z\" fill=\"#000000\" fill-rule=\"evenodd\" fill-opacity=\"1\" /></svg>\n"
      ]
     },
     "execution_count": 179,
     "metadata": {},
     "output_type": "execute_result"
    }
   ],
   "source": [
    "prob = ODEProblem(structural_simplify(fol_separate), [x => 0.0, D(x) => 1], \n",
    "    (0.0,10.0), [w => 1.0])\n",
    "sol = solve(prob)\n",
    "plot(sol)"
   ]
  },
  {
   "cell_type": "code",
   "execution_count": 22,
   "id": "c50c21da",
   "metadata": {},
   "outputs": [
    {
     "data": {
      "text/latex": [
       "\\begin{align}\n",
       "\\mathrm{\\frac{d}{d t}}\\left( \\frac{dx(t)}{dt} \\right) =&  - w^{2} x\\left( t \\right)\n",
       "\\end{align}\n"
      ],
      "text/plain": [
       "\u001b[0m\u001b[1mModel fol_separate with 1 equations\u001b[22m\n",
       "\u001b[0m\u001b[1mStates (1):\u001b[22m\n",
       "  x(t)\n",
       "\u001b[0m\u001b[1mParameters (1):\u001b[22m\n",
       "  w"
      ]
     },
     "execution_count": 22,
     "metadata": {},
     "output_type": "execute_result"
    }
   ],
   "source": [
    "fol_separate"
   ]
  },
  {
   "cell_type": "code",
   "execution_count": 54,
   "id": "04273b09",
   "metadata": {
    "tags": []
   },
   "outputs": [
    {
     "data": {
      "text/latex": [
       "\\begin{equation}\n",
       " - 0.5 \\left( \\mathrm{x_1}\\left( t \\right) \\right)^{2} k_1 - 0.5 \\left(  - \\mathrm{x_1}\\left( t \\right) + \\mathrm{x_2}\\left( t \\right) \\right)^{2} k_2 + 0.5 \\left( \\frac{dx_1(t)}{dt} \\right)^{2} m_1 + 0.5 \\left( \\frac{dx_2(t)}{dt} \\right)^{2} m_2\n",
       "\\end{equation}\n"
      ],
      "text/plain": [
       "0.5(Differential(t)(x[1](t))^2)*m[1] + 0.5(Differential(t)(x[2](t))^2)*m[2] - 0.5(x[1](t)^2)*k[1] - 0.5((x[2](t) - x[1](t))^2)*k[2]"
      ]
     },
     "execution_count": 54,
     "metadata": {},
     "output_type": "execute_result"
    }
   ],
   "source": [
    "@variables t x[1:2](t) # independent and dependent variables\n",
    "@parameters k[1:2] m[1:2]# parameters\n",
    "# k = [k1, k2]\n",
    "# m = [m1, m2]\n",
    "\n",
    "D = Differential(t) # define an operator for the differentiation w.r.t. time\n",
    "T = 1/2*m[1]*D(x[1])^2 + 1/2*m[2]*D(x[2])^2 \n",
    "V = 1/2*k[1]*x[1]^2 + 1/2*k[2]*(x[2]- x[1])^2\n",
    "L = T - V"
   ]
  },
  {
   "cell_type": "code",
   "execution_count": 58,
   "id": "052ebb08",
   "metadata": {},
   "outputs": [
    {
     "data": {
      "text/latex": [
       "\\begin{equation}\n",
       "\\mathrm{x_1}\\left( t \\right) k_1\n",
       "\\end{equation}\n"
      ],
      "text/plain": [
       "x[1](t)*k[1]"
      ]
     },
     "execution_count": 58,
     "metadata": {},
     "output_type": "execute_result"
    }
   ],
   "source": [
    "Symbolics.expand_derivatives(Dx2(V))"
   ]
  },
  {
   "cell_type": "code",
   "execution_count": 46,
   "id": "e7ca08b5",
   "metadata": {},
   "outputs": [
    {
     "data": {
      "text/latex": [
       "\\begin{equation}\n",
       "\\left[\n",
       "\\begin{array}{c}\n",
       "\\mathrm{\\frac{d}{d t}}\\left( \\frac{dx_1(t)}{dt} \\right) \\\\\n",
       "\\mathrm{\\frac{d}{d t}}\\left( \\frac{dx_2(t)}{dt} \\right) \\\\\n",
       "\\end{array}\n",
       "\\right]\n",
       "\\end{equation}\n"
      ],
      "text/plain": [
       "2-element Vector{Num}:\n",
       " Differential(t)(Differential(t)(x[1](t)))\n",
       " Differential(t)(Differential(t)(x[2](t)))"
      ]
     },
     "execution_count": 46,
     "metadata": {},
     "output_type": "execute_result"
    }
   ],
   "source": [
    "x = [x[i] for i in range(1,2)]\n",
    "dx = [D(x[i]) for i in range(1,2)]\n",
    "ddx = [D(dx[i]) for i in range(1,2)]"
   ]
  },
  {
   "cell_type": "code",
   "execution_count": 47,
   "id": "f5d84f4e",
   "metadata": {},
   "outputs": [
    {
     "data": {
      "text/latex": [
       "\\begin{equation}\n",
       "\\left[\n",
       "\\begin{array}{cc}\n",
       "\\mathrm{\\frac{d}{d t}}\\left( \\frac{dx_1(t)}{dt} m_1 \\right) & \\mathrm{\\frac{d}{d t}}\\left( \\frac{dx_2(t)}{dt} m_2 \\right) \\\\\n",
       "\\end{array}\n",
       "\\right]\n",
       "\\end{equation}\n"
      ],
      "text/plain": [
       "1×2 Matrix{Num}:\n",
       " Differential(t)(Differential(t)(x[1](t))*m[1])  …  Differential(t)(Differential(t)(x[2](t))*m[2])"
      ]
     },
     "execution_count": 47,
     "metadata": {},
     "output_type": "execute_result"
    }
   ],
   "source": [
    "D.(Symbolics.jacobian([L], dx))"
   ]
  },
  {
   "cell_type": "code",
   "execution_count": 100,
   "id": "940bf2d4",
   "metadata": {},
   "outputs": [
    {
     "data": {
      "text/latex": [
       "\\begin{equation}\n",
       "0\n",
       "\\end{equation}\n"
      ],
      "text/plain": [
       "0"
      ]
     },
     "execution_count": 100,
     "metadata": {},
     "output_type": "execute_result"
    }
   ],
   "source": [
    "@variables t x[1:2](t) # independent and dependent variables\n",
    "@parameters k # parameters\n",
    "\n",
    "Dx1 = Differential(x[1])\n",
    "Dx2 = Differential(x[2])\n",
    "V = 1/2*k*(x[2]- x[1])^2\n",
    "\n",
    "Symbolics.expand_derivatives(Dx1(V))"
   ]
  },
  {
   "cell_type": "code",
   "execution_count": 104,
   "id": "8ff66e92",
   "metadata": {},
   "outputs": [
    {
     "data": {
      "text/latex": [
       "\\begin{equation}\n",
       "k \\mathrm{x_1}\\left( t \\right) + k \\mathrm{x_2}\\left( t \\right)\n",
       "\\end{equation}\n"
      ],
      "text/plain": [
       "k*x[1](t) + k*x[2](t)"
      ]
     },
     "execution_count": 104,
     "metadata": {},
     "output_type": "execute_result"
    }
   ],
   "source": [
    "@variables t x[1:2](t) # independent and dependent variables\n",
    "@parameters k # parameters\n",
    "\n",
    "Dx1 = Differential(x[1])\n",
    "Dx2 = Differential(x[2])\n",
    "V = 1/2*k*x[2]^2 + 1/2*k*x[1]^2 #- k*x[1]*x[2]\n",
    "\n",
    "Symbolics.expand_derivatives(Dx1(V))"
   ]
  },
  {
   "cell_type": "code",
   "execution_count": 26,
   "id": "06c70f2c",
   "metadata": {},
   "outputs": [
    {
     "data": {
      "text/latex": [
       "\\begin{equation}\n",
       "\\left[\n",
       "\\begin{array}{cc}\n",
       "k1 \\mathrm{x_1}\\left( t \\right) + \\mathrm{\\frac{d}{d t}}\\left( m1 \\frac{dx_1(t)}{dt} \\right) & k1 \\mathrm{x_1}\\left( t \\right) + \\mathrm{\\frac{d}{d t}}\\left( m2 \\frac{dx_2(t)}{dt} \\right) \\\\\n",
       "\\end{array}\n",
       "\\right]\n",
       "\\end{equation}\n"
      ],
      "text/plain": [
       "1×2 Matrix{Num}:\n",
       " k1*x[1](t) + Differential(t)(m1*Differential(t)(x[1](t)))  …  k1*x[1](t) + Differential(t)(m2*Differential(t)(x[2](t)))"
      ]
     },
     "execution_count": 26,
     "metadata": {},
     "output_type": "execute_result"
    }
   ],
   "source": [
    "eom = D.(Symbolics.jacobian([L], dx)) - Symbolics.jacobian([L], x)"
   ]
  },
  {
   "cell_type": "code",
   "execution_count": 27,
   "id": "e28df15e",
   "metadata": {},
   "outputs": [
    {
     "data": {
      "text/plain": [
       "(2,)"
      ]
     },
     "execution_count": 27,
     "metadata": {},
     "output_type": "execute_result"
    }
   ],
   "source": [
    "eom = Symbolics.simplify.(Symbolics.expand_derivatives.(eom))\n",
    "eom = reshape(eom, 2, )\n",
    "# size([x[1], x[2]])\n",
    "size(eom)"
   ]
  },
  {
   "cell_type": "code",
   "execution_count": 28,
   "id": "0b82e005",
   "metadata": {},
   "outputs": [
    {
     "data": {
      "text/latex": [
       "\\begin{equation}\n",
       "\\left[\n",
       "\\begin{array}{c}\n",
       "m1 \\mathrm{\\frac{d}{d t}}\\left( \\frac{dx_1(t)}{dt} \\right) \\\\\n",
       "m2 \\mathrm{\\frac{d}{d t}}\\left( \\frac{dx_2(t)}{dt} \\right) \\\\\n",
       "\\end{array}\n",
       "\\right]\n",
       "\\end{equation}\n"
      ],
      "text/plain": [
       "2-element Vector{Num}:\n",
       " m1*Differential(t)(Differential(t)(x[1](t)))\n",
       " m2*Differential(t)(Differential(t)(x[2](t)))"
      ]
     },
     "execution_count": 28,
     "metadata": {},
     "output_type": "execute_result"
    }
   ],
   "source": [
    "M = Symbolics.jacobian(eom, ddx)\n",
    "\n",
    "rhs = M*ddx - eom\n",
    "\n",
    "Ma = M*ddx\n",
    "\n"
   ]
  },
  {
   "cell_type": "code",
   "execution_count": 29,
   "id": "59c3fa20",
   "metadata": {},
   "outputs": [
    {
     "data": {
      "text/plain": [
       "m2*Differential(t)(Differential(t)(x[2](t))) ~ -k1*x[1](t)"
      ]
     },
     "execution_count": 29,
     "metadata": {},
     "output_type": "execute_result"
    }
   ],
   "source": [
    "Ma[2] ~ rhs[2]"
   ]
  },
  {
   "cell_type": "code",
   "execution_count": 30,
   "id": "8f04d810",
   "metadata": {},
   "outputs": [
    {
     "data": {
      "text/plain": [
       "Differential(t)(Differential(t)(x[2](t))) ~ (-k2*(x[2](t) - x[1](t))) / m1"
      ]
     },
     "execution_count": 30,
     "metadata": {},
     "output_type": "execute_result"
    }
   ],
   "source": [
    "ddx[2] ~ -k[2]/m[1]*(x[2] - x[1])"
   ]
  },
  {
   "cell_type": "code",
   "execution_count": 38,
   "id": "50f075ff",
   "metadata": {},
   "outputs": [
    {
     "data": {
      "text/latex": [
       "\\begin{align}\n",
       "m1 \\mathrm{\\frac{d}{d t}}\\left( \\frac{dx_1(t)}{dt} \\right) =&  - k1 \\mathrm{x_1}\\left( t \\right) \\\\\n",
       "m2 \\mathrm{\\frac{d}{d t}}\\left( \\frac{dx_2(t)}{dt} \\right) =&  - k1 \\mathrm{x_1}\\left( t \\right)\n",
       "\\end{align}\n"
      ],
      "text/plain": [
       "2-element Vector{Equation}:\n",
       " m1*Differential(t)(Differential(t)(x[1](t))) ~ -k1*x[1](t)\n",
       " m2*Differential(t)(Differential(t)(x[2](t))) ~ -k1*x[1](t)"
      ]
     },
     "execution_count": 38,
     "metadata": {},
     "output_type": "execute_result"
    }
   ],
   "source": [
    "eqns = [Ma[1] ~ rhs[1],Ma[2] ~ rhs[2]]"
   ]
  },
  {
   "cell_type": "code",
   "execution_count": 39,
   "id": "c04751b5",
   "metadata": {},
   "outputs": [
    {
     "ename": "LoadError",
     "evalue": "MethodError: isequal(::Term{Real, Base.ImmutableDict{DataType, Any}}, ::Missing) is ambiguous. Candidates:\n  isequal(::Any, ::Missing) in Base at missing.jl:82\n  isequal(::SymbolicUtils.Symbolic, x) in SymbolicUtils at /home/ryan/.julia/packages/SymbolicUtils/v2ZkM/src/types.jl:63\nPossible fix, define\n  isequal(::SymbolicUtils.Symbolic, ::Missing)",
     "output_type": "error",
     "traceback": [
      "MethodError: isequal(::Term{Real, Base.ImmutableDict{DataType, Any}}, ::Missing) is ambiguous. Candidates:\n  isequal(::Any, ::Missing) in Base at missing.jl:82\n  isequal(::SymbolicUtils.Symbolic, x) in SymbolicUtils at /home/ryan/.julia/packages/SymbolicUtils/v2ZkM/src/types.jl:63\nPossible fix, define\n  isequal(::SymbolicUtils.Symbolic, ::Missing)",
      "",
      "Stacktrace:",
      " [1] collect_var!(states::OrderedCollections.OrderedSet{Any}, parameters::OrderedCollections.OrderedSet{Any}, var::Term{Real, Base.ImmutableDict{DataType, Any}}, iv::Missing)",
      "   @ ModelingToolkit ~/.julia/packages/ModelingToolkit/f218S/src/utils.jl:399",
      " [2] collect_vars!(states::OrderedCollections.OrderedSet{Any}, parameters::OrderedCollections.OrderedSet{Any}, expr::SymbolicUtils.Mul{Real, Int64, Dict{Any, Number}, Nothing}, iv::Missing)",
      "   @ ModelingToolkit ~/.julia/packages/ModelingToolkit/f218S/src/utils.jl:378",
      " [3] ODESystem(eqs::Vector{Equation}, iv::Nothing; kwargs::Base.Pairs{Symbol, Symbol, Tuple{Symbol}, NamedTuple{(:name,), Tuple{Symbol}}})",
      "   @ ModelingToolkit ~/.julia/packages/ModelingToolkit/f218S/src/systems/diffeqs/odesystem.jl:202",
      " [4] top-level scope",
      "   @ In[39]:1",
      " [5] eval",
      "   @ ./boot.jl:373 [inlined]",
      " [6] include_string(mapexpr::typeof(REPL.softscope), mod::Module, code::String, filename::String)",
      "   @ Base ./loading.jl:1196"
     ]
    }
   ],
   "source": [
    "@named fol_separate = ODESystem(eqns)"
   ]
  },
  {
   "cell_type": "code",
   "execution_count": 40,
   "id": "5fa1d227",
   "metadata": {},
   "outputs": [
    {
     "ename": "LoadError",
     "evalue": "MethodError: no method matching operation(::Vector{Num})\n\u001b[0mClosest candidates are:\n\u001b[0m  operation(\u001b[91m::SymbolicUtils.Add\u001b[39m) at ~/.julia/packages/SymbolicUtils/v2ZkM/src/types.jl:639\n\u001b[0m  operation(\u001b[91m::SymbolicUtils.Pow\u001b[39m) at ~/.julia/packages/SymbolicUtils/v2ZkM/src/types.jl:1013\n\u001b[0m  operation(\u001b[91m::Term\u001b[39m) at ~/.julia/packages/SymbolicUtils/v2ZkM/src/types.jl:315\n\u001b[0m  ...",
     "output_type": "error",
     "traceback": [
      "MethodError: no method matching operation(::Vector{Num})\n\u001b[0mClosest candidates are:\n\u001b[0m  operation(\u001b[91m::SymbolicUtils.Add\u001b[39m) at ~/.julia/packages/SymbolicUtils/v2ZkM/src/types.jl:639\n\u001b[0m  operation(\u001b[91m::SymbolicUtils.Pow\u001b[39m) at ~/.julia/packages/SymbolicUtils/v2ZkM/src/types.jl:1013\n\u001b[0m  operation(\u001b[91m::Term\u001b[39m) at ~/.julia/packages/SymbolicUtils/v2ZkM/src/types.jl:315\n\u001b[0m  ...",
      "",
      "Stacktrace:",
      "  [1] diff2term(O::Term{Vector{Num}, Nothing})",
      "    @ Symbolics ~/.julia/packages/Symbolics/DCeQ3/src/utils.jl:0",
      "  [2] (::ModelingToolkit.var\"#14#16\"{typeof(Symbolics.diff2term)})(k::Term{Vector{Num}, Nothing})",
      "    @ ModelingToolkit ./none:0",
      "  [3] iterate",
      "    @ ./generator.jl:47 [inlined]",
      "  [4] _all(f::Base.var\"#318#320\", itr::Base.Generator{Base.KeySet{Any, Dict{Any, Any}}, ModelingToolkit.var\"#14#16\"{typeof(Symbolics.diff2term)}}, #unused#::Colon)",
      "    @ Base ./reduce.jl:1156",
      "  [5] all",
      "    @ ./reduce.jl:1152 [inlined]",
      "  [6] Dict(kv::Base.Generator{Base.KeySet{Any, Dict{Any, Any}}, ModelingToolkit.var\"#14#16\"{typeof(Symbolics.diff2term)}})",
      "    @ Base ./dict.jl:131",
      "  [7] _varmap_to_vars(varmap::Dict{Any, Float64}, varlist::Vector{Term{Real, Base.ImmutableDict{DataType, Any}}}; defaults::Dict{Any, Any}, check::Bool, toterm::typeof(Symbolics.diff2term))",
      "    @ ModelingToolkit ~/.julia/packages/ModelingToolkit/f218S/src/variables.jl:77",
      "  [8] varmap_to_vars(varmap::Vector{Pair{Any, Float64}}, varlist::Vector{Term{Real, Base.ImmutableDict{DataType, Any}}}; defaults::Dict{Any, Any}, check::Bool, toterm::Function, promotetoconcrete::Bool)",
      "    @ ModelingToolkit ~/.julia/packages/ModelingToolkit/f218S/src/variables.jl:56",
      "  [9] process_DEProblem(constructor::Type, sys::ODESystem, u0map::Vector{Pair{Any, Float64}}, parammap::Vector{Pair{Num, Float64}}; implicit_dae::Bool, du0map::Nothing, version::Nothing, tgrad::Bool, jac::Bool, checkbounds::Bool, sparse::Bool, simplify::Bool, linenumbers::Bool, parallel::Symbolics.SerialForm, eval_expression::Bool, kwargs::Base.Pairs{Symbol, Bool, Tuple{Symbol}, NamedTuple{(:has_difference,), Tuple{Bool}}})",
      "    @ ModelingToolkit ~/.julia/packages/ModelingToolkit/f218S/src/systems/diffeqs/abstractodesystem.jl:566",
      " [10] (ODEProblem{true})(sys::ODESystem, u0map::Vector{Pair{Any, Float64}}, tspan::Tuple{Float64, Float64}, parammap::Vector{Pair{Num, Float64}}; callback::Nothing, kwargs::Base.Pairs{Symbol, Union{}, Tuple{}, NamedTuple{(), Tuple{}}})",
      "    @ ModelingToolkit ~/.julia/packages/ModelingToolkit/f218S/src/systems/diffeqs/abstractodesystem.jl:657",
      " [11] (ODEProblem{true})(sys::ODESystem, u0map::Vector{Pair{Any, Float64}}, tspan::Tuple{Float64, Float64}, parammap::Vector{Pair{Num, Float64}})",
      "    @ ModelingToolkit ~/.julia/packages/ModelingToolkit/f218S/src/systems/diffeqs/abstractodesystem.jl:656",
      " [12] ODEProblem(::ODESystem, ::Vector{Pair{Any, Float64}}, ::Vararg{Any}; kwargs::Base.Pairs{Symbol, Union{}, Tuple{}, NamedTuple{(), Tuple{}}})",
      "    @ ModelingToolkit ~/.julia/packages/ModelingToolkit/f218S/src/systems/diffeqs/abstractodesystem.jl:635",
      " [13] ODEProblem(::ODESystem, ::Vector{Pair{Any, Float64}}, ::Vararg{Any})",
      "    @ ModelingToolkit ~/.julia/packages/ModelingToolkit/f218S/src/systems/diffeqs/abstractodesystem.jl:635",
      " [14] top-level scope",
      "    @ In[40]:1",
      " [15] eval",
      "    @ ./boot.jl:373 [inlined]",
      " [16] include_string(mapexpr::typeof(REPL.softscope), mod::Module, code::String, filename::String)",
      "    @ Base ./loading.jl:1196"
     ]
    }
   ],
   "source": [
    "prob = ODEProblem(structural_simplify(fol_separate), [x => 0.0, D(x) => 1], \n",
    "    (0.0,10.0), [w => 1.0])\n",
    "sol = solve(prob)\n",
    "plot(sol)"
   ]
  },
  {
   "cell_type": "markdown",
   "id": "c82c8e0d",
   "metadata": {},
   "source": [
    "## Forming Lagrange equations in Julia's `Symbolics`\n",
    "\n",
    "Back to the goal at hand, I want to build some an _exact_ differential equations, but integrate them approximately with a numerical integration tool. My _exact_ differential equations are the [Lagrange equations](https://en.wikipedia.org/wiki/Lagrangian_mechanics)\n",
    "\n",
    "$\\frac{d}{dt}\\left(\\frac{\\partial L}{\\partial \\dot{q}_i}\\right) - \\frac{\\partial L}{\\partial q_i} = 0$\n",
    "\n",
    "where\n",
    "\n",
    "$L = T - V$\n",
    "\n",
    "$T = \\sum_{i=1}^{N}\\frac{1}{2}m_iv_i^2= \\sum_{i=1}^{N}\\left[\\mathrm{kinetic~energy}_i\\right]$\n",
    "\n",
    "$V = \\sum_{i=1}^{N}\\left[\\mathrm{potential~energy}_i\\right]$"
   ]
  },
  {
   "cell_type": "markdown",
   "id": "687201dc",
   "metadata": {},
   "source": [
    "## The N-body pendulum kinetic energy\n",
    "\n",
    "Here, I wanted to extend the double pendulum to **N**-body pendulums. The kinetic energy is the sum of the individual kinetic energies\n",
    "\n",
    "$T = \\sum_{i=1}^{N}\\frac{1}{2}m_iv_i^2$\n",
    "\n",
    "where\n",
    "\n",
    "$v_i = \\sum_{j=1}^{i} L_j\\dot{\\theta}_j(\\cos\\theta_j\\hat{i} + \\sin\\theta_j\\hat{j})$\n",
    "\n",
    "expanding this squared sum of kinetic energies I get\n",
    "\n",
    "$T = \\sum_{i=1}^N\\frac{1}{2}m_iL_i\\dot{\\theta}_i\\sum_{j=1}^{i}L_j\\dot{\\theta}_j\\cos(\\theta_i - \\theta_j)$"
   ]
  },
  {
   "cell_type": "markdown",
   "id": "27a822fa",
   "metadata": {},
   "source": [
    "## The N-body pendulum potential energy\n",
    "\n",
    "The potential energy is the height$\\times$weight of the objects. Taking the base of the first body as $h=0~m$, each pendulum hangs downward at \n",
    "\n",
    "$h_i = \\sum_{j=1}^i -L_i\\cos\\theta_i$\n",
    "\n",
    "So the potential energy is \n",
    "\n",
    "$V = \\sum_{i=1}^{N}m_igh_i = \\sum_{i=1}^{N}m_ig\\sum_{j=1}^i -L_i\\cos\\theta_i$"
   ]
  },
  {
   "cell_type": "markdown",
   "id": "cd64511c",
   "metadata": {},
   "source": [
    "## Verify the method with 2 bodies\n",
    "\n",
    "Before jumping into >3 body-pendulums, I built the solution for the double-pendulum in `Symbolics`. The process takes five steps:\n",
    "1. define the variables, `t a[1:N](t) L[1:N] m[1:N] g` as time, $\\theta_i$, $L_i$, $m_i$ and $g=9.81~m/s^2$\n",
    "2. build the Lagrange, $L = T-V = \\sum_{i=1}^{N}(T_i-V_i)$\n",
    "3. use `.jacobian` and `D.()` to form the Lagrange equations\n",
    "4. replace $\\theta_i(t)$ and $\\dot{\\theta}_i$ with callable variables, `q` and `dq`\n",
    "5. build two functions for evaluation, $\\mathbf{M}(\\theta_i,m_i,L_i)$ and $\\mathbf{rhs}(\\theta_i,~\\dot{\\theta}_i,m_i,L_i,g)$ _where the acceleration is_ $\\mathbf{\\ddot{q}}= \\mathbf{M}^{-1}\\mathbf{rhs}$"
   ]
  },
  {
   "cell_type": "markdown",
   "id": "414736dd",
   "metadata": {},
   "source": [
    "The full $L = T-V$ for the double pendulum is calculated as such. "
   ]
  },
  {
   "cell_type": "code",
   "execution_count": 79,
   "id": "15664645",
   "metadata": {},
   "outputs": [
    {
     "data": {
      "text/latex": [
       "\\begin{equation}\n",
       "\\left[\n",
       "\\begin{array}{cc}\n",
       "k \\left( 2 \\mathrm{x{_1}}\\left( t \\right) - 2 \\mathrm{x{_2}}\\left( t \\right) \\right) + 2 k \\mathrm{x{_1}}\\left( t \\right) + \\mathrm{\\frac{d}{d t}}\\left( m \\frac{dx{_1}(t)}{dt} \\right) & k \\left(  - 2 \\mathrm{x{_1}}\\left( t \\right) + 2 \\mathrm{x{_2}}\\left( t \\right) \\right) + \\mathrm{\\frac{d}{d t}}\\left( m \\frac{dx{_2}(t)}{dt} \\right) \\\\\n",
       "\\end{array}\n",
       "\\right]\n",
       "\\end{equation}\n"
      ],
      "text/plain": [
       "1×2 OffsetArray(::Matrix{Num}, 1:1, 1:2) with eltype Num with indices 1:1×1:2:\n",
       " k*(2x[1](t) - 2x[2](t)) + 2k*x[1](t) + Differential(t)(m*Differential(t)(x[1](t)))  …  k*(2x[2](t) - 2x[1](t)) + Differential(t)(m*Differential(t)(x[2](t)))"
      ]
     },
     "execution_count": 79,
     "metadata": {},
     "output_type": "execute_result"
    }
   ],
   "source": [
    "@variables t x[1:2](t) k m\n",
    "x = [xi for xi in x]\n",
    "dx = [D(xi) for xi in x]\n",
    "\n",
    "Lsum = 1/2*m*dx[1]^2 + 1/2*m*dx[2]^2 - k*(x[1])^2 - k*(x[2] - x[1])^2\n",
    "\n",
    "dLx = Symbolics.jacobian([Lsum], x)\n",
    "DLdx = Symbolics.jacobian([Lsum], dx)\n",
    "\n",
    "D.(DLdx) - dLx"
   ]
  },
  {
   "cell_type": "code",
   "execution_count": 95,
   "id": "ea319a90",
   "metadata": {},
   "outputs": [
    {
     "data": {
      "text/latex": [
       "\\begin{equation}\n",
       "\\left[\n",
       "\\begin{array}{c}\n",
       "k1 \\\\\n",
       "k2 \\\\\n",
       "\\end{array}\n",
       "\\right]\n",
       "\\end{equation}\n"
      ],
      "text/plain": [
       "2-element Vector{Num}:\n",
       " k1\n",
       " k2"
      ]
     },
     "execution_count": 95,
     "metadata": {},
     "output_type": "execute_result"
    }
   ],
   "source": [
    "@variables t x[1:2](t) k1 k2 m g\n",
    "x = [xi for xi in x]\n",
    "dx = [D(xi) for xi in x]\n",
    "k = [k1, k2]"
   ]
  },
  {
   "cell_type": "code",
   "execution_count": 96,
   "id": "8ccea7fd",
   "metadata": {},
   "outputs": [
    {
     "data": {
      "text/latex": [
       "\\begin{equation}\n",
       "\\left[\n",
       "\\begin{array}{cc}\n",
       "k2 \\left( 2 \\mathrm{x{_1}}\\left( t \\right) - 2 \\mathrm{x{_2}}\\left( t \\right) \\right) + 2 k1 \\mathrm{x{_1}}\\left( t \\right) + \\mathrm{\\frac{d}{d t}}\\left( m \\frac{dx{_1}(t)}{dt} \\right) & k2 \\left(  - 2 \\mathrm{x{_1}}\\left( t \\right) + 2 \\mathrm{x{_2}}\\left( t \\right) \\right) + \\mathrm{\\frac{d}{d t}}\\left( m \\frac{dx{_2}(t)}{dt} \\right) \\\\\n",
       "\\end{array}\n",
       "\\right]\n",
       "\\end{equation}\n"
      ],
      "text/plain": [
       "1×2 OffsetArray(::Matrix{Num}, 1:1, 1:2) with eltype Num with indices 1:1×1:2:\n",
       " k2*(2x[1](t) - 2x[2](t)) + 2k1*x[1](t) + Differential(t)(m*Differential(t)(x[1](t)))  …  k2*(2x[2](t) - 2x[1](t)) + Differential(t)(m*Differential(t)(x[2](t)))"
      ]
     },
     "execution_count": 96,
     "metadata": {},
     "output_type": "execute_result"
    }
   ],
   "source": [
    "Lsum = 1/2*m*dx[1]^2 + 1/2*m*dx[2]^2 - k[1]*(x[1])^2 - k[2]*(x[2] - x[1])^2\n",
    "\n",
    "dLx = Symbolics.jacobian([Lsum], x)\n",
    "DLdx = Symbolics.jacobian([Lsum], dx)\n",
    "\n",
    "D.(DLdx) - dLx"
   ]
  },
  {
   "cell_type": "code",
   "execution_count": 97,
   "id": "4954b34a",
   "metadata": {},
   "outputs": [
    {
     "data": {
      "text/latex": [
       "\\begin{equation}\n",
       "\\left[\n",
       "\\begin{array}{cc}\n",
       "1 & 0 \\\\\n",
       "0 & 1 \\\\\n",
       "\\end{array}\n",
       "\\right]\n",
       "\\end{equation}\n"
      ],
      "text/plain": [
       "2×2 OffsetArray(::Matrix{Num}, 1:2, 1:2) with eltype Num with indices 1:2×1:2:\n",
       " 1  0\n",
       " 0  1"
      ]
     },
     "execution_count": 97,
     "metadata": {},
     "output_type": "execute_result"
    }
   ],
   "source": [
    "N = 2\n",
    "@variables t a[1:N](t) L1 L2 m1 m2 g\n",
    "D = Differential(t)\n",
    "a = [ai for ai in a]\n",
    "da = [D(ai) for ai in a]\n",
    "L = [L1, L2]\n",
    "m = [m1, m2]\n",
    "\n",
    "Symbolics.jacobian(a, a)"
   ]
  },
  {
   "cell_type": "code",
   "execution_count": 98,
   "id": "59d142e0",
   "metadata": {},
   "outputs": [
    {
     "data": {
      "text/latex": [
       "\\begin{equation}\n",
       "\\left[\n",
       "\\begin{array}{c}\n",
       "L1 g m1 \\cos\\left( \\mathrm{a{_1}}\\left( t \\right) \\right) \\\\\n",
       "L1 g m2 \\cos\\left( \\mathrm{a{_1}}\\left( t \\right) \\right) \\\\\n",
       "L2 g m2 \\cos\\left( \\mathrm{a{_2}}\\left( t \\right) \\right) \\\\\n",
       "\\end{array}\n",
       "\\right]\n",
       "\\end{equation}\n"
      ],
      "text/plain": [
       "3-element Vector{Num}:\n",
       " L1*g*m1*cos(a[1](t))\n",
       " L1*g*m2*cos(a[1](t))\n",
       " L2*g*m2*cos(a[2](t))"
      ]
     },
     "execution_count": 98,
     "metadata": {},
     "output_type": "execute_result"
    }
   ],
   "source": [
    "Vterms = [g*m[im]*L[i]*cos(a[i]) for im in range(1, N) for i in range(1, im)]\n"
   ]
  },
  {
   "cell_type": "code",
   "execution_count": 99,
   "id": "b11f7653",
   "metadata": {},
   "outputs": [
    {
     "data": {
      "text/latex": [
       "\\begin{equation}\n",
       "\\left[\n",
       "\\begin{array}{c}\n",
       "\\frac{1}{2} \\left( \\frac{da{_1}(t)}{dt} \\right)^{2} L1^{2} m1 \\\\\n",
       "\\frac{1}{2} \\left( \\frac{da{_1}(t)}{dt} \\right)^{2} L1^{2} m2 \\\\\n",
       "\\frac{1}{2} L1 L2 m2 \\cos\\left(  - \\mathrm{a{_2}}\\left( t \\right) + \\mathrm{a{_1}}\\left( t \\right) \\right) \\frac{da{_1}(t)}{dt} \\frac{da{_2}(t)}{dt} \\\\\n",
       "\\frac{1}{2} L1 L2 m2 \\cos\\left(  - \\mathrm{a{_1}}\\left( t \\right) + \\mathrm{a{_2}}\\left( t \\right) \\right) \\frac{da{_1}(t)}{dt} \\frac{da{_2}(t)}{dt} \\\\\n",
       "\\frac{1}{2} \\left( \\frac{da{_2}(t)}{dt} \\right)^{2} L2^{2} m2 \\\\\n",
       "\\end{array}\n",
       "\\right]\n",
       "\\end{equation}\n"
      ],
      "text/plain": [
       "5-element Vector{Num}:\n",
       "                      (1//2)*m1*(L1^2)*(Differential(t)(a[1](t))^2)\n",
       "                      (1//2)*m2*(L1^2)*(Differential(t)(a[1](t))^2)\n",
       " (1//2)*L1*L2*m2*cos(a[1](t) - a[2](t))*Differential(t)(a[1](t))*Differential(t)(a[2](t))\n",
       " (1//2)*L1*L2*m2*cos(a[2](t) - a[1](t))*Differential(t)(a[1](t))*Differential(t)(a[2](t))\n",
       "                      (1//2)*m2*(L2^2)*(Differential(t)(a[2](t))^2)"
      ]
     },
     "execution_count": 99,
     "metadata": {},
     "output_type": "execute_result"
    }
   ],
   "source": [
    "Tterms = [m[im]/2*L[i]*L[j]*D(a[i])*D(a[j])*cos(a[i] - a[j]) for im in range(1, N) for i in range(1, im) for j in range(1, im)]"
   ]
  },
  {
   "cell_type": "code",
   "execution_count": 100,
   "id": "3c001301",
   "metadata": {},
   "outputs": [
    {
     "data": {
      "text/latex": [
       "\\begin{equation}\n",
       "\\frac{1}{2} \\left( \\frac{da{_1}(t)}{dt} \\right)^{2} L1^{2} m1 + \\frac{1}{2} \\left( \\frac{da{_1}(t)}{dt} \\right)^{2} L1^{2} m2 + \\frac{1}{2} \\left( \\frac{da{_2}(t)}{dt} \\right)^{2} L2^{2} m2 - L1 g m1 \\cos\\left( \\mathrm{a{_1}}\\left( t \\right) \\right) - L1 g m2 \\cos\\left( \\mathrm{a{_1}}\\left( t \\right) \\right) - L2 g m2 \\cos\\left( \\mathrm{a{_2}}\\left( t \\right) \\right) + \\frac{1}{2} L1 L2 m2 \\cos\\left(  - \\mathrm{a{_2}}\\left( t \\right) + \\mathrm{a{_1}}\\left( t \\right) \\right) \\frac{da{_1}(t)}{dt} \\frac{da{_2}(t)}{dt} + \\frac{1}{2} L1 L2 m2 \\cos\\left(  - \\mathrm{a{_1}}\\left( t \\right) + \\mathrm{a{_2}}\\left( t \\right) \\right) \\frac{da{_1}(t)}{dt} \\frac{da{_2}(t)}{dt}\n",
       "\\end{equation}\n"
      ],
      "text/plain": [
       "(1//2)*m1*(L1^2)*(Differential(t)(a[1](t))^2) + (1//2)*m2*(L1^2)*(Differential(t)(a[1](t))^2) + (1//2)*m2*(L2^2)*(Differential(t)(a[2](t))^2) + (1//2)*L1*L2*m2*cos(a[1](t) - a[2](t))*Differential(t)(a[1](t))*Differential(t)(a[2](t)) + (1//2)*L1*L2*m2*cos(a[2](t) - a[1](t))*Differential(t)(a[1](t))*Differential(t)(a[2](t)) - L1*g*m1*cos(a[1](t)) - L1*g*m2*cos(a[1](t)) - L2*g*m2*cos(a[2](t))"
      ]
     },
     "execution_count": 100,
     "metadata": {},
     "output_type": "execute_result"
    }
   ],
   "source": [
    "Lsum = +(Tterms...) - +(Vterms...)"
   ]
  },
  {
   "cell_type": "code",
   "execution_count": 44,
   "id": "d7af6caf",
   "metadata": {},
   "outputs": [],
   "source": [
    "# # @register Lsum(a::AbstractVector, da::AbstractVector)\n",
    "# for im in range(1, N)\n",
    "#     for i in range(1, im)\n",
    "#         Lsum += g*m[im]*L[i]*cos(a[i])\n",
    "#         for j in range(1, im)\n",
    "#             Lsum += m[im]/2*L[i]*L[j]*D(a[i])*D(a[j])*cos(a[i] - a[j]) \n",
    "#         end\n",
    "#     end\n",
    "# end\n",
    "# Lsum"
   ]
  },
  {
   "cell_type": "markdown",
   "id": "cd29e507",
   "metadata": {},
   "source": [
    "Now, finding the $\\frac{\\partial L}{\\partial q_i}$ terms is a `.jacobian` using the defined angles, `a`. "
   ]
  },
  {
   "cell_type": "code",
   "execution_count": 103,
   "id": "10a2b98e",
   "metadata": {},
   "outputs": [
    {
     "data": {
      "text/latex": [
       "\\begin{equation}\n",
       "\\left[\n",
       "\\begin{array}{cc}\n",
       "L1 g m1 \\sin\\left( \\mathrm{a{_1}}\\left( t \\right) \\right) + L1 g m2 \\sin\\left( \\mathrm{a{_1}}\\left( t \\right) \\right) - \\frac{1}{2} L1 L2 m2 \\sin\\left(  - \\mathrm{a{_2}}\\left( t \\right) + \\mathrm{a{_1}}\\left( t \\right) \\right) \\frac{da{_1}(t)}{dt} \\frac{da{_2}(t)}{dt} + \\frac{1}{2} L1 L2 m2 \\sin\\left(  - \\mathrm{a{_1}}\\left( t \\right) + \\mathrm{a{_2}}\\left( t \\right) \\right) \\frac{da{_1}(t)}{dt} \\frac{da{_2}(t)}{dt} & L2 g m2 \\sin\\left( \\mathrm{a{_2}}\\left( t \\right) \\right) + \\frac{1}{2} L1 L2 m2 \\sin\\left(  - \\mathrm{a{_2}}\\left( t \\right) + \\mathrm{a{_1}}\\left( t \\right) \\right) \\frac{da{_1}(t)}{dt} \\frac{da{_2}(t)}{dt} - \\frac{1}{2} L1 L2 m2 \\sin\\left(  - \\mathrm{a{_1}}\\left( t \\right) + \\mathrm{a{_2}}\\left( t \\right) \\right) \\frac{da{_1}(t)}{dt} \\frac{da{_2}(t)}{dt} \\\\\n",
       "\\end{array}\n",
       "\\right]\n",
       "\\end{equation}\n"
      ],
      "text/plain": [
       "1×2 OffsetArray(::Matrix{Num}, 1:1, 1:2) with eltype Num with indices 1:1×1:2:\n",
       " L1*g*m1*sin(a[1](t)) + L1*g*m2*sin(a[1](t)) + (1//2)*L1*L2*m2*sin(a[2](t) - a[1](t))*Differential(t)(a[1](t))*Differential(t)(a[2](t)) - (1//2)*L1*L2*m2*sin(a[1](t) - a[2](t))*Differential(t)(a[1](t))*Differential(t)(a[2](t))  …  L2*g*m2*sin(a[2](t)) + (1//2)*L1*L2*m2*sin(a[1](t) - a[2](t))*Differential(t)(a[1](t))*Differential(t)(a[2](t)) - (1//2)*L1*L2*m2*sin(a[2](t) - a[1](t))*Differential(t)(a[1](t))*Differential(t)(a[2](t))"
      ]
     },
     "execution_count": 103,
     "metadata": {},
     "output_type": "execute_result"
    }
   ],
   "source": [
    "dLa = Symbolics.jacobian([Lsum], a)"
   ]
  },
  {
   "cell_type": "markdown",
   "id": "a0eb810f",
   "metadata": {},
   "source": [
    "Next, I define the derivative, $\\dot{\\theta}_i$ as `da` and take the `.jacobian` to find $\\frac{\\partial L}{\\partial \\dot{q}_i}$. "
   ]
  },
  {
   "cell_type": "code",
   "execution_count": 124,
   "id": "7960f772",
   "metadata": {},
   "outputs": [
    {
     "data": {
      "text/latex": [
       "\\begin{equation}\n",
       "\\left[\n",
       "\\begin{array}{cc}\n",
       "L1^{2} m1 \\mathrm{\\frac{d}{d t}}\\left( \\frac{da{_1}(t)}{dt} \\right) + L1^{2} m2 \\mathrm{\\frac{d}{d t}}\\left( \\frac{da{_1}(t)}{dt} \\right) + \\frac{1}{2} L1 L2 m2 \\cos\\left(  - \\mathrm{a{_1}}\\left( t \\right) + \\mathrm{a{_2}}\\left( t \\right) \\right) \\mathrm{\\frac{d}{d t}}\\left( \\frac{da{_2}(t)}{dt} \\right) + \\frac{1}{2} L1 L2 m2 \\cos\\left(  - \\mathrm{a{_2}}\\left( t \\right) + \\mathrm{a{_1}}\\left( t \\right) \\right) \\mathrm{\\frac{d}{d t}}\\left( \\frac{da{_2}(t)}{dt} \\right) - \\frac{1}{2} L1 L2 m2 \\left(  - \\frac{da{_1}(t)}{dt} + \\frac{da{_2}(t)}{dt} \\right) \\sin\\left(  - \\mathrm{a{_1}}\\left( t \\right) + \\mathrm{a{_2}}\\left( t \\right) \\right) \\frac{da{_2}(t)}{dt} - \\frac{1}{2} L1 L2 m2 \\left(  - \\frac{da{_2}(t)}{dt} + \\frac{da{_1}(t)}{dt} \\right) \\sin\\left(  - \\mathrm{a{_2}}\\left( t \\right) + \\mathrm{a{_1}}\\left( t \\right) \\right) \\frac{da{_2}(t)}{dt} & L2^{2} m2 \\mathrm{\\frac{d}{d t}}\\left( \\frac{da{_2}(t)}{dt} \\right) + \\frac{1}{2} L1 L2 m2 \\cos\\left(  - \\mathrm{a{_2}}\\left( t \\right) + \\mathrm{a{_1}}\\left( t \\right) \\right) \\mathrm{\\frac{d}{d t}}\\left( \\frac{da{_1}(t)}{dt} \\right) + \\frac{1}{2} L1 L2 m2 \\cos\\left(  - \\mathrm{a{_1}}\\left( t \\right) + \\mathrm{a{_2}}\\left( t \\right) \\right) \\mathrm{\\frac{d}{d t}}\\left( \\frac{da{_1}(t)}{dt} \\right) - \\frac{1}{2} L1 L2 m2 \\left(  - \\frac{da{_1}(t)}{dt} + \\frac{da{_2}(t)}{dt} \\right) \\sin\\left(  - \\mathrm{a{_1}}\\left( t \\right) + \\mathrm{a{_2}}\\left( t \\right) \\right) \\frac{da{_1}(t)}{dt} - \\frac{1}{2} L1 L2 m2 \\left(  - \\frac{da{_2}(t)}{dt} + \\frac{da{_1}(t)}{dt} \\right) \\sin\\left(  - \\mathrm{a{_2}}\\left( t \\right) + \\mathrm{a{_1}}\\left( t \\right) \\right) \\frac{da{_1}(t)}{dt} \\\\\n",
       "\\end{array}\n",
       "\\right]\n",
       "\\end{equation}\n"
      ],
      "text/plain": [
       "1×2 OffsetArray(::Matrix{Num}, 1:1, 1:2) with eltype Num with indices 1:1×1:2:\n",
       " m1*(L1^2)*Differential(t)(Differential(t)(a[1](t))) + m2*(L1^2)*Differential(t)(Differential(t)(a[1](t))) + (1//2)*L1*L2*m2*cos(a[2](t) - a[1](t))*Differential(t)(Differential(t)(a[2](t))) + (1//2)*L1*L2*m2*cos(a[1](t) - a[2](t))*Differential(t)(Differential(t)(a[2](t))) - (1//2)*L1*L2*m2*(Differential(t)(a[2](t)) - Differential(t)(a[1](t)))*sin(a[2](t) - a[1](t))*Differential(t)(a[2](t)) - (1//2)*L1*L2*m2*(Differential(t)(a[1](t)) - Differential(t)(a[2](t)))*sin(a[1](t) - a[2](t))*Differential(t)(a[2](t))  …  m2*(L2^2)*Differential(t)(Differential(t)(a[2](t))) + (1//2)*L1*L2*m2*cos(a[1](t) - a[2](t))*Differential(t)(Differential(t)(a[1](t))) + (1//2)*L1*L2*m2*cos(a[2](t) - a[1](t))*Differential(t)(Differential(t)(a[1](t))) - (1//2)*L1*L2*m2*(Differential(t)(a[2](t)) - Differential(t)(a[1](t)))*sin(a[2](t) - a[1](t))*Differential(t)(a[1](t)) - (1//2)*L1*L2*m2*(Differential(t)(a[1](t)) - Differential(t)(a[2](t)))*sin(a[1](t) - a[2](t))*Differential(t)(a[1](t))"
      ]
     },
     "execution_count": 124,
     "metadata": {},
     "output_type": "execute_result"
    }
   ],
   "source": [
    "dLda = expand_derivatives.(D.(Symbolics.jacobian([Lsum], da)))"
   ]
  },
  {
   "cell_type": "markdown",
   "id": "2cf3ff82",
   "metadata": {},
   "source": [
    "Now, I have the components to assemble, simplify and display the Lagrange equations of motion,\n",
    "\n",
    "$\\frac{d}{dt}\\left(\\frac{\\partial L}{\\partial \\dot{q}_i}\\right) - \\frac{\\partial L}{\\partial q_i} = 0$."
   ]
  },
  {
   "cell_type": "code",
   "execution_count": 125,
   "id": "1b2da035",
   "metadata": {},
   "outputs": [
    {
     "data": {
      "text/latex": [
       "\\begin{equation}\n",
       "\\left[\n",
       "\\begin{array}{c}\n",
       "L1^{2} \\left( m1 + m2 \\right) \\mathrm{\\frac{d}{d t}}\\left( \\frac{da{_1}(t)}{dt} \\right) - L1 g m1 \\sin\\left( \\mathrm{a{_1}}\\left( t \\right) \\right) - L1 g m2 \\sin\\left( \\mathrm{a{_1}}\\left( t \\right) \\right) - \\frac{1}{2} \\left( \\frac{da{_2}(t)}{dt} \\right)^{2} L1 L2 m2 \\sin\\left(  - \\mathrm{a{_1}}\\left( t \\right) + \\mathrm{a{_2}}\\left( t \\right) \\right) + \\frac{1}{2} \\left( \\frac{da{_2}(t)}{dt} \\right)^{2} L1 L2 m2 \\sin\\left(  - \\mathrm{a{_2}}\\left( t \\right) + \\mathrm{a{_1}}\\left( t \\right) \\right) + \\frac{1}{2} L1 L2 m2 \\cos\\left(  - \\mathrm{a{_1}}\\left( t \\right) + \\mathrm{a{_2}}\\left( t \\right) \\right) \\mathrm{\\frac{d}{d t}}\\left( \\frac{da{_2}(t)}{dt} \\right) + \\frac{1}{2} L1 L2 m2 \\cos\\left(  - \\mathrm{a{_2}}\\left( t \\right) + \\mathrm{a{_1}}\\left( t \\right) \\right) \\mathrm{\\frac{d}{d t}}\\left( \\frac{da{_2}(t)}{dt} \\right) \\\\\n",
       "L2^{2} m2 \\mathrm{\\frac{d}{d t}}\\left( \\frac{da{_2}(t)}{dt} \\right) - L2 g m2 \\sin\\left( \\mathrm{a{_2}}\\left( t \\right) \\right) - \\frac{1}{2} \\left( \\frac{da{_1}(t)}{dt} \\right)^{2} L1 L2 m2 \\sin\\left(  - \\mathrm{a{_2}}\\left( t \\right) + \\mathrm{a{_1}}\\left( t \\right) \\right) + \\frac{1}{2} \\left( \\frac{da{_1}(t)}{dt} \\right)^{2} L1 L2 m2 \\sin\\left(  - \\mathrm{a{_1}}\\left( t \\right) + \\mathrm{a{_2}}\\left( t \\right) \\right) + \\frac{1}{2} L1 L2 m2 \\cos\\left(  - \\mathrm{a{_2}}\\left( t \\right) + \\mathrm{a{_1}}\\left( t \\right) \\right) \\mathrm{\\frac{d}{d t}}\\left( \\frac{da{_1}(t)}{dt} \\right) + \\frac{1}{2} L1 L2 m2 \\cos\\left(  - \\mathrm{a{_1}}\\left( t \\right) + \\mathrm{a{_2}}\\left( t \\right) \\right) \\mathrm{\\frac{d}{d t}}\\left( \\frac{da{_1}(t)}{dt} \\right) \\\\\n",
       "\\end{array}\n",
       "\\right]\n",
       "\\end{equation}\n"
      ],
      "text/plain": [
       "2-element Vector{Num}:\n",
       " (L1^2)*(m1 + m2)*Differential(t)(Differential(t)(a[1](t))) + (1//2)*L1*L2*m2*(Differential(t)(a[2](t))^2)*sin(a[1](t) - a[2](t)) + (1//2)*L1*L2*m2*cos(a[2](t) - a[1](t))*Differential(t)(Differential(t)(a[2](t))) + (1//2)*L1*L2*m2*cos(a[1](t) - a[2](t))*Differential(t)(Differential(t)(a[2](t))) - L1*g*m1*sin(a[1](t)) - L1*g*m2*sin(a[1](t)) - (1//2)*L1*L2*m2*(Differential(t)(a[2](t))^2)*sin(a[2](t) - a[1](t))\n",
       "        m2*(L2^2)*Differential(t)(Differential(t)(a[2](t))) + (1//2)*L1*L2*m2*(Differential(t)(a[1](t))^2)*sin(a[2](t) - a[1](t)) + (1//2)*L1*L2*m2*cos(a[1](t) - a[2](t))*Differential(t)(Differential(t)(a[1](t))) + (1//2)*L1*L2*m2*cos(a[2](t) - a[1](t))*Differential(t)(Differential(t)(a[1](t))) - L2*g*m2*sin(a[2](t)) - (1//2)*L1*L2*m2*(Differential(t)(a[1](t))^2)*sin(a[1](t) - a[2](t))"
      ]
     },
     "execution_count": 125,
     "metadata": {},
     "output_type": "execute_result"
    }
   ],
   "source": [
    "eoms = [simplify(dLda[i] - dLa[i], expand = true)  for i in range(1, N)]"
   ]
  },
  {
   "cell_type": "markdown",
   "id": "b41432df",
   "metadata": {},
   "source": [
    "If these were linear equations of motion, I could use the CAS commands to find the exact solutions, but these are nonlinear [chaotic](./day_06.md) equations. I need the \n",
    "- mass matrix, $\\mathbf{M} = \\frac{\\partial eom_i}{\\partial \\ddot{\\theta}_i}$\n",
    "- right-hand side equations, everything else i.e. `M*dda - eoms`\n",
    "\n",
    "Here, I define the $\\ddot{\\theta}_i$ vector and define $\\mathbf{M}$ as `M`"
   ]
  },
  {
   "cell_type": "code",
   "execution_count": 126,
   "id": "4327af73",
   "metadata": {},
   "outputs": [
    {
     "data": {
      "text/latex": [
       "\\begin{equation}\n",
       "\\left[\n",
       "\\begin{array}{cc}\n",
       "L1^{2} \\left( m1 + m2 \\right) & \\frac{1}{2} L1 L2 m2 \\cos\\left(  - \\mathrm{a{_2}}\\left( t \\right) + \\mathrm{a{_1}}\\left( t \\right) \\right) + \\frac{1}{2} L1 L2 m2 \\cos\\left(  - \\mathrm{a{_1}}\\left( t \\right) + \\mathrm{a{_2}}\\left( t \\right) \\right) \\\\\n",
       "\\frac{1}{2} L1 L2 m2 \\cos\\left(  - \\mathrm{a{_2}}\\left( t \\right) + \\mathrm{a{_1}}\\left( t \\right) \\right) + \\frac{1}{2} L1 L2 m2 \\cos\\left(  - \\mathrm{a{_1}}\\left( t \\right) + \\mathrm{a{_2}}\\left( t \\right) \\right) & L2^{2} m2 \\\\\n",
       "\\end{array}\n",
       "\\right]\n",
       "\\end{equation}\n"
      ],
      "text/plain": [
       "2×2 OffsetArray(::Matrix{Num}, 1:2, 1:2) with eltype Num with indices 1:2×1:2:\n",
       "                                                                (L1^2)*(m1 + m2)  …  (1//2)*L1*L2*m2*cos(a[1](t) - a[2](t)) + (1//2)*L1*L2*m2*cos(a[2](t) - a[1](t))\n",
       " (1//2)*L1*L2*m2*cos(a[1](t) - a[2](t)) + (1//2)*L1*L2*m2*cos(a[2](t) - a[1](t))                                                                           m2*(L2^2)"
      ]
     },
     "execution_count": 126,
     "metadata": {},
     "output_type": "execute_result"
    }
   ],
   "source": [
    "dda = [D(dai) for dai in da]\n",
    "\n",
    "M = Symbolics.jacobian(eoms, dda)"
   ]
  },
  {
   "cell_type": "markdown",
   "id": "3171916c",
   "metadata": {},
   "source": [
    "Now, I can subtract the `eoms` from `M*dda` to get the right-hand side equations, `M*dda - eoms`. Then, build substitute in callable variables `q` and `dq`. "
   ]
  },
  {
   "cell_type": "code",
   "execution_count": 155,
   "id": "4bdc1ac4",
   "metadata": {},
   "outputs": [
    {
     "data": {
      "text/latex": [
       "\\begin{equation}\n",
       "\\left[\n",
       "\\begin{array}{c}\n",
       "L1^{2} \\left( m1 + m2 \\right) \\mathrm{\\frac{d}{d t}}\\left( \\frac{da{_1}(t)}{dt} \\right) + \\frac{1}{2} L1 L2 m2 \\cos\\left(  - \\mathrm{a{_1}}\\left( t \\right) + \\mathrm{a{_2}}\\left( t \\right) \\right) \\mathrm{\\frac{d}{d t}}\\left( \\frac{da{_2}(t)}{dt} \\right) + \\frac{1}{2} L1 L2 m2 \\cos\\left(  - \\mathrm{a{_2}}\\left( t \\right) + \\mathrm{a{_1}}\\left( t \\right) \\right) \\mathrm{\\frac{d}{d t}}\\left( \\frac{da{_2}(t)}{dt} \\right) \\\\\n",
       "L2^{2} m2 \\mathrm{\\frac{d}{d t}}\\left( \\frac{da{_2}(t)}{dt} \\right) + \\frac{1}{2} L1 L2 m2 \\cos\\left(  - \\mathrm{a{_2}}\\left( t \\right) + \\mathrm{a{_1}}\\left( t \\right) \\right) \\mathrm{\\frac{d}{d t}}\\left( \\frac{da{_1}(t)}{dt} \\right) + \\frac{1}{2} L1 L2 m2 \\cos\\left(  - \\mathrm{a{_1}}\\left( t \\right) + \\mathrm{a{_2}}\\left( t \\right) \\right) \\mathrm{\\frac{d}{d t}}\\left( \\frac{da{_1}(t)}{dt} \\right) \\\\\n",
       "\\end{array}\n",
       "\\right]\n",
       "\\end{equation}\n"
      ],
      "text/plain": [
       "2-element OffsetArray(::Vector{Num}, 1:2) with eltype Num with indices 1:2:\n",
       " (L1^2)*(m1 + m2)*Differential(t)(Differential(t)(a[1](t))) + (1//2)*L1*L2*m2*cos(a[2](t) - a[1](t))*Differential(t)(Differential(t)(a[2](t))) + (1//2)*L1*L2*m2*cos(a[1](t) - a[2](t))*Differential(t)(Differential(t)(a[2](t)))\n",
       "        m2*(L2^2)*Differential(t)(Differential(t)(a[2](t))) + (1//2)*L1*L2*m2*cos(a[1](t) - a[2](t))*Differential(t)(Differential(t)(a[1](t))) + (1//2)*L1*L2*m2*cos(a[2](t) - a[1](t))*Differential(t)(Differential(t)(a[1](t)))"
      ]
     },
     "execution_count": 155,
     "metadata": {},
     "output_type": "execute_result"
    }
   ],
   "source": [
    "simplify.(M*dda, expand = true)"
   ]
  },
  {
   "cell_type": "code",
   "execution_count": 153,
   "id": "95c97c87",
   "metadata": {},
   "outputs": [
    {
     "data": {
      "text/latex": [
       "\\begin{equation}\n",
       "\\left[\n",
       "\\begin{array}{c}\n",
       " - L1 g m1 \\sin\\left( \\mathrm{a{_1}}\\left( t \\right) \\right) - L1 g m2 \\sin\\left( \\mathrm{a{_1}}\\left( t \\right) \\right) - \\frac{1}{2} \\left( \\frac{da{_2}(t)}{dt} \\right)^{2} L1 L2 m2 \\sin\\left(  - \\mathrm{a{_1}}\\left( t \\right) + \\mathrm{a{_2}}\\left( t \\right) \\right) + \\frac{1}{2} \\left( \\frac{da{_2}(t)}{dt} \\right)^{2} L1 L2 m2 \\sin\\left(  - \\mathrm{a{_2}}\\left( t \\right) + \\mathrm{a{_1}}\\left( t \\right) \\right) \\\\\n",
       " - L2 g m2 \\sin\\left( \\mathrm{a{_2}}\\left( t \\right) \\right) - \\frac{1}{2} \\left( \\frac{da{_1}(t)}{dt} \\right)^{2} L1 L2 m2 \\sin\\left(  - \\mathrm{a{_2}}\\left( t \\right) + \\mathrm{a{_1}}\\left( t \\right) \\right) + \\frac{1}{2} \\left( \\frac{da{_1}(t)}{dt} \\right)^{2} L1 L2 m2 \\sin\\left(  - \\mathrm{a{_1}}\\left( t \\right) + \\mathrm{a{_2}}\\left( t \\right) \\right) \\\\\n",
       "\\end{array}\n",
       "\\right]\n",
       "\\end{equation}\n"
      ],
      "text/plain": [
       "2-element OffsetArray(::Vector{Num}, 1:2) with eltype Num with indices 1:2:\n",
       " (1//2)*L1*L2*m2*(Differential(t)(a[2](t))^2)*sin(a[1](t) - a[2](t)) - L1*g*m1*sin(a[1](t)) - L1*g*m2*sin(a[1](t)) - (1//2)*L1*L2*m2*(Differential(t)(a[2](t))^2)*sin(a[2](t) - a[1](t))\n",
       " (1//2)*L1*L2*m2*(Differential(t)(a[1](t))^2)*sin(a[2](t) - a[1](t)) - L2*g*m2*sin(a[2](t)) - (1//2)*L1*L2*m2*(Differential(t)(a[1](t))^2)*sin(a[1](t) - a[2](t))"
      ]
     },
     "execution_count": 153,
     "metadata": {},
     "output_type": "execute_result"
    }
   ],
   "source": [
    "simplify.(eoms - M*dda, expand = true)"
   ]
  },
  {
   "cell_type": "code",
   "execution_count": 139,
   "id": "c6b3e9e7",
   "metadata": {},
   "outputs": [
    {
     "data": {
      "text/latex": [
       "\\begin{equation}\n",
       "\\left[\n",
       "\\begin{array}{c}\n",
       "L1 g m1 \\sin\\left( q{_1} \\right) + L1 g m2 \\sin\\left( q{_1} \\right) + L1 L2 m2 \\left( \\frac{1}{2} \\cos\\left(  - q{_2} + q{_1} \\right) + \\frac{1}{2} \\cos\\left(  - q{_1} + q{_2} \\right) \\right) \\mathrm{\\frac{d}{d t}}\\left( dq{_2} \\right) - \\frac{1}{2} dq{_2}^{2} L1 L2 m2 \\sin\\left(  - q{_2} + q{_1} \\right) + \\frac{1}{2} dq{_2}^{2} L1 L2 m2 \\sin\\left(  - q{_1} + q{_2} \\right) - \\frac{1}{2} L1 L2 m2 \\cos\\left(  - q{_2} + q{_1} \\right) \\mathrm{\\frac{d}{d t}}\\left( dq{_2} \\right) - \\frac{1}{2} L1 L2 m2 \\cos\\left(  - q{_1} + q{_2} \\right) \\mathrm{\\frac{d}{d t}}\\left( dq{_2} \\right) \\\\\n",
       "L2 g m2 \\sin\\left( q{_2} \\right) + L1 L2 m2 \\left( \\frac{1}{2} \\cos\\left(  - q{_2} + q{_1} \\right) + \\frac{1}{2} \\cos\\left(  - q{_1} + q{_2} \\right) \\right) \\mathrm{\\frac{d}{d t}}\\left( dq{_1} \\right) + \\frac{1}{2} dq{_1}^{2} L1 L2 m2 \\sin\\left(  - q{_2} + q{_1} \\right) - \\frac{1}{2} dq{_1}^{2} L1 L2 m2 \\sin\\left(  - q{_1} + q{_2} \\right) - \\frac{1}{2} L1 L2 m2 \\cos\\left(  - q{_2} + q{_1} \\right) \\mathrm{\\frac{d}{d t}}\\left( dq{_1} \\right) - \\frac{1}{2} L1 L2 m2 \\cos\\left(  - q{_1} + q{_2} \\right) \\mathrm{\\frac{d}{d t}}\\left( dq{_1} \\right) \\\\\n",
       "\\end{array}\n",
       "\\right]\n",
       "\\end{equation}\n"
      ],
      "text/plain": [
       "2-element OffsetArray(::Vector{Num}, 1:2) with eltype Num with indices 1:2:\n",
       " L1*g*m1*sin(q[1]) + L1*g*m2*sin(q[1]) + L1*L2*m2*((1//2)*cos(q[1] - q[2]) + (1//2)*cos(q[2] - q[1]))*Differential(t)(dq[2]) + (1//2)*L1*L2*m2*(dq[2]^2)*sin(q[2] - q[1]) - (1//2)*L1*L2*m2*(dq[2]^2)*sin(q[1] - q[2]) - (1//2)*L1*L2*m2*cos(q[1] - q[2])*Differential(t)(dq[2]) - (1//2)*L1*L2*m2*cos(q[2] - q[1])*Differential(t)(dq[2])\n",
       "                     L2*g*m2*sin(q[2]) + L1*L2*m2*((1//2)*cos(q[1] - q[2]) + (1//2)*cos(q[2] - q[1]))*Differential(t)(dq[1]) + (1//2)*L1*L2*m2*(dq[1]^2)*sin(q[1] - q[2]) - (1//2)*L1*L2*m2*(dq[1]^2)*sin(q[2] - q[1]) - (1//2)*L1*L2*m2*cos(q[1] - q[2])*Differential(t)(dq[1]) - (1//2)*L1*L2*m2*cos(q[2] - q[1])*Differential(t)(dq[1])"
      ]
     },
     "execution_count": 139,
     "metadata": {},
     "output_type": "execute_result"
    }
   ],
   "source": [
    "@variables q[1:N]\n",
    "@variables dq[1:N]\n",
    "Mq = simplify.(substitute.(M, \n",
    "        (Dict(a[i] => q[i] \n",
    "                for i in range(1, N)),)))\n",
    "\n",
    "rhsdq = simplify.(substitute.(M*dda - eoms, \n",
    "        (Dict(D(a[i]) => dq[i] \n",
    "                for i in range(1, N)),)))\n",
    "rhsq = simplify.(substitute.(rhsdq, \n",
    "        (Dict(a[i] => q[i] \n",
    "                for i in range(1, N)),)))\n"
   ]
  },
  {
   "cell_type": "markdown",
   "id": "a302c53e",
   "metadata": {},
   "source": [
    "Finally, I can `build_function` and evaluate results. \n",
    "\n",
    "> __Note__: This is where I hit the world-age issue. If I try to include the `eval` function in the pendulum differential equations, Then, I get a "
   ]
  },
  {
   "cell_type": "code",
   "execution_count": 140,
   "id": "47dabb14",
   "metadata": {},
   "outputs": [
    {
     "data": {
      "text/plain": [
       "RuntimeGeneratedFunction(#=in Symbolics=#, #=using Symbolics=#, :((q, ˍ₋arg2, ˍ₋arg3)->begin\n",
       "          #= /home/ryan/.julia/packages/SymbolicUtils/v2ZkM/src/code.jl:349 =#\n",
       "          #= /home/ryan/.julia/packages/SymbolicUtils/v2ZkM/src/code.jl:350 =#\n",
       "          #= /home/ryan/.julia/packages/SymbolicUtils/v2ZkM/src/code.jl:351 =#\n",
       "          begin\n",
       "              m1 = #= /home/ryan/.julia/packages/SymbolicUtils/v2ZkM/src/code.jl:210 =# @inbounds(ˍ₋arg2[1])\n",
       "              m2 = #= /home/ryan/.julia/packages/SymbolicUtils/v2ZkM/src/code.jl:210 =# @inbounds(ˍ₋arg2[2])\n",
       "              L1 = #= /home/ryan/.julia/packages/SymbolicUtils/v2ZkM/src/code.jl:210 =# @inbounds(ˍ₋arg3[1])\n",
       "              L2 = #= /home/ryan/.julia/packages/SymbolicUtils/v2ZkM/src/code.jl:210 =# @inbounds(ˍ₋arg3[2])\n",
       "              begin\n",
       "                  #= /home/ryan/.julia/packages/SymbolicUtils/v2ZkM/src/code.jl:444 =#\n",
       "                  (SymbolicUtils.Code.create_array)(typeof(ˍ₋arg2), nothing, Val{2}(), Val{(2, 2)}(), (*)((^)(L1, 2), (+)(m1, m2)), (*)((*)((*)(L1, L2), m2), (+)((*)(1//2, (cos)((+)((*)(-1, (getindex)(q, 2)), (getindex)(q, 1)))), (*)(1//2, (cos)((+)((*)(-1, (getindex)(q, 1)), (getindex)(q, 2)))))), (*)((*)((*)(L1, L2), m2), (+)((*)(1//2, (cos)((+)((*)(-1, (getindex)(q, 2)), (getindex)(q, 1)))), (*)(1//2, (cos)((+)((*)(-1, (getindex)(q, 1)), (getindex)(q, 2)))))), (*)(m2, (^)(L2, 2)))\n",
       "              end\n",
       "          end\n",
       "      end))"
      ]
     },
     "execution_count": 140,
     "metadata": {},
     "output_type": "execute_result"
    }
   ],
   "source": [
    "M_N2 = build_function(Mq, q, m, L, expression = Val{false})[1]"
   ]
  },
  {
   "cell_type": "code",
   "execution_count": 141,
   "id": "8a3d6ac1",
   "metadata": {},
   "outputs": [
    {
     "data": {
      "text/plain": [
       "RuntimeGeneratedFunction(#=in Symbolics=#, #=using Symbolics=#, :((q, dq, ˍ₋arg3, ˍ₋arg4, g)->begin\n",
       "          #= /home/ryan/.julia/packages/SymbolicUtils/v2ZkM/src/code.jl:349 =#\n",
       "          #= /home/ryan/.julia/packages/SymbolicUtils/v2ZkM/src/code.jl:350 =#\n",
       "          #= /home/ryan/.julia/packages/SymbolicUtils/v2ZkM/src/code.jl:351 =#\n",
       "          begin\n",
       "              m1 = #= /home/ryan/.julia/packages/SymbolicUtils/v2ZkM/src/code.jl:210 =# @inbounds(ˍ₋arg3[1])\n",
       "              m2 = #= /home/ryan/.julia/packages/SymbolicUtils/v2ZkM/src/code.jl:210 =# @inbounds(ˍ₋arg3[2])\n",
       "              L1 = #= /home/ryan/.julia/packages/SymbolicUtils/v2ZkM/src/code.jl:210 =# @inbounds(ˍ₋arg4[1])\n",
       "              L2 = #= /home/ryan/.julia/packages/SymbolicUtils/v2ZkM/src/code.jl:210 =# @inbounds(ˍ₋arg4[2])\n",
       "              begin\n",
       "                  #= /home/ryan/.julia/packages/SymbolicUtils/v2ZkM/src/code.jl:444 =#\n",
       "                  (SymbolicUtils.Code.create_array)(typeof(ˍ₋arg3), nothing, Val{1}(), Val{(2,)}(), (+)((+)((+)((+)((+)((+)((*)((*)((*)(L1, g), m1), (sin)((getindex)(q, 1))), (*)((*)((*)(L1, g), m2), (sin)((getindex)(q, 1)))), (*)((*)((*)((*)(L1, L2), m2), (+)((*)(1//2, (cos)((+)((*)(-1, (getindex)(q, 2)), (getindex)(q, 1)))), (*)(1//2, (cos)((+)((*)(-1, (getindex)(q, 1)), (getindex)(q, 2)))))), (Differential(t))((getindex)(dq, 2)))), (*)((*)((*)((*)((*)(-1//2, L1), L2), m2), (^)((getindex)(dq, 2), 2)), (sin)((+)((*)(-1, (getindex)(q, 2)), (getindex)(q, 1))))), (*)((*)((*)((*)((*)(1//2, L1), L2), m2), (^)((getindex)(dq, 2), 2)), (sin)((+)((*)(-1, (getindex)(q, 1)), (getindex)(q, 2))))), (*)((*)((*)((*)((*)(-1//2, L1), L2), m2), (cos)((+)((*)(-1, (getindex)(q, 2)), (getindex)(q, 1)))), (Differential(t))((getindex)(dq, 2)))), (*)((*)((*)((*)((*)(-1//2, L1), L2), m2), (cos)((+)((*)(-1, (getindex)(q, 1)), (getindex)(q, 2)))), (Differential(t))((getindex)(dq, 2)))), (+)((+)((+)((+)((+)((*)((*)((*)(L2, g), m2), (sin)((getindex)(q, 2))), (*)((*)((*)((*)(L1, L2), m2), (+)((*)(1//2, (cos)((+)((*)(-1, (getindex)(q, 2)), (getindex)(q, 1)))), (*)(1//2, (cos)((+)((*)(-1, (getindex)(q, 1)), (getindex)(q, 2)))))), (Differential(t))((getindex)(dq, 1)))), (*)((*)((*)((*)((*)(1//2, L1), L2), m2), (^)((getindex)(dq, 1), 2)), (sin)((+)((*)(-1, (getindex)(q, 2)), (getindex)(q, 1))))), (*)((*)((*)((*)((*)(-1//2, L1), L2), m2), (^)((getindex)(dq, 1), 2)), (sin)((+)((*)(-1, (getindex)(q, 1)), (getindex)(q, 2))))), (*)((*)((*)((*)((*)(-1//2, L1), L2), m2), (cos)((+)((*)(-1, (getindex)(q, 2)), (getindex)(q, 1)))), (Differential(t))((getindex)(dq, 1)))), (*)((*)((*)((*)((*)(-1//2, L1), L2), m2), (cos)((+)((*)(-1, (getindex)(q, 1)), (getindex)(q, 2)))), (Differential(t))((getindex)(dq, 1)))))\n",
       "              end\n",
       "          end\n",
       "      end))"
      ]
     },
     "execution_count": 141,
     "metadata": {},
     "output_type": "execute_result"
    }
   ],
   "source": [
    "rhs_N2 = build_function(rhsq, q, dq, m, L, g, expression = Val{false})[1]"
   ]
  },
  {
   "cell_type": "code",
   "execution_count": 142,
   "id": "dd318795",
   "metadata": {},
   "outputs": [
    {
     "data": {
      "text/plain": [
       "2-element Vector{Float64}:\n",
       " 19.62\n",
       "  9.81"
      ]
     },
     "execution_count": 142,
     "metadata": {},
     "output_type": "execute_result"
    }
   ],
   "source": [
    "rhs_N2([pi/2, pi/2], [1,0], [1,1], [1,1], 9.81)"
   ]
  },
  {
   "cell_type": "code",
   "execution_count": 143,
   "id": "09c9cf00",
   "metadata": {},
   "outputs": [
    {
     "data": {
      "text/plain": [
       "2-element Vector{Float64}:\n",
       " 9.81\n",
       " 0.0"
      ]
     },
     "execution_count": 143,
     "metadata": {},
     "output_type": "execute_result"
    }
   ],
   "source": [
    "M_N2([pi/2, pi/2], [1,1], [1,1])\\rhs_N2([pi/2, pi/2], [0,0], [1,1], [1,1], 9.81)"
   ]
  },
  {
   "cell_type": "code",
   "execution_count": 150,
   "id": "00fe8537",
   "metadata": {},
   "outputs": [
    {
     "data": {
      "text/plain": [
       "N2pendulum (generic function with 1 method)"
      ]
     },
     "execution_count": 150,
     "metadata": {},
     "output_type": "execute_result"
    }
   ],
   "source": [
    "function N2pendulum(u, params, t)\n",
    "    g = 9.81\n",
    "    L = params[1:2]\n",
    "    m = params[3:4]\n",
    "    q = u[1:2]\n",
    "    dq = u[3:4]\n",
    "    du = zeros(length(u))\n",
    "    du[1:2] = u[3:4]\n",
    "    M_tmp = M_N2(q, m, L)\n",
    "    rhs_tmp = rhs_N2(q, dq, m, L, g)\n",
    "    du[3:4] = M_tmp\\rhs_tmp\n",
    "    return du\n",
    "end"
   ]
  },
  {
   "cell_type": "code",
   "execution_count": 151,
   "id": "9f3e0690",
   "metadata": {},
   "outputs": [
    {
     "data": {
      "text/plain": [
       "4-element Vector{Float64}:\n",
       "  0.0\n",
       "  0.0\n",
       " -3.003446274908884e-16\n",
       "  9.81"
      ]
     },
     "execution_count": 151,
     "metadata": {},
     "output_type": "execute_result"
    }
   ],
   "source": [
    "N2pendulum([0, pi/2, 0, 0], [1, 1, 0.1, 0.1], 0)"
   ]
  },
  {
   "cell_type": "code",
   "execution_count": 152,
   "id": "c9303c1a",
   "metadata": {},
   "outputs": [
    {
     "data": {
      "image/svg+xml": [
       "<?xml version=\"1.0\" encoding=\"utf-8\"?>\n",
       "<svg xmlns=\"http://www.w3.org/2000/svg\" xmlns:xlink=\"http://www.w3.org/1999/xlink\" width=\"600\" height=\"400\" viewBox=\"0 0 2400 1600\">\n",
       "<defs>\n",
       "  <clipPath id=\"clip610\">\n",
       "    <rect x=\"0\" y=\"0\" width=\"2400\" height=\"1600\"/>\n",
       "  </clipPath>\n",
       "</defs>\n",
       "<path clip-path=\"url(#clip610)\" d=\"\n",
       "M0 1600 L2400 1600 L2400 0 L0 0  Z\n",
       "  \" fill=\"#ffffff\" fill-rule=\"evenodd\" fill-opacity=\"1\"/>\n",
       "<defs>\n",
       "  <clipPath id=\"clip611\">\n",
       "    <rect x=\"480\" y=\"0\" width=\"1681\" height=\"1600\"/>\n",
       "  </clipPath>\n",
       "</defs>\n",
       "<defs>\n",
       "  <clipPath id=\"clip612\">\n",
       "    <rect x=\"337\" y=\"47\" width=\"1108\" height=\"1303\"/>\n",
       "  </clipPath>\n",
       "</defs>\n",
       "<path clip-path=\"url(#clip610)\" d=\"\n",
       "M337.843 1349.74 L1444.39 1349.74 L1444.39 47.2441 L337.843 47.2441  Z\n",
       "  \" fill=\"#ffffff\" fill-rule=\"evenodd\" fill-opacity=\"1\"/>\n",
       "<polyline clip-path=\"url(#clip610)\" style=\"stroke:#000000; stroke-linecap:butt; stroke-linejoin:round; stroke-width:4; stroke-opacity:1; fill:none\" points=\"\n",
       "  337.843,1349.74 1444.39,1349.74 \n",
       "  \"/>\n",
       "<polyline clip-path=\"url(#clip610)\" style=\"stroke:#000000; stroke-linecap:butt; stroke-linejoin:round; stroke-width:4; stroke-opacity:1; fill:none\" points=\"\n",
       "  369.161,1349.74 369.161,1330.84 \n",
       "  \"/>\n",
       "<polyline clip-path=\"url(#clip610)\" style=\"stroke:#000000; stroke-linecap:butt; stroke-linejoin:round; stroke-width:4; stroke-opacity:1; fill:none\" points=\"\n",
       "  630.139,1349.74 630.139,1330.84 \n",
       "  \"/>\n",
       "<polyline clip-path=\"url(#clip610)\" style=\"stroke:#000000; stroke-linecap:butt; stroke-linejoin:round; stroke-width:4; stroke-opacity:1; fill:none\" points=\"\n",
       "  891.118,1349.74 891.118,1330.84 \n",
       "  \"/>\n",
       "<polyline clip-path=\"url(#clip610)\" style=\"stroke:#000000; stroke-linecap:butt; stroke-linejoin:round; stroke-width:4; stroke-opacity:1; fill:none\" points=\"\n",
       "  1152.1,1349.74 1152.1,1330.84 \n",
       "  \"/>\n",
       "<polyline clip-path=\"url(#clip610)\" style=\"stroke:#000000; stroke-linecap:butt; stroke-linejoin:round; stroke-width:4; stroke-opacity:1; fill:none\" points=\"\n",
       "  1413.08,1349.74 1413.08,1330.84 \n",
       "  \"/>\n",
       "<path clip-path=\"url(#clip610)\" d=\"M369.161 1395.31 Q361.036 1395.31 356.921 1403.33 Q352.859 1411.3 352.859 1427.34 Q352.859 1443.33 356.921 1451.35 Q361.036 1459.32 369.161 1459.32 Q377.338 1459.32 381.4 1451.35 Q385.515 1443.33 385.515 1427.34 Q385.515 1411.3 381.4 1403.33 Q377.338 1395.31 369.161 1395.31 M369.161 1386.97 Q382.233 1386.97 389.108 1397.34 Q396.035 1407.65 396.035 1427.34 Q396.035 1446.97 389.108 1457.34 Q382.233 1467.65 369.161 1467.65 Q356.088 1467.65 349.161 1457.34 Q342.286 1446.97 342.286 1427.34 Q342.286 1407.65 349.161 1397.34 Q356.088 1386.97 369.161 1386.97 Z\" fill=\"#000000\" fill-rule=\"evenodd\" fill-opacity=\"1\" /><path clip-path=\"url(#clip610)\" d=\"M608.264 1388.38 L649.566 1388.38 L649.566 1397.23 L617.9 1397.23 L617.9 1416.3 Q620.191 1415.52 622.483 1415.15 Q624.775 1414.73 627.066 1414.73 Q640.087 1414.73 647.691 1421.87 Q655.295 1429 655.295 1441.19 Q655.295 1453.74 647.483 1460.72 Q639.67 1467.65 625.452 1467.65 Q620.556 1467.65 615.452 1466.82 Q610.4 1465.98 604.983 1464.32 L604.983 1453.74 Q609.671 1456.3 614.67 1457.55 Q619.67 1458.8 625.243 1458.8 Q634.254 1458.8 639.514 1454.06 Q644.775 1449.32 644.775 1441.19 Q644.775 1433.07 639.514 1428.33 Q634.254 1423.59 625.243 1423.59 Q621.025 1423.59 616.806 1424.53 Q612.639 1425.46 608.264 1427.44 L608.264 1388.38 Z\" fill=\"#000000\" fill-rule=\"evenodd\" fill-opacity=\"1\" /><path clip-path=\"url(#clip610)\" d=\"M834.165 1457.29 L851.352 1457.29 L851.352 1397.96 L832.655 1401.71 L832.655 1392.13 L851.248 1388.38 L861.769 1388.38 L861.769 1457.29 L878.956 1457.29 L878.956 1466.14 L834.165 1466.14 L834.165 1457.29 Z\" fill=\"#000000\" fill-rule=\"evenodd\" fill-opacity=\"1\" /><path clip-path=\"url(#clip610)\" d=\"M922.706 1395.31 Q914.581 1395.31 910.467 1403.33 Q906.404 1411.3 906.404 1427.34 Q906.404 1443.33 910.467 1451.35 Q914.581 1459.32 922.706 1459.32 Q930.883 1459.32 934.946 1451.35 Q939.06 1443.33 939.06 1427.34 Q939.06 1411.3 934.946 1403.33 Q930.883 1395.31 922.706 1395.31 M922.706 1386.97 Q935.779 1386.97 942.654 1397.34 Q949.581 1407.65 949.581 1427.34 Q949.581 1446.97 942.654 1457.34 Q935.779 1467.65 922.706 1467.65 Q909.633 1467.65 902.706 1457.34 Q895.831 1446.97 895.831 1427.34 Q895.831 1407.65 902.706 1397.34 Q909.633 1386.97 922.706 1386.97 Z\" fill=\"#000000\" fill-rule=\"evenodd\" fill-opacity=\"1\" /><path clip-path=\"url(#clip610)\" d=\"M1096.26 1457.29 L1113.45 1457.29 L1113.45 1397.96 L1094.75 1401.71 L1094.75 1392.13 L1113.35 1388.38 L1123.87 1388.38 L1123.87 1457.29 L1141.05 1457.29 L1141.05 1466.14 L1096.26 1466.14 L1096.26 1457.29 Z\" fill=\"#000000\" fill-rule=\"evenodd\" fill-opacity=\"1\" /><path clip-path=\"url(#clip610)\" d=\"M1162.41 1388.38 L1203.71 1388.38 L1203.71 1397.23 L1172.04 1397.23 L1172.04 1416.3 Q1174.34 1415.52 1176.63 1415.15 Q1178.92 1414.73 1181.21 1414.73 Q1194.23 1414.73 1201.84 1421.87 Q1209.44 1429 1209.44 1441.19 Q1209.44 1453.74 1201.63 1460.72 Q1193.82 1467.65 1179.6 1467.65 Q1174.7 1467.65 1169.6 1466.82 Q1164.54 1465.98 1159.13 1464.32 L1159.13 1453.74 Q1163.82 1456.3 1168.82 1457.55 Q1173.82 1458.8 1179.39 1458.8 Q1188.4 1458.8 1193.66 1454.06 Q1198.92 1449.32 1198.92 1441.19 Q1198.92 1433.07 1193.66 1428.33 Q1188.4 1423.59 1179.39 1423.59 Q1175.17 1423.59 1170.95 1424.53 Q1166.78 1425.46 1162.41 1427.44 L1162.41 1388.38 Z\" fill=\"#000000\" fill-rule=\"evenodd\" fill-opacity=\"1\" /><path clip-path=\"url(#clip610)\" d=\"M1365.31 1457.29 L1402.03 1457.29 L1402.03 1466.14 L1352.66 1466.14 L1352.66 1457.29 Q1358.65 1451.09 1368.96 1440.67 Q1379.33 1430.2 1381.98 1427.18 Q1387.03 1421.5 1389.01 1417.6 Q1391.04 1413.64 1391.04 1409.84 Q1391.04 1403.64 1386.67 1399.73 Q1382.35 1395.83 1375.37 1395.83 Q1370.42 1395.83 1364.9 1397.55 Q1359.43 1399.27 1353.18 1402.75 L1353.18 1392.13 Q1359.53 1389.58 1365.05 1388.28 Q1370.58 1386.97 1375.16 1386.97 Q1387.24 1386.97 1394.43 1393.02 Q1401.62 1399.06 1401.62 1409.16 Q1401.62 1413.95 1399.79 1418.28 Q1398.02 1422.55 1393.28 1428.38 Q1391.98 1429.89 1385 1437.13 Q1378.02 1444.32 1365.31 1457.29 Z\" fill=\"#000000\" fill-rule=\"evenodd\" fill-opacity=\"1\" /><path clip-path=\"url(#clip610)\" d=\"M1446.62 1395.31 Q1438.49 1395.31 1434.38 1403.33 Q1430.31 1411.3 1430.31 1427.34 Q1430.31 1443.33 1434.38 1451.35 Q1438.49 1459.32 1446.62 1459.32 Q1454.79 1459.32 1458.86 1451.35 Q1462.97 1443.33 1462.97 1427.34 Q1462.97 1411.3 1458.86 1403.33 Q1454.79 1395.31 1446.62 1395.31 M1446.62 1386.97 Q1459.69 1386.97 1466.56 1397.34 Q1473.49 1407.65 1473.49 1427.34 Q1473.49 1446.97 1466.56 1457.34 Q1459.69 1467.65 1446.62 1467.65 Q1433.54 1467.65 1426.62 1457.34 Q1419.74 1446.97 1419.74 1427.34 Q1419.74 1407.65 1426.62 1397.34 Q1433.54 1386.97 1446.62 1386.97 Z\" fill=\"#000000\" fill-rule=\"evenodd\" fill-opacity=\"1\" /><path clip-path=\"url(#clip610)\" d=\"M706.952 1520.8 L706.952 1537.36 L726.692 1537.36 L726.692 1544.81 L706.952 1544.81 L706.952 1576.47 Q706.952 1583.61 708.879 1585.64 Q710.858 1587.67 716.848 1587.67 L726.692 1587.67 L726.692 1595.69 L716.848 1595.69 Q705.754 1595.69 701.536 1591.58 Q697.317 1587.41 697.317 1576.47 L697.317 1544.81 L690.286 1544.81 L690.286 1537.36 L697.317 1537.36 L697.317 1520.8 L706.952 1520.8 Z\" fill=\"#000000\" fill-rule=\"evenodd\" fill-opacity=\"1\" /><path clip-path=\"url(#clip610)\" d=\"M739.296 1537.36 L748.879 1537.36 L748.879 1595.69 L739.296 1595.69 L739.296 1537.36 M739.296 1514.65 L748.879 1514.65 L748.879 1526.79 L739.296 1526.79 L739.296 1514.65 Z\" fill=\"#000000\" fill-rule=\"evenodd\" fill-opacity=\"1\" /><path clip-path=\"url(#clip610)\" d=\"M814.347 1548.56 Q817.941 1542.1 822.941 1539.03 Q827.941 1535.95 834.712 1535.95 Q843.826 1535.95 848.774 1542.36 Q853.722 1548.71 853.722 1560.48 L853.722 1595.69 L844.087 1595.69 L844.087 1560.8 Q844.087 1552.41 841.118 1548.35 Q838.149 1544.29 832.056 1544.29 Q824.608 1544.29 820.285 1549.23 Q815.962 1554.18 815.962 1562.72 L815.962 1595.69 L806.327 1595.69 L806.327 1560.8 Q806.327 1552.36 803.358 1548.35 Q800.389 1544.29 794.191 1544.29 Q786.848 1544.29 782.525 1549.29 Q778.202 1554.23 778.202 1562.72 L778.202 1595.69 L768.566 1595.69 L768.566 1537.36 L778.202 1537.36 L778.202 1546.42 Q781.483 1541.06 786.066 1538.5 Q790.65 1535.95 796.952 1535.95 Q803.306 1535.95 807.733 1539.18 Q812.212 1542.41 814.347 1548.56 Z\" fill=\"#000000\" fill-rule=\"evenodd\" fill-opacity=\"1\" /><path clip-path=\"url(#clip610)\" d=\"M922.732 1564.13 L922.732 1568.82 L878.67 1568.82 Q879.295 1578.71 884.607 1583.92 Q889.972 1589.08 899.503 1589.08 Q905.024 1589.08 910.18 1587.72 Q915.389 1586.37 920.493 1583.66 L920.493 1592.72 Q915.336 1594.91 909.92 1596.06 Q904.503 1597.2 898.93 1597.2 Q884.972 1597.2 876.795 1589.08 Q868.67 1580.95 868.67 1567.1 Q868.67 1552.78 876.378 1544.39 Q884.139 1535.95 897.264 1535.95 Q909.034 1535.95 915.857 1543.56 Q922.732 1551.11 922.732 1564.13 M913.149 1561.32 Q913.045 1553.45 908.722 1548.77 Q904.451 1544.08 897.368 1544.08 Q889.347 1544.08 884.503 1548.61 Q879.712 1553.14 878.982 1561.37 L913.149 1561.32 Z\" fill=\"#000000\" fill-rule=\"evenodd\" fill-opacity=\"1\" /><path clip-path=\"url(#clip610)\" d=\"M995.388 1514.75 Q988.409 1526.73 985.024 1538.45 Q981.638 1550.17 981.638 1562.2 Q981.638 1574.23 985.024 1586.06 Q988.461 1597.83 995.388 1609.75 L987.055 1609.75 Q979.242 1597.51 975.336 1585.69 Q971.482 1573.87 971.482 1562.2 Q971.482 1550.59 975.336 1538.82 Q979.19 1527.05 987.055 1514.75 L995.388 1514.75 Z\" fill=\"#000000\" fill-rule=\"evenodd\" fill-opacity=\"1\" /><path clip-path=\"url(#clip610)\" d=\"M1051.17 1539.08 L1051.17 1548.14 Q1047.11 1546.06 1042.73 1545.02 Q1038.36 1543.97 1033.67 1543.97 Q1026.53 1543.97 1022.94 1546.16 Q1019.4 1548.35 1019.4 1552.72 Q1019.4 1556.06 1021.95 1557.98 Q1024.5 1559.86 1032.21 1561.58 L1035.49 1562.31 Q1045.7 1564.49 1049.97 1568.5 Q1054.29 1572.46 1054.29 1579.6 Q1054.29 1587.72 1047.84 1592.46 Q1041.43 1597.2 1030.18 1597.2 Q1025.49 1597.2 1020.39 1596.26 Q1015.34 1595.38 1009.71 1593.56 L1009.71 1583.66 Q1015.02 1586.42 1020.18 1587.83 Q1025.34 1589.18 1030.39 1589.18 Q1037.16 1589.18 1040.8 1586.89 Q1044.45 1584.55 1044.45 1580.33 Q1044.45 1576.42 1041.79 1574.34 Q1039.19 1572.25 1030.28 1570.33 L1026.95 1569.55 Q1018.04 1567.67 1014.09 1563.82 Q1010.13 1559.91 1010.13 1553.14 Q1010.13 1544.91 1015.96 1540.43 Q1021.79 1535.95 1032.52 1535.95 Q1037.84 1535.95 1042.52 1536.73 Q1047.21 1537.52 1051.17 1539.08 Z\" fill=\"#000000\" fill-rule=\"evenodd\" fill-opacity=\"1\" /><path clip-path=\"url(#clip610)\" d=\"M1068.04 1514.75 L1076.38 1514.75 Q1084.19 1527.05 1088.04 1538.82 Q1091.95 1550.59 1091.95 1562.2 Q1091.95 1573.87 1088.04 1585.69 Q1084.19 1597.51 1076.38 1609.75 L1068.04 1609.75 Q1074.97 1597.83 1078.36 1586.06 Q1081.79 1574.23 1081.79 1562.2 Q1081.79 1550.17 1078.36 1538.45 Q1074.97 1526.73 1068.04 1514.75 Z\" fill=\"#000000\" fill-rule=\"evenodd\" fill-opacity=\"1\" /><polyline clip-path=\"url(#clip610)\" style=\"stroke:#000000; stroke-linecap:butt; stroke-linejoin:round; stroke-width:4; stroke-opacity:1; fill:none\" points=\"\n",
       "  337.843,1349.74 337.843,47.2441 \n",
       "  \"/>\n",
       "<polyline clip-path=\"url(#clip610)\" style=\"stroke:#000000; stroke-linecap:butt; stroke-linejoin:round; stroke-width:4; stroke-opacity:1; fill:none\" points=\"\n",
       "  337.843,1304.85 348.221,1304.85 \n",
       "  \"/>\n",
       "<polyline clip-path=\"url(#clip610)\" style=\"stroke:#000000; stroke-linecap:butt; stroke-linejoin:round; stroke-width:4; stroke-opacity:1; fill:none\" points=\"\n",
       "  337.843,1039.37 348.221,1039.37 \n",
       "  \"/>\n",
       "<polyline clip-path=\"url(#clip610)\" style=\"stroke:#000000; stroke-linecap:butt; stroke-linejoin:round; stroke-width:4; stroke-opacity:1; fill:none\" points=\"\n",
       "  337.843,773.895 348.221,773.895 \n",
       "  \"/>\n",
       "<polyline clip-path=\"url(#clip610)\" style=\"stroke:#000000; stroke-linecap:butt; stroke-linejoin:round; stroke-width:4; stroke-opacity:1; fill:none\" points=\"\n",
       "  337.843,508.417 348.221,508.417 \n",
       "  \"/>\n",
       "<polyline clip-path=\"url(#clip610)\" style=\"stroke:#000000; stroke-linecap:butt; stroke-linejoin:round; stroke-width:4; stroke-opacity:1; fill:none\" points=\"\n",
       "  337.843,242.94 348.221,242.94 \n",
       "  \"/>\n",
       "<path clip-path=\"url(#clip610)\" d=\"M159.76 1334.88 L196.479 1334.88 L196.479 1343.73 L147.104 1343.73 L147.104 1334.88 Q153.094 1328.68 163.406 1318.26 Q173.771 1307.79 176.427 1304.77 Q181.479 1299.1 183.458 1295.19 Q185.49 1291.23 185.49 1287.43 Q185.49 1281.23 181.115 1277.33 Q176.792 1273.42 169.813 1273.42 Q164.865 1273.42 159.344 1275.14 Q153.875 1276.86 147.625 1280.35 L147.625 1269.72 Q153.979 1267.17 159.5 1265.87 Q165.021 1264.56 169.604 1264.56 Q181.687 1264.56 188.875 1270.61 Q196.062 1276.65 196.062 1286.75 Q196.062 1291.54 194.239 1295.87 Q192.469 1300.14 187.729 1305.97 Q186.427 1307.48 179.448 1314.72 Q172.469 1321.91 159.76 1334.88 Z\" fill=\"#000000\" fill-rule=\"evenodd\" fill-opacity=\"1\" /><path clip-path=\"url(#clip610)\" d=\"M218.562 1330.5 L229.552 1330.5 L229.552 1343.73 L218.562 1343.73 L218.562 1330.5 Z\" fill=\"#000000\" fill-rule=\"evenodd\" fill-opacity=\"1\" /><path clip-path=\"url(#clip610)\" d=\"M274.968 1272.9 Q266.843 1272.9 262.729 1280.92 Q258.666 1288.89 258.666 1304.93 Q258.666 1320.92 262.729 1328.94 Q266.843 1336.91 274.968 1336.91 Q283.145 1336.91 287.208 1328.94 Q291.322 1320.92 291.322 1304.93 Q291.322 1288.89 287.208 1280.92 Q283.145 1272.9 274.968 1272.9 M274.968 1264.56 Q288.041 1264.56 294.916 1274.93 Q301.843 1285.24 301.843 1304.93 Q301.843 1324.56 294.916 1334.93 Q288.041 1345.24 274.968 1345.24 Q261.895 1345.24 254.968 1334.93 Q248.093 1324.56 248.093 1304.93 Q248.093 1285.24 254.968 1274.93 Q261.895 1264.56 274.968 1264.56 Z\" fill=\"#000000\" fill-rule=\"evenodd\" fill-opacity=\"1\" /><path clip-path=\"url(#clip610)\" d=\"M162 1069.4 L198.719 1069.4 L198.719 1078.25 L149.344 1078.25 L149.344 1069.4 Q155.333 1063.2 165.646 1052.78 Q176.01 1042.32 178.667 1039.3 Q183.719 1033.62 185.698 1029.71 Q187.729 1025.75 187.729 1021.95 Q187.729 1015.75 183.354 1011.85 Q179.031 1007.94 172.052 1007.94 Q167.104 1007.94 161.583 1009.66 Q156.115 1011.38 149.865 1014.87 L149.865 1004.24 Q156.219 1001.69 161.74 1000.39 Q167.26 999.087 171.844 999.087 Q183.927 999.087 191.114 1005.13 Q198.302 1011.17 198.302 1021.27 Q198.302 1026.07 196.479 1030.39 Q194.708 1034.66 189.969 1040.49 Q188.667 1042 181.687 1049.24 Q174.708 1056.43 162 1069.4 Z\" fill=\"#000000\" fill-rule=\"evenodd\" fill-opacity=\"1\" /><path clip-path=\"url(#clip610)\" d=\"M220.802 1065.02 L231.791 1065.02 L231.791 1078.25 L220.802 1078.25 L220.802 1065.02 Z\" fill=\"#000000\" fill-rule=\"evenodd\" fill-opacity=\"1\" /><path clip-path=\"url(#clip610)\" d=\"M254.812 1000.49 L296.114 1000.49 L296.114 1009.35 L264.447 1009.35 L264.447 1028.41 Q266.739 1027.63 269.031 1027.26 Q271.322 1026.85 273.614 1026.85 Q286.635 1026.85 294.239 1033.98 Q301.843 1041.12 301.843 1053.31 Q301.843 1065.86 294.031 1072.84 Q286.218 1079.76 271.999 1079.76 Q267.104 1079.76 262 1078.93 Q256.947 1078.1 251.531 1076.43 L251.531 1065.86 Q256.218 1068.41 261.218 1069.66 Q266.218 1070.91 271.791 1070.91 Q280.802 1070.91 286.062 1066.17 Q291.322 1061.43 291.322 1053.31 Q291.322 1045.18 286.062 1040.44 Q280.802 1035.7 271.791 1035.7 Q267.572 1035.7 263.354 1036.64 Q259.187 1037.58 254.812 1039.56 L254.812 1000.49 Z\" fill=\"#000000\" fill-rule=\"evenodd\" fill-opacity=\"1\" /><path clip-path=\"url(#clip610)\" d=\"M182.573 770.848 Q190.125 772.463 194.344 777.567 Q198.614 782.671 198.614 790.171 Q198.614 801.682 190.698 807.984 Q182.781 814.286 168.198 814.286 Q163.302 814.286 158.094 813.296 Q152.938 812.359 147.417 810.432 L147.417 800.275 Q151.792 802.827 157 804.13 Q162.208 805.432 167.885 805.432 Q177.781 805.432 182.937 801.525 Q188.146 797.619 188.146 790.171 Q188.146 783.296 183.302 779.442 Q178.51 775.536 169.917 775.536 L160.854 775.536 L160.854 766.89 L170.333 766.89 Q178.094 766.89 182.208 763.817 Q186.323 760.692 186.323 754.859 Q186.323 748.869 182.052 745.692 Q177.833 742.463 169.917 742.463 Q165.594 742.463 160.646 743.401 Q155.698 744.338 149.761 746.317 L149.761 736.942 Q155.75 735.276 160.958 734.442 Q166.219 733.609 170.854 733.609 Q182.833 733.609 189.812 739.078 Q196.792 744.494 196.792 753.765 Q196.792 760.223 193.094 764.703 Q189.396 769.13 182.573 770.848 Z\" fill=\"#000000\" fill-rule=\"evenodd\" fill-opacity=\"1\" /><path clip-path=\"url(#clip610)\" d=\"M218.562 799.546 L229.552 799.546 L229.552 812.775 L218.562 812.775 L218.562 799.546 Z\" fill=\"#000000\" fill-rule=\"evenodd\" fill-opacity=\"1\" /><path clip-path=\"url(#clip610)\" d=\"M274.968 741.942 Q266.843 741.942 262.729 749.963 Q258.666 757.932 258.666 773.973 Q258.666 789.963 262.729 797.984 Q266.843 805.952 274.968 805.952 Q283.145 805.952 287.208 797.984 Q291.322 789.963 291.322 773.973 Q291.322 757.932 287.208 749.963 Q283.145 741.942 274.968 741.942 M274.968 733.609 Q288.041 733.609 294.916 743.974 Q301.843 754.286 301.843 773.973 Q301.843 793.609 294.916 803.973 Q288.041 814.286 274.968 814.286 Q261.895 814.286 254.968 803.973 Q248.093 793.609 248.093 773.973 Q248.093 754.286 254.968 743.974 Q261.895 733.609 274.968 733.609 Z\" fill=\"#000000\" fill-rule=\"evenodd\" fill-opacity=\"1\" /><path clip-path=\"url(#clip610)\" d=\"M184.812 505.371 Q192.364 506.985 196.583 512.089 Q200.854 517.193 200.854 524.693 Q200.854 536.204 192.937 542.506 Q185.021 548.808 170.438 548.808 Q165.542 548.808 160.333 547.818 Q155.177 546.881 149.656 544.954 L149.656 534.797 Q154.031 537.35 159.24 538.652 Q164.448 539.954 170.125 539.954 Q180.021 539.954 185.177 536.047 Q190.385 532.141 190.385 524.693 Q190.385 517.818 185.542 513.964 Q180.75 510.058 172.156 510.058 L163.094 510.058 L163.094 501.412 L172.573 501.412 Q180.333 501.412 184.448 498.339 Q188.562 495.214 188.562 489.381 Q188.562 483.391 184.292 480.214 Q180.073 476.985 172.156 476.985 Q167.833 476.985 162.885 477.923 Q157.938 478.86 152 480.839 L152 471.464 Q157.99 469.798 163.198 468.964 Q168.458 468.131 173.094 468.131 Q185.073 468.131 192.052 473.6 Q199.031 479.017 199.031 488.287 Q199.031 494.746 195.333 499.225 Q191.635 503.652 184.812 505.371 Z\" fill=\"#000000\" fill-rule=\"evenodd\" fill-opacity=\"1\" /><path clip-path=\"url(#clip610)\" d=\"M220.802 534.068 L231.791 534.068 L231.791 547.297 L220.802 547.297 L220.802 534.068 Z\" fill=\"#000000\" fill-rule=\"evenodd\" fill-opacity=\"1\" /><path clip-path=\"url(#clip610)\" d=\"M254.812 469.537 L296.114 469.537 L296.114 478.392 L264.447 478.392 L264.447 497.454 Q266.739 496.673 269.031 496.308 Q271.322 495.891 273.614 495.891 Q286.635 495.891 294.239 503.027 Q301.843 510.162 301.843 522.35 Q301.843 534.902 294.031 541.881 Q286.218 548.808 271.999 548.808 Q267.104 548.808 262 547.974 Q256.947 547.141 251.531 545.474 L251.531 534.902 Q256.218 537.454 261.218 538.704 Q266.218 539.954 271.791 539.954 Q280.802 539.954 286.062 535.214 Q291.322 530.475 291.322 522.35 Q291.322 514.225 286.062 509.485 Q280.802 504.746 271.791 504.746 Q267.572 504.746 263.354 505.683 Q259.187 506.621 254.812 508.6 L254.812 469.537 Z\" fill=\"#000000\" fill-rule=\"evenodd\" fill-opacity=\"1\" /><path clip-path=\"url(#clip610)\" d=\"M179.604 213.226 L153.042 254.736 L179.604 254.736 L179.604 213.226 M176.844 204.06 L190.073 204.06 L190.073 254.736 L201.167 254.736 L201.167 263.486 L190.073 263.486 L190.073 281.82 L179.604 281.82 L179.604 263.486 L144.5 263.486 L144.5 253.33 L176.844 204.06 Z\" fill=\"#000000\" fill-rule=\"evenodd\" fill-opacity=\"1\" /><path clip-path=\"url(#clip610)\" d=\"M218.562 268.59 L229.552 268.59 L229.552 281.82 L218.562 281.82 L218.562 268.59 Z\" fill=\"#000000\" fill-rule=\"evenodd\" fill-opacity=\"1\" /><path clip-path=\"url(#clip610)\" d=\"M274.968 210.987 Q266.843 210.987 262.729 219.007 Q258.666 226.976 258.666 243.018 Q258.666 259.007 262.729 267.028 Q266.843 274.997 274.968 274.997 Q283.145 274.997 287.208 267.028 Q291.322 259.007 291.322 243.018 Q291.322 226.976 287.208 219.007 Q283.145 210.987 274.968 210.987 M274.968 202.653 Q288.041 202.653 294.916 213.018 Q301.843 223.33 301.843 243.018 Q301.843 262.653 294.916 273.017 Q288.041 283.33 274.968 283.33 Q261.895 283.33 254.968 273.017 Q248.093 262.653 248.093 243.018 Q248.093 223.33 254.968 213.018 Q261.895 202.653 274.968 202.653 Z\" fill=\"#000000\" fill-rule=\"evenodd\" fill-opacity=\"1\" /><path clip-path=\"url(#clip610)\" d=\"M33.8956 702.446 Q42.7493 702.446 52.7097 705.292 Q62.6174 708.085 70.6278 712.512 Q78.5856 716.939 83.8557 722.736 Q89.073 728.533 89.073 734.066 Q89.073 737.597 87.1231 740.232 Q85.1205 742.815 81.8003 744.238 Q78.4275 745.661 74.7385 746.346 Q70.9967 747.031 66.9388 747.031 Q60.8783 747.031 54.2907 745.713 Q47.6504 744.396 41.6426 742.182 Q35.582 739.969 30.1012 736.86 Q24.5676 733.75 20.5624 730.325 Q16.5044 726.846 14.1329 722.947 Q11.7614 719.047 11.7614 715.41 Q11.7614 712.775 12.9208 710.667 Q14.0275 708.507 15.9774 707.136 Q17.8746 705.766 20.1408 704.818 Q22.4069 703.816 25.0419 703.342 Q27.6242 702.868 29.785 702.657 Q31.893 702.446 33.8956 702.446 M27.2026 709.561 Q24.5149 709.561 22.5123 709.771 Q20.457 709.982 18.4016 710.562 Q16.3463 711.142 15.2396 712.406 Q14.1329 713.619 14.1329 715.516 Q14.1329 721.049 25.4635 727.268 Q28.9944 729.271 33.7902 731.062 Q38.5859 732.854 40.8521 733.487 Q43.1182 734.119 48.7044 735.595 L48.7044 713.039 Q34.3172 709.561 27.2026 709.561 M52.13 713.988 L52.13 736.438 Q65.3051 739.916 73.5264 739.916 Q80.6936 739.916 83.6976 738.441 Q86.6488 736.912 86.6488 734.066 Q86.6488 730.799 83.3814 727.742 Q80.0612 724.686 74.0534 721.576 Q66.2537 717.466 52.13 713.988 Z\" fill=\"#000000\" fill-rule=\"evenodd\" fill-opacity=\"1\" /><path clip-path=\"url(#clip610)\" d=\"M118.963 691.354 Q117.598 691.354 117.192 691.244 Q116.786 691.096 116.159 690.506 L100.001 676.008 Q91.0737 668.077 83.2898 668.077 Q78.2358 668.077 74.6206 670.733 Q71.0053 673.352 71.0053 678.185 Q71.0053 681.505 73.0343 684.308 Q75.0633 687.112 78.6785 688.403 Q78.6047 688.182 78.6047 687.407 Q78.6047 685.526 79.7852 684.493 Q80.9657 683.423 82.552 683.423 Q84.581 683.423 85.577 684.751 Q86.5362 686.042 86.5362 687.333 Q86.5362 687.85 86.4255 688.551 Q86.3148 689.215 85.2819 690.285 Q84.2121 691.354 82.3307 691.354 Q77.0553 691.354 72.8498 687.37 Q68.6443 683.349 68.6443 677.225 Q68.6443 670.29 72.7761 665.753 Q76.8709 661.178 83.2898 661.178 Q85.5401 661.178 87.606 661.879 Q89.635 662.543 91.2212 663.465 Q92.8075 664.351 95.353 666.785 Q97.8984 669.22 99.706 671.175 Q101.514 673.131 105.35 677.521 L113.134 685.526 L113.134 671.913 Q113.134 665.273 112.544 664.757 Q111.474 664.019 105.83 663.096 L105.83 661.178 L118.963 663.318 L118.963 691.354 Z\" fill=\"#000000\" fill-rule=\"evenodd\" fill-opacity=\"1\" /><polyline clip-path=\"url(#clip612)\" style=\"stroke:#009af9; stroke-linecap:butt; stroke-linejoin:round; stroke-width:16; stroke-opacity:1; fill:none\" points=\"\n",
       "  369.161,1304.85 371.253,1304.85 373.345,1304.78 375.437,1304.46 377.529,1303.51 379.621,1301.24 381.713,1296.66 383.805,1288.45 385.897,1275.09 387.989,1255.04 \n",
       "  390.081,1226.86 392.173,1189.37 394.265,1141.71 396.357,1083.28 398.449,1013.99 400.541,934.239 402.633,845.261 404.725,749.738 406.817,651.861 408.909,556.178 \n",
       "  411.001,467.231 413.093,387.69 415.185,318.691 417.277,260.592 419.369,213.283 421.461,176.225 423.553,148.489 425.645,128.862 427.737,115.889 429.829,107.952 \n",
       "  431.921,103.482 434.013,101.174 436.105,100.014 438.197,99.3242 440.289,98.7515 442.381,98.1202 444.473,97.399 446.565,96.6366 448.657,96.0232 450.749,95.9409 \n",
       "  452.841,97.0699 454.933,100.431 457.025,107.388 459.117,119.488 461.209,138.269 463.301,165.248 465.393,201.65 467.485,248.397 469.577,306.042 471.669,374.673 \n",
       "  473.761,454.076 475.853,543.091 477.945,639.229 480.037,738.262 482.129,835.303 484.221,925.905 486.313,1007.05 488.405,1077.53 490.497,1136.94 492.589,1185.37 \n",
       "  494.681,1223.32 496.773,1251.65 498.865,1271.56 500.957,1284.47 503.049,1292 505.141,1295.78 507.233,1297.21 509.325,1297.35 511.417,1296.96 513.509,1296.46 \n",
       "  515.601,1296.05 517.693,1295.79 519.785,1295.66 521.877,1295.52 523.969,1295.05 526.062,1293.65 528.154,1290.37 530.246,1283.9 532.338,1272.73 534.43,1255.18 \n",
       "  536.522,1229.7 538.614,1195.03 540.706,1150.2 542.798,1094.66 544.89,1027.94 546.982,950.338 549.074,862.963 551.166,768.04 553.258,669.385 555.35,572.023 \n",
       "  557.442,480.581 559.534,398.142 561.626,326.184 563.718,265.11 565.81,214.957 567.902,175.277 569.994,145.244 572.086,123.743 574.178,109.421 576.27,100.724 \n",
       "  578.362,96.0525 580.454,94.0361 582.546,93.5783 584.638,93.8742 586.73,94.4629 588.822,95.1029 590.914,95.7051 593.006,96.2928 595.098,96.9927 597.19,98.115 \n",
       "  599.282,100.227 601.374,104.235 603.466,111.373 605.558,123.134 607.65,141.121 609.742,166.803 611.834,201.458 613.926,245.958 616.018,301.199 618.11,367.503 \n",
       "  620.202,444.45 622.294,531 624.386,624.957 626.478,722.611 628.57,819.158 630.662,910.159 632.754,992.116 634.846,1063.24 636.938,1123.4 639.03,1172.86 \n",
       "  641.122,1212.04 643.214,1241.77 645.306,1263.25 647.398,1277.91 649.49,1287.25 651.582,1292.84 653.674,1296.16 655.766,1298.19 657.858,1299.64 659.95,1300.91 \n",
       "  662.042,1302.17 664.134,1303.49 666.226,1304.83 668.318,1306 670.41,1306.64 672.502,1306.1 674.594,1303.43 676.686,1297.29 678.778,1286.2 680.87,1268.58 \n",
       "  682.963,1242.91 685.055,1207.96 687.147,1162.78 689.239,1106.86 691.331,1039.79 693.423,961.711 695.515,873.714 697.607,778.106 699.699,678.689 701.791,580.306 \n",
       "  703.883,488.191 705.975,405.212 708.067,332.891 710.159,271.679 712.251,221.586 714.343,182.185 716.435,152.639 718.527,131.786 720.619,118.193 722.711,110.247 \n",
       "  724.803,106.226 726.895,104.652 728.987,104.383 731.079,104.621 733.171,104.908 735.263,105.031 737.355,104.914 739.447,104.571 741.539,104.111 743.631,103.807 \n",
       "  745.723,104.197 747.815,106.168 749.907,110.996 751.999,120.231 754.091,135.543 756.183,158.556 758.275,190.648 760.367,232.871 762.459,285.85 764.551,350.09 \n",
       "  766.643,425.519 768.735,511.263 770.827,605.465 772.919,704.609 775.011,803.779 777.103,897.936 779.195,983.513 781.287,1058.62 783.379,1122.78 785.471,1175.84 \n",
       "  787.563,1218.14 789.655,1250.42 791.747,1273.72 793.839,1289.33 795.931,1298.78 798.023,1303.7 800.115,1305.56 802.207,1305.56 804.299,1304.61 806.391,1303.29 \n",
       "  808.483,1301.89 810.575,1300.55 812.667,1299.29 814.759,1298.03 816.851,1296.54 818.943,1294.36 821.035,1290.69 823.127,1284.41 825.219,1274.08 827.311,1258.09 \n",
       "  829.403,1234.85 831.495,1203.02 833.587,1161.59 835.679,1109.76 837.771,1046.84 839.864,972.959 841.956,889.054 844.048,796.948 846.14,699.902 848.232,602.428 \n",
       "  850.324,509.568 852.416,424.691 854.508,349.855 856.6,285.686 858.692,232.295 860.784,189.4 862.876,156.286 864.968,131.896 867.06,114.921 869.152,103.908 \n",
       "  871.244,97.2925 873.336,93.5999 875.428,91.7035 877.52,90.7712 879.612,90.2764 881.704,89.9476 883.796,89.6651 885.888,89.437 887.98,89.3813 890.072,89.7837 \n",
       "  892.164,91.1658 894.256,94.3736 896.348,100.57 898.44,111.18 900.532,127.768 902.624,151.807 904.716,184.6 906.808,227.11 908.9,280.248 910.992,344.399 \n",
       "  913.084,419.296 915.176,504.163 917.268,597.12 919.36,694.745 921.452,792.309 923.544,884.966 925.636,969.206 927.728,1043.15 929.82,1106.27 931.912,1158.5 \n",
       "  934.004,1200.16 936.096,1232.07 938.188,1255.32 940.28,1271.28 942.372,1281.52 944.464,1287.72 946.556,1291.35 948.648,1293.52 950.74,1295.06 952.832,1296.43 \n",
       "  954.924,1297.85 957.016,1299.41 959.108,1301.08 961.2,1302.72 963.292,1304.06 965.384,1304.55 967.476,1303.29 969.568,1299.05 971.66,1290.38 973.752,1275.64 \n",
       "  975.844,1253.23 977.936,1221.81 980.028,1180.33 982.12,1128.17 984.212,1064.86 986.304,990.204 988.396,904.993 990.488,811.018 992.58,711.657 994.672,611.652 \n",
       "  996.765,516.383 998.857,429.5 1000.95,353.017 1003.04,287.636 1005.13,233.528 1007.22,190.404 1009.32,157.551 1011.41,133.94 1013.5,118.24 1015.59,108.878 \n",
       "  1017.68,104.125 1019.78,102.413 1021.87,102.457 1023.96,103.279 1026.05,104.285 1028.14,105.183 1030.24,105.841 1032.33,106.239 1034.42,106.429 1036.51,106.602 \n",
       "  1038.6,107.159 1040.7,108.835 1042.79,112.74 1044.88,120.363 1046.97,133.344 1049.06,153.31 1051.16,181.834 1053.25,220.104 1055.34,269.005 1057.43,328.985 \n",
       "  1059.52,400.043 1061.62,481.842 1063.71,572.922 1065.8,670.444 1067.89,769.832 1069.98,866.237 1072.08,955.278 1074.17,1034.49 1076.26,1102.88 1078.35,1160.19 \n",
       "  1080.45,1206.61 1082.54,1242.74 1084.63,1269.49 1086.72,1288.08 1088.81,1299.91 1090.91,1306.55 1093,1309.54 1095.09,1310.17 1097.18,1309.45 1099.27,1308.09 \n",
       "  1101.37,1306.49 1103.46,1304.83 1105.55,1303.18 1107.64,1301.5 1109.73,1299.63 1111.83,1297.18 1113.92,1293.5 1116.01,1287.59 1118.1,1278.13 1120.19,1263.57 \n",
       "  1122.29,1242.35 1124.38,1213.06 1126.47,1174.49 1128.56,1125.81 1130.65,1066.34 1132.75,996.09 1134.84,915.668 1136.93,826.46 1139.02,731.285 1141.11,634.294 \n",
       "  1143.21,540.193 1145.3,453.116 1147.39,375.735 1149.48,309.046 1151.57,252.991 1153.67,207.397 1155.76,171.659 1157.85,144.783 1159.94,125.491 1162.03,112.353 \n",
       "  1164.13,103.873 1166.22,98.5242 1168.31,95.101 1170.4,92.7501 1172.49,90.903 1174.59,89.274 1176.68,87.7283 1178.77,86.2452 1180.86,84.9481 1182.95,84.1072 \n",
       "  1185.05,84.2114 1187.14,86.0567 1189.23,90.7682 1191.32,99.7399 1193.41,114.428 1195.51,136.319 1197.6,166.864 1199.69,207.109 1201.78,257.87 1203.87,319.544 \n",
       "  1205.97,392.116 1208.06,475.15 1210.15,567.033 1212.24,664.787 1214.33,763.638 1216.43,858.82 1218.52,946.402 1220.61,1023.88 1222.7,1090.44 1224.79,1145.83 \n",
       "  1226.89,1190.34 1228.98,1224.58 1231.07,1249.56 1233.16,1266.64 1235.25,1277.42 1237.35,1283.56 1239.44,1286.67 1241.53,1288.16 1243.62,1288.92 1245.71,1289.54 \n",
       "  1247.81,1290.29 1249.9,1291.31 1251.99,1292.61 1254.08,1294.11 1256.17,1295.62 1258.27,1296.72 1260.36,1296.69 1262.45,1294.39 1264.54,1288.39 1266.63,1277.07 \n",
       "  1268.73,1258.68 1270.82,1231.73 1272.91,1195.01 1275,1147.68 1277.09,1089.25 1279.19,1019.3 1281.28,938.237 1283.37,847.373 1285.46,749.324 1287.55,648.326 \n",
       "  1289.65,549.793 1291.74,458.444 1293.83,376.896 1295.92,306.348 1298.01,247.081 1300.11,199.007 1302.2,161.601 1304.29,133.977 1306.38,114.957 1308.47,103.118 \n",
       "  1310.57,96.8324 1312.66,94.4342 1314.75,94.5051 1316.84,95.9298 1318.93,97.9072 1321.03,99.9941 1323.12,101.966 1325.21,103.739 1327.3,105.322 1329.39,106.815 \n",
       "  1331.49,108.51 1333.58,110.945 1335.67,115.043 1337.76,122.08 1339.85,133.627 1341.95,151.38 1344.04,176.913 1346.13,211.548 1348.22,256.112 1350.31,311.459 \n",
       "  1352.41,378.069 1354.5,455.575 1356.59,542.768 1358.68,637.358 1360.77,735.624 1362.87,832.695 1364.96,923.722 1367.05,1005.88 1369.14,1077.6 1371.23,1138.54 \n",
       "  1373.33,1188.68 1375.42,1228.47 1377.51,1258.73 1379.6,1280.59 1381.69,1295.38 1383.79,1304.57 1385.88,1309.69 1387.97,1312.11 1390.06,1312.88 1392.16,1312.75 \n",
       "  1394.25,1312.18 1396.34,1311.41 1398.43,1310.54 1400.52,1309.55 1402.62,1308.26 1404.71,1306.36 1406.8,1303.22 1408.89,1297.94 1410.98,1289.29 1413.08,1275.8 \n",
       "  \n",
       "  \"/>\n",
       "<polyline clip-path=\"url(#clip612)\" style=\"stroke:#e26f46; stroke-linecap:butt; stroke-linejoin:round; stroke-width:16; stroke-opacity:1; fill:none\" points=\"\n",
       "  369.161,1304.32 371.253,1304.32 373.345,1304.26 375.437,1303.96 377.529,1303.04 379.621,1300.81 381.713,1296.27 383.805,1288.11 385.897,1274.81 387.989,1254.81 \n",
       "  390.081,1226.69 392.173,1189.26 394.265,1141.65 396.357,1083.27 398.449,1014.03 400.541,934.308 402.633,845.356 404.725,749.841 406.817,651.898 408.909,556.162 \n",
       "  411.001,467.255 413.093,387.684 415.185,318.647 417.277,260.509 419.369,213.168 421.461,176.074 423.553,148.306 425.645,128.654 427.737,115.667 429.829,107.717 \n",
       "  431.921,103.255 434.013,100.975 436.105,99.8468 438.197,99.1976 440.289,98.6687 442.381,98.0876 444.473,97.4181 446.565,96.7093 448.657,96.1504 450.749,96.1223 \n",
       "  452.841,97.3031 454.933,100.71 457.025,107.708 459.117,119.821 461.209,138.611 463.301,165.613 465.393,202.022 467.485,248.762 469.577,306.337 471.669,374.903 \n",
       "  473.761,454.303 475.853,543.303 477.945,639.393 480.037,738.408 482.129,835.529 484.221,925.977 486.313,1007.07 488.405,1077.5 490.497,1136.88 492.589,1185.28 \n",
       "  494.681,1223.2 496.773,1251.53 498.865,1271.44 500.957,1284.36 503.049,1291.92 505.141,1295.74 507.233,1297.19 509.325,1297.36 511.417,1297.01 513.509,1296.55 \n",
       "  515.601,1296.17 517.693,1295.94 519.785,1295.84 521.877,1295.72 523.969,1295.26 526.062,1293.87 528.154,1290.57 530.246,1284.08 532.338,1272.89 534.43,1255.31 \n",
       "  536.522,1229.78 538.614,1195.05 540.706,1150.16 542.798,1094.57 544.89,1027.79 546.982,950.118 549.074,862.677 551.166,767.706 553.258,669.024 555.35,571.649 \n",
       "  557.442,480.244 559.534,397.835 561.626,325.908 563.718,264.882 565.81,214.782 567.902,175.161 569.994,145.19 572.086,123.752 574.178,109.492 576.27,100.853 \n",
       "  578.362,96.236 580.454,94.2658 582.546,93.8464 584.638,94.1734 586.73,94.7862 588.822,95.4443 590.914,96.0585 593.006,96.6522 595.098,97.3514 597.19,98.4658 \n",
       "  599.282,100.562 601.374,104.547 603.466,111.656 605.558,123.385 607.65,141.338 609.742,166.988 611.834,201.615 613.926,246.091 616.018,301.311 618.11,367.599 \n",
       "  620.202,444.535 622.294,531.08 624.386,625.043 626.478,722.712 628.57,819.286 630.662,910.319 632.754,992.307 634.846,1063.45 636.938,1123.61 639.03,1173.07 \n",
       "  641.122,1212.24 643.214,1241.97 645.306,1263.44 647.398,1278.09 649.49,1287.42 651.582,1293 653.674,1296.29 655.766,1298.3 657.858,1299.73 659.95,1300.97 \n",
       "  662.042,1302.2 664.134,1303.49 666.226,1304.8 668.318,1305.94 670.41,1306.54 672.502,1305.98 674.594,1303.27 676.686,1297.11 678.778,1286 680.87,1268.35 \n",
       "  682.963,1242.67 685.055,1207.7 687.147,1162.51 689.239,1106.58 691.331,1039.5 693.423,961.422 695.515,873.436 697.607,777.844 699.699,678.452 701.791,580.119 \n",
       "  703.883,488.056 705.975,405.117 708.067,332.831 710.159,271.645 712.251,221.572 714.343,182.185 716.435,152.642 718.527,131.784 720.619,118.178 722.711,110.211 \n",
       "  724.803,106.161 726.895,104.558 728.987,104.262 731.079,104.472 733.171,104.735 735.263,104.838 737.355,104.705 739.447,104.349 741.539,103.882 743.631,103.579 \n",
       "  745.723,103.98 747.815,105.972 749.907,110.835 751.999,120.112 754.091,135.482 756.183,158.559 758.275,190.719 760.367,233.001 762.459,286.041 764.551,350.362 \n",
       "  766.643,425.858 768.735,511.649 770.827,605.879 772.919,705.018 775.011,804.14 777.103,898.277 779.195,983.745 781.287,1058.63 783.379,1122.6 785.471,1175.48 \n",
       "  787.563,1217.63 789.655,1249.78 791.747,1272.98 793.839,1288.54 795.931,1297.96 798.023,1302.9 800.115,1304.83 802.207,1304.94 804.299,1304.12 806.391,1302.95 \n",
       "  808.483,1301.71 810.575,1300.54 812.667,1299.45 814.759,1298.35 816.851,1297.02 818.943,1294.98 821.035,1291.43 823.127,1285.23 825.219,1274.94 827.311,1258.93 \n",
       "  829.403,1235.65 831.495,1203.72 833.587,1162.18 835.679,1110.21 837.771,1047.13 839.864,973.045 841.956,888.91 844.048,796.571 846.14,699.319 848.232,601.681 \n",
       "  850.324,508.739 852.416,423.85 854.508,349.038 856.6,284.932 858.692,231.64 860.784,188.873 862.876,155.91 864.968,131.691 867.06,114.899 869.152,104.072 \n",
       "  871.244,97.6357 873.336,94.108 875.428,92.3565 877.52,91.5462 879.612,91.1503 881.704,90.898 883.796,90.6711 885.888,90.4767 887.98,90.4294 890.072,90.8111 \n",
       "  892.164,92.1413 894.256,95.2622 896.348,101.337 898.44,111.813 900.532,128.252 902.624,152.118 904.716,184.756 906.808,227.192 908.9,280.213 910.992,344.184 \n",
       "  913.084,418.918 915.176,503.69 917.268,596.591 919.36,694.25 921.452,791.88 923.544,884.693 925.636,969.272 927.728,1043.67 929.82,1107.25 931.912,1159.88 \n",
       "  934.004,1201.93 936.096,1234.17 938.188,1257.65 940.28,1273.74 942.372,1284.04 944.464,1290.19 946.556,1293.61 948.648,1295.47 950.74,1296.66 952.832,1297.62 \n",
       "  954.924,1298.62 957.016,1299.74 959.108,1300.96 961.2,1302.16 963.292,1303.08 965.384,1303.18 967.476,1301.6 969.568,1297.13 971.66,1288.3 973.752,1273.45 \n",
       "  975.844,1251.07 977.936,1219.81 980.028,1178.68 982.12,1126.8 984.212,1063.58 986.304,989.181 988.396,904.413 990.488,810.93 992.58,712.081 994.672,612.63 \n",
       "  996.765,517.469 998.857,430.753 1000.95,354.952 1003.04,290.592 1005.13,237.264 1007.22,194.763 1009.32,162.376 1011.41,139.013 1013.5,123.272 1015.59,113.601 \n",
       "  1017.68,108.351 1019.78,105.844 1021.87,104.849 1023.96,104.506 1026.05,104.282 1028.14,103.934 1030.24,103.351 1032.33,102.524 1034.42,101.551 1036.51,100.653 \n",
       "  1038.6,100.297 1040.7,101.278 1042.79,104.789 1044.88,112.279 1046.97,125.42 1049.06,145.946 1051.16,175.257 1053.25,214.506 1055.34,264.389 1057.43,325.49 \n",
       "  1059.52,398.05 1061.62,481.419 1063.71,574.024 1065.8,672.849 1067.89,773.39 1069.98,870.149 1072.08,959.046 1074.17,1037.78 1076.26,1105.48 1078.35,1161.95 \n",
       "  1080.45,1207.37 1082.54,1242.38 1084.63,1267.95 1086.72,1285.33 1088.81,1296 1090.91,1301.6 1093,1303.75 1095.09,1303.77 1097.18,1302.67 1099.27,1301.15 \n",
       "  1101.37,1299.56 1103.46,1298.09 1105.55,1296.78 1107.64,1295.6 1109.73,1294.4 1111.83,1292.79 1113.92,1290.15 1116.01,1285.42 1118.1,1277.25 1120.19,1264.03 \n",
       "  1122.29,1244.08 1124.38,1215.91 1126.47,1178.33 1128.56,1130.58 1130.65,1071.81 1132.75,1001.81 1134.84,921.192 1136.93,831.402 1139.02,735.129 1141.11,636.509 \n",
       "  1143.21,540.713 1145.3,451.875 1147.39,372.589 1149.48,303.961 1151.57,246.178 1153.67,199.147 1155.76,162.3 1157.85,134.702 1159.94,115.142 1162.03,102.22 \n",
       "  1164.13,94.4072 1166.22,90.1387 1168.31,88.1522 1170.4,87.4793 1172.49,87.4553 1174.59,87.7058 1176.68,88.048 1178.77,88.4329 1180.86,88.925 1182.95,89.7224 \n",
       "  1185.05,91.2289 1187.14,94.1428 1189.23,99.4896 1191.32,108.596 1193.41,122.992 1195.51,144.215 1197.6,173.657 1199.69,212.414 1201.78,261.44 1203.87,321.376 \n",
       "  1205.97,392.196 1208.06,473.287 1210.15,563.299 1212.24,659.392 1214.33,757.295 1216.43,852.062 1218.52,939.589 1220.61,1017.37 1222.7,1084.45 1224.79,1140.69 \n",
       "  1226.89,1186.26 1228.98,1221.81 1231.07,1248.33 1233.16,1267.13 1235.25,1279.68 1237.35,1287.61 1239.44,1292.5 1241.53,1295.58 1243.62,1297.73 1245.71,1299.54 \n",
       "  1247.81,1301.29 1249.9,1303.12 1251.99,1305.03 1254.08,1306.91 1256.17,1308.54 1258.27,1309.44 1260.36,1308.83 1262.45,1305.54 1264.54,1298.24 1266.63,1285.46 \n",
       "  1268.73,1265.65 1270.82,1237.15 1272.91,1198.8 1275,1149.85 1277.09,1089.83 1279.19,1018.66 1281.28,936.606 1283.37,845.071 1285.46,746.751 1287.55,646.317 \n",
       "  1289.65,548.834 1291.74,458.632 1293.83,378.487 1295.92,309.395 1298.01,251.649 1300.11,205.052 1302.2,169.059 1304.29,142.737 1306.38,124.802 1308.47,113.706 \n",
       "  1310.57,107.789 1312.66,105.343 1314.75,104.896 1316.84,105.406 1318.93,106.178 1321.03,106.851 1323.12,107.258 1325.21,107.345 1327.3,107.151 1329.39,106.803 \n",
       "  1331.49,106.624 1333.58,107.22 1335.67,109.59 1337.76,115.112 1339.85,125.461 1341.95,142.323 1344.04,167.268 1346.13,201.682 1348.22,246.535 1350.31,302.503 \n",
       "  1352.41,369.762 1354.5,448.058 1356.59,536.47 1358.68,632.694 1360.77,732.77 1362.87,831.466 1364.96,924.319 1367.05,1007.92 1369.14,1080.8 1371.23,1142.49 \n",
       "  1373.33,1193.09 1375.42,1233.03 1377.51,1263.11 1379.6,1284.42 1381.69,1298.34 1383.79,1306.4 1385.88,1310.13 1387.97,1311.02 1390.06,1310.24 1392.16,1308.59 \n",
       "  1394.25,1306.6 1396.34,1304.52 1398.43,1302.49 1400.52,1300.51 1402.62,1298.47 1404.71,1296.11 1406.8,1292.91 1408.89,1288.02 1410.98,1280.24 1413.08,1268.1 \n",
       "  \n",
       "  \"/>\n",
       "<path clip-path=\"url(#clip610)\" d=\"\n",
       "M1511.56 440.581 L2352.76 440.581 L2352.76 90.6606 L1511.56 90.6606  Z\n",
       "  \" fill=\"#ffffff\" fill-rule=\"evenodd\" fill-opacity=\"1\"/>\n",
       "<polyline clip-path=\"url(#clip610)\" style=\"stroke:#000000; stroke-linecap:butt; stroke-linejoin:round; stroke-width:4; stroke-opacity:1; fill:none\" points=\"\n",
       "  1511.56,440.581 2352.76,440.581 2352.76,90.6606 1511.56,90.6606 1511.56,440.581 \n",
       "  \"/>\n",
       "<polyline clip-path=\"url(#clip610)\" style=\"stroke:#009af9; stroke-linecap:butt; stroke-linejoin:round; stroke-width:9; stroke-opacity:1; fill:none\" points=\"\n",
       "  1533.94,207.301 1668.27,207.301 \n",
       "  \"/>\n",
       "<path clip-path=\"url(#clip610)\" d=\"M1735.24 193.422 Q1735.24 202.276 1732.4 212.236 Q1729.61 222.144 1725.18 230.155 Q1720.75 238.112 1714.95 243.382 Q1709.16 248.6 1703.62 248.6 Q1700.09 248.6 1697.46 246.65 Q1694.88 244.647 1693.45 241.327 Q1692.03 237.954 1691.34 234.265 Q1690.66 230.523 1690.66 226.466 Q1690.66 220.405 1691.98 213.817 Q1693.29 207.177 1695.51 201.169 Q1697.72 195.109 1700.83 189.628 Q1703.94 184.094 1707.37 180.089 Q1710.84 176.031 1714.74 173.66 Q1718.64 171.288 1722.28 171.288 Q1724.92 171.288 1727.02 172.448 Q1729.18 173.554 1730.55 175.504 Q1731.92 177.401 1732.87 179.667 Q1733.87 181.934 1734.35 184.569 Q1734.82 187.151 1735.03 189.312 Q1735.24 191.42 1735.24 193.422 M1728.13 186.729 Q1728.13 184.042 1727.92 182.039 Q1727.71 179.984 1727.13 177.928 Q1726.55 175.873 1725.28 174.766 Q1724.07 173.66 1722.17 173.66 Q1716.64 173.66 1710.42 184.99 Q1708.42 188.521 1706.63 193.317 Q1704.84 198.113 1704.2 200.379 Q1703.57 202.645 1702.1 208.231 L1724.65 208.231 Q1728.13 193.844 1728.13 186.729 M1723.7 211.657 L1701.25 211.657 Q1697.77 224.832 1697.77 233.053 Q1697.77 240.22 1699.25 243.224 Q1700.78 246.176 1703.62 246.176 Q1706.89 246.176 1709.95 242.908 Q1713 239.588 1716.11 233.58 Q1720.22 225.78 1723.7 211.657 Z\" fill=\"#000000\" fill-rule=\"evenodd\" fill-opacity=\"1\" /><path clip-path=\"url(#clip610)\" d=\"M1746.34 278.489 Q1746.34 277.125 1746.45 276.719 Q1746.59 276.313 1747.18 275.686 L1761.68 259.528 Q1769.61 250.6 1769.61 242.817 Q1769.61 237.763 1766.96 234.147 Q1764.34 230.532 1759.51 230.532 Q1756.19 230.532 1753.38 232.561 Q1750.58 234.59 1749.29 238.205 Q1749.51 238.131 1750.28 238.131 Q1752.16 238.131 1753.2 239.312 Q1754.27 240.492 1754.27 242.079 Q1754.27 244.108 1752.94 245.104 Q1751.65 246.063 1750.36 246.063 Q1749.84 246.063 1749.14 245.952 Q1748.48 245.842 1747.41 244.809 Q1746.34 243.739 1746.34 241.857 Q1746.34 236.582 1750.32 232.377 Q1754.34 228.171 1760.46 228.171 Q1767.4 228.171 1771.94 232.303 Q1776.51 236.398 1776.51 242.817 Q1776.51 245.067 1775.81 247.133 Q1775.15 249.162 1774.23 250.748 Q1773.34 252.334 1770.9 254.88 Q1768.47 257.425 1766.51 259.233 Q1764.56 261.04 1760.17 264.877 L1752.16 272.661 L1765.78 272.661 Q1772.42 272.661 1772.93 272.071 Q1773.67 271.001 1774.59 265.357 L1776.51 265.357 L1774.37 278.489 L1746.34 278.489 Z\" fill=\"#000000\" fill-rule=\"evenodd\" fill-opacity=\"1\" /><path clip-path=\"url(#clip610)\" d=\"M1787.74 220.405 Q1787.74 202.171 1794.54 187.467 Q1797.43 181.301 1801.49 176.137 Q1805.55 170.972 1808.24 168.706 Q1810.93 166.44 1811.66 166.44 Q1812.72 166.44 1812.77 167.494 Q1812.77 168.021 1811.35 169.338 Q1793.96 187.046 1794.01 220.405 Q1794.01 253.87 1810.93 270.892 Q1812.77 272.737 1812.77 273.316 Q1812.77 274.37 1811.66 274.37 Q1810.93 274.37 1808.34 272.21 Q1805.76 270.049 1801.76 265.095 Q1797.75 260.141 1794.85 254.081 Q1787.74 239.377 1787.74 220.405 Z\" fill=\"#000000\" fill-rule=\"evenodd\" fill-opacity=\"1\" /><path clip-path=\"url(#clip610)\" d=\"M1823.13 212.869 Q1823.13 197.006 1827.14 188.363 Q1832.72 175.504 1845.9 175.504 Q1848.69 175.504 1851.59 176.295 Q1854.54 177.032 1858.23 179.931 Q1861.97 182.83 1864.24 187.573 Q1868.56 196.742 1868.56 212.869 Q1868.56 228.626 1864.55 237.216 Q1858.7 249.759 1845.79 249.759 Q1840.94 249.759 1835.99 247.282 Q1831.09 244.805 1827.98 238.85 Q1823.13 229.944 1823.13 212.869 M1832.09 211.551 Q1832.09 227.836 1833.25 234.318 Q1834.57 241.327 1838.15 244.384 Q1841.79 247.388 1845.79 247.388 Q1850.11 247.388 1853.7 244.173 Q1857.33 240.905 1858.44 233.896 Q1859.65 226.993 1859.6 211.551 Q1859.6 196.532 1858.54 190.524 Q1857.12 183.515 1853.33 180.721 Q1849.59 177.876 1845.79 177.876 Q1844.37 177.876 1842.84 178.297 Q1841.36 178.719 1839.2 179.931 Q1837.04 181.143 1835.36 184.147 Q1833.72 187.151 1832.93 191.683 Q1832.09 197.533 1832.09 211.551 Z\" fill=\"#000000\" fill-rule=\"evenodd\" fill-opacity=\"1\" /><path clip-path=\"url(#clip610)\" d=\"M1879.17 273.316 Q1879.17 272.789 1880.54 271.472 Q1897.93 253.764 1897.93 220.405 Q1897.93 186.94 1881.22 170.023 Q1879.17 168.073 1879.17 167.494 Q1879.17 166.44 1880.22 166.44 Q1880.96 166.44 1883.54 168.6 Q1886.18 170.761 1890.13 175.715 Q1894.13 180.669 1897.09 186.729 Q1904.2 201.433 1904.2 220.405 Q1904.2 238.639 1897.4 253.343 Q1894.5 259.509 1890.45 264.673 Q1886.39 269.838 1883.7 272.104 Q1881.01 274.37 1880.22 274.37 Q1879.17 274.37 1879.17 273.316 Z\" fill=\"#000000\" fill-rule=\"evenodd\" fill-opacity=\"1\" /><path clip-path=\"url(#clip610)\" d=\"M1950.55 230.998 Q1950.66 229.68 1952.71 229.68 L2018.85 229.68 Q2021.96 229.68 2022.01 230.892 Q2022.01 232.21 2019.06 232.157 L1953.45 232.157 Q1950.55 232.21 1950.55 230.998 M1950.55 209.918 Q1950.55 208.6 1952.82 208.653 L2018.75 208.653 Q2021.96 208.653 2022.01 209.918 Q2022.01 211.13 2019.27 211.13 L1952.71 211.13 Q1950.55 211.13 1950.55 209.918 Z\" fill=\"#000000\" fill-rule=\"evenodd\" fill-opacity=\"1\" /><path clip-path=\"url(#clip610)\" d=\"M2063.64 247.388 Q2063.64 245.438 2063.8 244.858 Q2064.01 244.278 2064.85 243.382 L2085.56 220.3 Q2096.89 207.546 2096.89 196.426 Q2096.89 189.206 2093.1 184.042 Q2089.36 178.877 2082.45 178.877 Q2077.71 178.877 2073.7 181.775 Q2069.7 184.674 2067.85 189.839 Q2068.17 189.733 2069.28 189.733 Q2071.96 189.733 2073.44 191.42 Q2074.97 193.106 2074.97 195.372 Q2074.97 198.271 2073.07 199.694 Q2071.23 201.064 2069.38 201.064 Q2068.64 201.064 2067.64 200.906 Q2066.69 200.748 2065.17 199.272 Q2063.64 197.744 2063.64 195.056 Q2063.64 187.52 2069.33 181.512 Q2075.07 175.504 2083.82 175.504 Q2093.73 175.504 2100.21 181.407 Q2106.75 187.256 2106.75 196.426 Q2106.75 199.641 2105.74 202.592 Q2104.8 205.491 2103.48 207.757 Q2102.21 210.023 2098.74 213.659 Q2095.26 217.296 2092.46 219.878 Q2089.67 222.46 2083.4 227.941 L2071.96 239.061 L2091.41 239.061 Q2100.9 239.061 2101.63 238.218 Q2102.69 236.689 2104.01 228.626 L2106.75 228.626 L2103.69 247.388 L2063.64 247.388 Z\" fill=\"#000000\" fill-rule=\"evenodd\" fill-opacity=\"1\" /><path clip-path=\"url(#clip610)\" d=\"M2118.72 245.649 Q2117.08 243.909 2117.08 241.643 Q2117.08 239.377 2118.72 237.743 Q2120.35 236.057 2122.83 236.057 Q2125.2 236.057 2126.78 237.638 Q2128.41 239.166 2128.41 241.696 Q2128.41 244.173 2126.67 245.807 Q2124.99 247.388 2122.83 247.388 Q2120.35 247.388 2118.72 245.649 Z\" fill=\"#000000\" fill-rule=\"evenodd\" fill-opacity=\"1\" /><path clip-path=\"url(#clip610)\" d=\"M2146.78 212.869 Q2146.78 197.006 2150.79 188.363 Q2156.37 175.504 2169.55 175.504 Q2172.34 175.504 2175.24 176.295 Q2178.19 177.032 2181.88 179.931 Q2185.62 182.83 2187.89 187.573 Q2192.21 196.742 2192.21 212.869 Q2192.21 228.626 2188.2 237.216 Q2182.35 249.759 2169.44 249.759 Q2164.59 249.759 2159.64 247.282 Q2154.74 244.805 2151.63 238.85 Q2146.78 229.944 2146.78 212.869 M2155.74 211.551 Q2155.74 227.836 2156.9 234.318 Q2158.22 241.327 2161.8 244.384 Q2165.44 247.388 2169.44 247.388 Q2173.76 247.388 2177.35 244.173 Q2180.98 240.905 2182.09 233.896 Q2183.3 226.993 2183.25 211.551 Q2183.25 196.532 2182.19 190.524 Q2180.77 183.515 2176.98 180.721 Q2173.24 177.876 2169.44 177.876 Q2168.02 177.876 2166.49 178.297 Q2165.01 178.719 2162.85 179.931 Q2160.69 181.143 2159.01 184.147 Q2157.37 187.151 2156.58 191.683 Q2155.74 197.533 2155.74 211.551 Z\" fill=\"#000000\" fill-rule=\"evenodd\" fill-opacity=\"1\" /><path clip-path=\"url(#clip610)\" d=\"M2200.66 212.869 Q2200.66 197.006 2204.66 188.363 Q2210.25 175.504 2223.42 175.504 Q2226.22 175.504 2229.12 176.295 Q2232.07 177.032 2235.76 179.931 Q2239.5 182.83 2241.76 187.573 Q2246.09 196.742 2246.09 212.869 Q2246.09 228.626 2242.08 237.216 Q2236.23 249.759 2223.32 249.759 Q2218.47 249.759 2213.52 247.282 Q2208.62 244.805 2205.51 238.85 Q2200.66 229.944 2200.66 212.869 M2209.62 211.551 Q2209.62 227.836 2210.78 234.318 Q2212.09 241.327 2215.68 244.384 Q2219.31 247.388 2223.32 247.388 Q2227.64 247.388 2231.22 244.173 Q2234.86 240.905 2235.97 233.896 Q2237.18 226.993 2237.13 211.551 Q2237.13 196.532 2236.07 190.524 Q2234.65 183.515 2230.85 180.721 Q2227.11 177.876 2223.32 177.876 Q2221.9 177.876 2220.37 178.297 Q2218.89 178.719 2216.73 179.931 Q2214.57 181.143 2212.88 184.147 Q2211.25 187.151 2210.46 191.683 Q2209.62 197.533 2209.62 211.551 Z\" fill=\"#000000\" fill-rule=\"evenodd\" fill-opacity=\"1\" /><path clip-path=\"url(#clip610)\" d=\"M2254.53 212.869 Q2254.53 197.006 2258.54 188.363 Q2264.13 175.504 2277.3 175.504 Q2280.09 175.504 2282.99 176.295 Q2285.94 177.032 2289.63 179.931 Q2293.38 182.83 2295.64 187.573 Q2299.96 196.742 2299.96 212.869 Q2299.96 228.626 2295.96 237.216 Q2290.11 249.759 2277.2 249.759 Q2272.35 249.759 2267.39 247.282 Q2262.49 244.805 2259.38 238.85 Q2254.53 229.944 2254.53 212.869 M2263.49 211.551 Q2263.49 227.836 2264.65 234.318 Q2265.97 241.327 2269.55 244.384 Q2273.19 247.388 2277.2 247.388 Q2281.52 247.388 2285.1 244.173 Q2288.74 240.905 2289.84 233.896 Q2291.06 226.993 2291 211.551 Q2291 196.532 2289.95 190.524 Q2288.53 183.515 2284.73 180.721 Q2280.99 177.876 2277.2 177.876 Q2275.77 177.876 2274.24 178.297 Q2272.77 178.719 2270.61 179.931 Q2268.45 181.143 2266.76 184.147 Q2265.13 187.151 2264.34 191.683 Q2263.49 197.533 2263.49 211.551 Z\" fill=\"#000000\" fill-rule=\"evenodd\" fill-opacity=\"1\" /><polyline clip-path=\"url(#clip610)\" style=\"stroke:#e26f46; stroke-linecap:butt; stroke-linejoin:round; stroke-width:9; stroke-opacity:1; fill:none\" points=\"\n",
       "  1533.94,323.941 1668.27,323.941 \n",
       "  \"/>\n",
       "<path clip-path=\"url(#clip610)\" d=\"M1735.24 310.062 Q1735.24 318.916 1732.4 328.876 Q1729.61 338.784 1725.18 346.795 Q1720.75 354.752 1714.95 360.022 Q1709.16 365.24 1703.62 365.24 Q1700.09 365.24 1697.46 363.29 Q1694.88 361.287 1693.45 357.967 Q1692.03 354.594 1691.34 350.905 Q1690.66 347.163 1690.66 343.106 Q1690.66 337.045 1691.98 330.457 Q1693.29 323.817 1695.51 317.809 Q1697.72 311.749 1700.83 306.268 Q1703.94 300.734 1707.37 296.729 Q1710.84 292.671 1714.74 290.3 Q1718.64 287.928 1722.28 287.928 Q1724.92 287.928 1727.02 289.088 Q1729.18 290.194 1730.55 292.144 Q1731.92 294.041 1732.87 296.307 Q1733.87 298.574 1734.35 301.209 Q1734.82 303.791 1735.03 305.952 Q1735.24 308.06 1735.24 310.062 M1728.13 303.369 Q1728.13 300.682 1727.92 298.679 Q1727.71 296.624 1727.13 294.568 Q1726.55 292.513 1725.28 291.406 Q1724.07 290.3 1722.17 290.3 Q1716.64 290.3 1710.42 301.63 Q1708.42 305.161 1706.63 309.957 Q1704.84 314.753 1704.2 317.019 Q1703.57 319.285 1702.1 324.871 L1724.65 324.871 Q1728.13 310.484 1728.13 303.369 M1723.7 328.297 L1701.25 328.297 Q1697.77 341.472 1697.77 349.693 Q1697.77 356.86 1699.25 359.864 Q1700.78 362.816 1703.62 362.816 Q1706.89 362.816 1709.95 359.548 Q1713 356.228 1716.11 350.22 Q1720.22 342.42 1723.7 328.297 Z\" fill=\"#000000\" fill-rule=\"evenodd\" fill-opacity=\"1\" /><path clip-path=\"url(#clip610)\" d=\"M1746.34 395.129 Q1746.34 393.765 1746.45 393.359 Q1746.59 392.953 1747.18 392.326 L1761.68 376.168 Q1769.61 367.24 1769.61 359.457 Q1769.61 354.403 1766.96 350.787 Q1764.34 347.172 1759.51 347.172 Q1756.19 347.172 1753.38 349.201 Q1750.58 351.23 1749.29 354.845 Q1749.51 354.771 1750.28 354.771 Q1752.16 354.771 1753.2 355.952 Q1754.27 357.132 1754.27 358.719 Q1754.27 360.748 1752.94 361.744 Q1751.65 362.703 1750.36 362.703 Q1749.84 362.703 1749.14 362.592 Q1748.48 362.482 1747.41 361.449 Q1746.34 360.379 1746.34 358.497 Q1746.34 353.222 1750.32 349.017 Q1754.34 344.811 1760.46 344.811 Q1767.4 344.811 1771.94 348.943 Q1776.51 353.038 1776.51 359.457 Q1776.51 361.707 1775.81 363.773 Q1775.15 365.802 1774.23 367.388 Q1773.34 368.974 1770.9 371.52 Q1768.47 374.065 1766.51 375.873 Q1764.56 377.68 1760.17 381.517 L1752.16 389.301 L1765.78 389.301 Q1772.42 389.301 1772.93 388.711 Q1773.67 387.641 1774.59 381.997 L1776.51 381.997 L1774.37 395.129 L1746.34 395.129 Z\" fill=\"#000000\" fill-rule=\"evenodd\" fill-opacity=\"1\" /><path clip-path=\"url(#clip610)\" d=\"M1787.74 337.045 Q1787.74 318.811 1794.54 304.107 Q1797.43 297.941 1801.49 292.777 Q1805.55 287.612 1808.24 285.346 Q1810.93 283.08 1811.66 283.08 Q1812.72 283.08 1812.77 284.134 Q1812.77 284.661 1811.35 285.978 Q1793.96 303.686 1794.01 337.045 Q1794.01 370.51 1810.93 387.532 Q1812.77 389.377 1812.77 389.956 Q1812.77 391.01 1811.66 391.01 Q1810.93 391.01 1808.34 388.85 Q1805.76 386.689 1801.76 381.735 Q1797.75 376.781 1794.85 370.721 Q1787.74 356.017 1787.74 337.045 Z\" fill=\"#000000\" fill-rule=\"evenodd\" fill-opacity=\"1\" /><path clip-path=\"url(#clip610)\" d=\"M1823.13 329.509 Q1823.13 313.646 1827.14 305.003 Q1832.72 292.144 1845.9 292.144 Q1848.69 292.144 1851.59 292.935 Q1854.54 293.672 1858.23 296.571 Q1861.97 299.47 1864.24 304.213 Q1868.56 313.382 1868.56 329.509 Q1868.56 345.266 1864.55 353.856 Q1858.7 366.399 1845.79 366.399 Q1840.94 366.399 1835.99 363.922 Q1831.09 361.445 1827.98 355.49 Q1823.13 346.584 1823.13 329.509 M1832.09 328.191 Q1832.09 344.476 1833.25 350.958 Q1834.57 357.967 1838.15 361.024 Q1841.79 364.028 1845.79 364.028 Q1850.11 364.028 1853.7 360.813 Q1857.33 357.545 1858.44 350.536 Q1859.65 343.633 1859.6 328.191 Q1859.6 313.172 1858.54 307.164 Q1857.12 300.155 1853.33 297.361 Q1849.59 294.516 1845.79 294.516 Q1844.37 294.516 1842.84 294.937 Q1841.36 295.359 1839.2 296.571 Q1837.04 297.783 1835.36 300.787 Q1833.72 303.791 1832.93 308.323 Q1832.09 314.173 1832.09 328.191 Z\" fill=\"#000000\" fill-rule=\"evenodd\" fill-opacity=\"1\" /><path clip-path=\"url(#clip610)\" d=\"M1879.17 389.956 Q1879.17 389.429 1880.54 388.112 Q1897.93 370.404 1897.93 337.045 Q1897.93 303.58 1881.22 286.663 Q1879.17 284.713 1879.17 284.134 Q1879.17 283.08 1880.22 283.08 Q1880.96 283.08 1883.54 285.24 Q1886.18 287.401 1890.13 292.355 Q1894.13 297.309 1897.09 303.369 Q1904.2 318.073 1904.2 337.045 Q1904.2 355.279 1897.4 369.983 Q1894.5 376.149 1890.45 381.313 Q1886.39 386.478 1883.7 388.744 Q1881.01 391.01 1880.22 391.01 Q1879.17 391.01 1879.17 389.956 Z\" fill=\"#000000\" fill-rule=\"evenodd\" fill-opacity=\"1\" /><path clip-path=\"url(#clip610)\" d=\"M1950.55 347.638 Q1950.66 346.32 1952.71 346.32 L2018.85 346.32 Q2021.96 346.32 2022.01 347.532 Q2022.01 348.85 2019.06 348.797 L1953.45 348.797 Q1950.55 348.85 1950.55 347.638 M1950.55 326.558 Q1950.55 325.24 1952.82 325.293 L2018.75 325.293 Q2021.96 325.293 2022.01 326.558 Q2022.01 327.77 2019.27 327.77 L1952.71 327.77 Q1950.55 327.77 1950.55 326.558 Z\" fill=\"#000000\" fill-rule=\"evenodd\" fill-opacity=\"1\" /><path clip-path=\"url(#clip610)\" d=\"M2063.64 364.028 Q2063.64 362.078 2063.8 361.498 Q2064.01 360.918 2064.85 360.022 L2085.56 336.94 Q2096.89 324.186 2096.89 313.066 Q2096.89 305.846 2093.1 300.682 Q2089.36 295.517 2082.45 295.517 Q2077.71 295.517 2073.7 298.415 Q2069.7 301.314 2067.85 306.479 Q2068.17 306.373 2069.28 306.373 Q2071.96 306.373 2073.44 308.06 Q2074.97 309.746 2074.97 312.012 Q2074.97 314.911 2073.07 316.334 Q2071.23 317.704 2069.38 317.704 Q2068.64 317.704 2067.64 317.546 Q2066.69 317.388 2065.17 315.912 Q2063.64 314.384 2063.64 311.696 Q2063.64 304.16 2069.33 298.152 Q2075.07 292.144 2083.82 292.144 Q2093.73 292.144 2100.21 298.047 Q2106.75 303.896 2106.75 313.066 Q2106.75 316.281 2105.74 319.232 Q2104.8 322.131 2103.48 324.397 Q2102.21 326.663 2098.74 330.299 Q2095.26 333.936 2092.46 336.518 Q2089.67 339.1 2083.4 344.581 L2071.96 355.701 L2091.41 355.701 Q2100.9 355.701 2101.63 354.858 Q2102.69 353.329 2104.01 345.266 L2106.75 345.266 L2103.69 364.028 L2063.64 364.028 Z\" fill=\"#000000\" fill-rule=\"evenodd\" fill-opacity=\"1\" /><path clip-path=\"url(#clip610)\" d=\"M2118.72 362.289 Q2117.08 360.549 2117.08 358.283 Q2117.08 356.017 2118.72 354.383 Q2120.35 352.697 2122.83 352.697 Q2125.2 352.697 2126.78 354.278 Q2128.41 355.806 2128.41 358.336 Q2128.41 360.813 2126.67 362.447 Q2124.99 364.028 2122.83 364.028 Q2120.35 364.028 2118.72 362.289 Z\" fill=\"#000000\" fill-rule=\"evenodd\" fill-opacity=\"1\" /><path clip-path=\"url(#clip610)\" d=\"M2146.78 329.509 Q2146.78 313.646 2150.79 305.003 Q2156.37 292.144 2169.55 292.144 Q2172.34 292.144 2175.24 292.935 Q2178.19 293.672 2181.88 296.571 Q2185.62 299.47 2187.89 304.213 Q2192.21 313.382 2192.21 329.509 Q2192.21 345.266 2188.2 353.856 Q2182.35 366.399 2169.44 366.399 Q2164.59 366.399 2159.64 363.922 Q2154.74 361.445 2151.63 355.49 Q2146.78 346.584 2146.78 329.509 M2155.74 328.191 Q2155.74 344.476 2156.9 350.958 Q2158.22 357.967 2161.8 361.024 Q2165.44 364.028 2169.44 364.028 Q2173.76 364.028 2177.35 360.813 Q2180.98 357.545 2182.09 350.536 Q2183.3 343.633 2183.25 328.191 Q2183.25 313.172 2182.19 307.164 Q2180.77 300.155 2176.98 297.361 Q2173.24 294.516 2169.44 294.516 Q2168.02 294.516 2166.49 294.937 Q2165.01 295.359 2162.85 296.571 Q2160.69 297.783 2159.01 300.787 Q2157.37 303.791 2156.58 308.323 Q2155.74 314.173 2155.74 328.191 Z\" fill=\"#000000\" fill-rule=\"evenodd\" fill-opacity=\"1\" /><path clip-path=\"url(#clip610)\" d=\"M2200.66 329.509 Q2200.66 313.646 2204.66 305.003 Q2210.25 292.144 2223.42 292.144 Q2226.22 292.144 2229.12 292.935 Q2232.07 293.672 2235.76 296.571 Q2239.5 299.47 2241.76 304.213 Q2246.09 313.382 2246.09 329.509 Q2246.09 345.266 2242.08 353.856 Q2236.23 366.399 2223.32 366.399 Q2218.47 366.399 2213.52 363.922 Q2208.62 361.445 2205.51 355.49 Q2200.66 346.584 2200.66 329.509 M2209.62 328.191 Q2209.62 344.476 2210.78 350.958 Q2212.09 357.967 2215.68 361.024 Q2219.31 364.028 2223.32 364.028 Q2227.64 364.028 2231.22 360.813 Q2234.86 357.545 2235.97 350.536 Q2237.18 343.633 2237.13 328.191 Q2237.13 313.172 2236.07 307.164 Q2234.65 300.155 2230.85 297.361 Q2227.11 294.516 2223.32 294.516 Q2221.9 294.516 2220.37 294.937 Q2218.89 295.359 2216.73 296.571 Q2214.57 297.783 2212.88 300.787 Q2211.25 303.791 2210.46 308.323 Q2209.62 314.173 2209.62 328.191 Z\" fill=\"#000000\" fill-rule=\"evenodd\" fill-opacity=\"1\" /><path clip-path=\"url(#clip610)\" d=\"M2250.92 302.421 L2250.92 299.048 Q2263.89 299.048 2270.58 292.144 Q2272.42 292.144 2272.74 292.566 Q2273.06 292.987 2273.06 294.937 L2273.06 355.49 Q2273.06 358.705 2274.64 359.706 Q2276.22 360.707 2283.12 360.707 L2286.55 360.707 L2286.55 364.028 Q2282.75 363.711 2269.05 363.711 Q2255.35 363.711 2251.61 364.028 L2251.61 360.707 L2255.03 360.707 Q2261.83 360.707 2263.47 359.759 Q2265.1 358.758 2265.1 355.49 L2265.1 299.575 Q2259.46 302.421 2250.92 302.421 Z\" fill=\"#000000\" fill-rule=\"evenodd\" fill-opacity=\"1\" /></svg>\n"
      ]
     },
     "execution_count": 152,
     "metadata": {},
     "output_type": "execute_result"
    }
   ],
   "source": [
    "Plots.theme(:cooper)\n",
    "tspan = (0, 20);\n",
    "p = [1, 1, 0.1, 0.1];\n",
    "prob1 = ODEProblem(N2pendulum, [2, 2, 0, 0], tspan, p)\n",
    "sol1 = solve(prob1)\n",
    "prob2 = ODEProblem(N2pendulum, [2, 2.001, 0, 0], tspan, p)\n",
    "sol2 = solve(prob2)\n",
    "\n",
    "X = zeros()\n",
    "\n",
    "t = range(0, tspan[2], 500)\n",
    "a21 = [sol1(ti)[2] for ti in t]\n",
    "a22 = [sol2(ti)[2] for ti in t]\n",
    "\n",
    "plot(t, a21, label = L\"$\\theta_2(0) = 2.000$\")\n",
    "plot!(t, a22,  label = L\"$\\theta_2(0) = 2.001$\",\n",
    "    xlabel = \"time (s)\", \n",
    "    ylabel = L\"$\\theta_2$\")"
   ]
  },
  {
   "cell_type": "code",
   "execution_count": null,
   "id": "691e07e4",
   "metadata": {},
   "outputs": [],
   "source": []
  }
 ],
 "metadata": {
  "kernelspec": {
   "display_name": "Julia 1.7.2",
   "language": "julia",
   "name": "julia-1.7"
  },
  "language_info": {
   "file_extension": ".jl",
   "mimetype": "application/julia",
   "name": "julia",
   "version": "1.7.2"
  }
 },
 "nbformat": 4,
 "nbformat_minor": 5
}
