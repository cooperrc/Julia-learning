{
 "cells": [
  {
   "cell_type": "code",
   "execution_count": 33,
   "id": "da8df1cf-3e0a-484e-ae34-cfe8fd3e15ca",
   "metadata": {},
   "outputs": [],
   "source": [
    "using Symbolics, ModelingToolkit"
   ]
  },
  {
   "cell_type": "code",
   "execution_count": 49,
   "id": "f964ab13-920e-464a-91a9-d37bf15ae81e",
   "metadata": {},
   "outputs": [
    {
     "data": {
      "text/latex": [
       "\\begin{equation}\n",
       "0.5 \\left(  - x(t)_1 + x(t)_2 \\right)^{2} k\n",
       "\\end{equation}\n"
      ],
      "text/plain": [
       "0.5k*(((x(t))[2] - (x(t))[1])^2)"
      ]
     },
     "execution_count": 49,
     "metadata": {},
     "output_type": "execute_result"
    }
   ],
   "source": [
    "@variables t x(t)[1:2] # independent and dependent variables\n",
    "@parameters k m[1:2] # parameters\n",
    "\n",
    "Dx1 = Differential(x[1])\n",
    "Dx2 = Differential(x[2])\n",
    "\n",
    "V = 1/2*k*(x[2]- x[1])^2"
   ]
  },
  {
   "cell_type": "code",
   "execution_count": 50,
   "id": "6ef12050-0898-49d0-b818-72adeb8f4661",
   "metadata": {},
   "outputs": [
    {
     "data": {
      "text/latex": [
       "\\begin{equation}\n",
       "\\left[\n",
       "\\begin{array}{cc}\n",
       "0.5 k \\left( 2 x(t)_1 - 2 x(t)_2 \\right) & 0.5 k \\left(  - 2 x(t)_1 + 2 x(t)_2 \\right) \\\\\n",
       "\\end{array}\n",
       "\\right]\n",
       "\\end{equation}\n"
      ],
      "text/plain": [
       "1×2 Matrix{Num}:\n",
       " 0.5k*(2(x(t))[1] - 2(x(t))[2])  0.5k*(2(x(t))[2] - 2(x(t))[1])"
      ]
     },
     "execution_count": 50,
     "metadata": {},
     "output_type": "execute_result"
    }
   ],
   "source": [
    "dVdx = Symbolics.jacobian([V], x)"
   ]
  },
  {
   "cell_type": "code",
   "execution_count": 51,
   "id": "ba079116-93de-442a-9a89-724bb8508eab",
   "metadata": {},
   "outputs": [
    {
     "data": {
      "text/latex": [
       "\\begin{equation}\n",
       "0.5 \\mathrm{\\frac{d}{d t}}\\left( x(t)_1 \\right)^{2} m_1 + 0.5 \\mathrm{\\frac{d}{d t}}\\left( x(t)_2 \\right)^{2} m_2\n",
       "\\end{equation}\n"
      ],
      "text/plain": [
       "0.5(Differential(t)((x(t))[1])^2)*m[1] + 0.5(Differential(t)((x(t))[2])^2)*m[2]"
      ]
     },
     "execution_count": 51,
     "metadata": {},
     "output_type": "execute_result"
    }
   ],
   "source": [
    "D = Differential(t)\n",
    "\n",
    "T = 1/2*m[1]*D(x[1])^2 + 1/2*m[2]*D(x[2])^2\n",
    "T"
   ]
  },
  {
   "cell_type": "code",
   "execution_count": 52,
   "id": "4ba3b33b-165a-4f8a-a131-29b5eff1f091",
   "metadata": {},
   "outputs": [
    {
     "data": {
      "text/latex": [
       "\\begin{equation}\n",
       "\\left[\n",
       "\\begin{array}{cc}\n",
       "\\mathrm{\\frac{d}{d t}}\\left( x(t)_1 \\right) m_1 & \\mathrm{\\frac{d}{d t}}\\left( x(t)_2 \\right) m_2 \\\\\n",
       "\\end{array}\n",
       "\\right]\n",
       "\\end{equation}\n"
      ],
      "text/plain": [
       "1×2 Matrix{Num}:\n",
       " Differential(t)((x(t))[1])*m[1]  Differential(t)((x(t))[2])*m[2]"
      ]
     },
     "execution_count": 52,
     "metadata": {},
     "output_type": "execute_result"
    }
   ],
   "source": [
    "dTdv = Symbolics.jacobian([T], D.(x))"
   ]
  },
  {
   "cell_type": "code",
   "execution_count": 53,
   "id": "194471f6-4932-4549-98f2-7a2449df3456",
   "metadata": {},
   "outputs": [
    {
     "data": {
      "text/latex": [
       "\\begin{equation}\n",
       "\\left[\n",
       "\\begin{array}{cc}\n",
       "\\frac{d(d / (d * t))(var\"x(t)_1\")}{dt} m_1 & \\frac{d(d / (d * t))(var\"x(t)_2\")}{dt} m_2 \\\\\n",
       "\\end{array}\n",
       "\\right]\n",
       "\\end{equation}\n"
      ],
      "text/plain": [
       "1×2 Matrix{Num}:\n",
       " Differential(t)(Differential(t)((x(t))[1]))*m[1]  …  Differential(t)(Differential(t)((x(t))[2]))*m[2]"
      ]
     },
     "execution_count": 53,
     "metadata": {},
     "output_type": "execute_result"
    }
   ],
   "source": [
    "Symbolics.expand_derivatives.(D.(dTdv))"
   ]
  },
  {
   "cell_type": "code",
   "execution_count": 58,
   "id": "09a0e52c-76fa-42bb-a2e6-dfaf404b50e2",
   "metadata": {},
   "outputs": [
    {
     "data": {
      "text/latex": [
       "\\begin{equation}\n",
       "\\left[\n",
       "\\begin{array}{c}\n",
       "m_1 \\\\\n",
       "m_2 \\\\\n",
       "k \\\\\n",
       "\\end{array}\n",
       "\\right]\n",
       "\\end{equation}\n"
      ],
      "text/plain": [
       "3-element Vector{Num}:\n",
       " m[1]\n",
       " m[2]\n",
       "    k"
      ]
     },
     "execution_count": 58,
     "metadata": {},
     "output_type": "execute_result"
    }
   ],
   "source": [
    "[m[1], m[2], k]"
   ]
  },
  {
   "cell_type": "code",
   "execution_count": 61,
   "id": "dfced067-bd43-43d2-b2d8-1e61c7a89df2",
   "metadata": {},
   "outputs": [
    {
     "data": {
      "text/latex": [
       "$$ \\begin{align}\n",
       "\\left[\n",
       "\\begin{array}{cc}\n",
       "_{derivative}\\left( _{derivative}\\left( x(t)_1, t \\right) m_1, t \\right) & _{derivative}\\left( _{derivative}\\left( x(t)_2, t \\right) m_2, t \\right) \\\\\n",
       "\\end{array}\n",
       "\\right] =& \\left[\n",
       "\\begin{array}{cc}\n",
       "0.5 k \\left( 2 x(t)_1 - 2 x(t)_2 \\right) & 0.5 k \\left(  - 2 x(t)_1 + 2 x(t)_2 \\right) \\\\\n",
       "\\end{array}\n",
       "\\right]\n",
       "\\end{align}\n",
       " $$"
      ],
      "text/plain": [
       "\u001b[0m\u001b[1mModel fol_separate with 1 \u001b[22m\u001b[0m\u001b[1mequations\u001b[22m\n",
       "\u001b[0m\u001b[1mStates (2):\u001b[22m\n",
       "  (x(t))[1]\n",
       "  (x(t))[2]\n",
       "\u001b[0m\u001b[1mParameters (3):\u001b[22m\n",
       "  m[1]\n",
       "  m[2]\n",
       "  k"
      ]
     },
     "execution_count": 61,
     "metadata": {},
     "output_type": "execute_result"
    }
   ],
   "source": [
    "@named fol_separate = ODESystem(D.(dTdv)~dVdx, t, x, [m[1], m[2], k])"
   ]
  },
  {
   "cell_type": "code",
   "execution_count": 63,
   "id": "305f9e77-2a2c-4137-a0ab-559c69073b97",
   "metadata": {},
   "outputs": [
    {
     "ename": "LoadError",
     "evalue": "MethodError: no method matching -(::Matrix{Num}, ::Int64)\nFor element-wise subtraction, use broadcasting with dot syntax: array .- scalar\n\u001b[0mClosest candidates are:\n\u001b[0m  -(\u001b[91m::T\u001b[39m, ::T) where T<:Union{Int128, Int16, Int32, Int64, Int8, UInt128, UInt16, UInt32, UInt64, UInt8} at int.jl:86\n\u001b[0m  -(\u001b[91m::AbstractAlgebra.MatrixElem{T}\u001b[39m, ::Union{AbstractFloat, Integer, Rational}) where T<:Union{AbstractAlgebra.NCRingElem, AbstractAlgebra.RingElement} at ~/.julia/packages/AbstractAlgebra/9oioa/src/Matrix.jl:851\n\u001b[0m  -(\u001b[91m::DualNumbers.Dual\u001b[39m, ::Number) at ~/.julia/packages/DualNumbers/5knFX/src/dual.jl:240\n\u001b[0m  ...",
     "output_type": "error",
     "traceback": [
      "MethodError: no method matching -(::Matrix{Num}, ::Int64)\nFor element-wise subtraction, use broadcasting with dot syntax: array .- scalar\n\u001b[0mClosest candidates are:\n\u001b[0m  -(\u001b[91m::T\u001b[39m, ::T) where T<:Union{Int128, Int16, Int32, Int64, Int8, UInt128, UInt16, UInt32, UInt64, UInt8} at int.jl:86\n\u001b[0m  -(\u001b[91m::AbstractAlgebra.MatrixElem{T}\u001b[39m, ::Union{AbstractFloat, Integer, Rational}) where T<:Union{AbstractAlgebra.NCRingElem, AbstractAlgebra.RingElement} at ~/.julia/packages/AbstractAlgebra/9oioa/src/Matrix.jl:851\n\u001b[0m  -(\u001b[91m::DualNumbers.Dual\u001b[39m, ::Number) at ~/.julia/packages/DualNumbers/5knFX/src/dual.jl:240\n\u001b[0m  ...",
      "",
      "Stacktrace:",
      " [1] linear_subsys_adjmat(state::TearingState{ODESystem})",
      "   @ ModelingToolkit.SystemStructures ~/.julia/packages/ModelingToolkit/kpzGP/src/systems/systemstructure.jl:369",
      " [2] alias_eliminate_graph!",
      "   @ ~/.julia/packages/ModelingToolkit/kpzGP/src/systems/alias_elimination.jl:6 [inlined]",
      " [3] alias_elimination!(state::TearingState{ODESystem})",
      "   @ ModelingToolkit ~/.julia/packages/ModelingToolkit/kpzGP/src/systems/alias_elimination.jl:38",
      " [4] structural_simplify(sys::ODESystem, io::Nothing; simplify::Bool, kwargs::Base.Pairs{Symbol, Union{}, Tuple{}, NamedTuple{(), Tuple{}}})",
      "   @ ModelingToolkit ~/.julia/packages/ModelingToolkit/kpzGP/src/systems/abstractsystem.jl:965",
      " [5] structural_simplify (repeats 2 times)",
      "   @ ~/.julia/packages/ModelingToolkit/kpzGP/src/systems/abstractsystem.jl:959 [inlined]",
      " [6] top-level scope",
      "   @ In[63]:1",
      " [7] eval",
      "   @ ./boot.jl:368 [inlined]",
      " [8] include_string(mapexpr::typeof(REPL.softscope), mod::Module, code::String, filename::String)",
      "   @ Base ./loading.jl:1428"
     ]
    }
   ],
   "source": [
    "prob = ODEProblem(structural_simplify(fol_separate), [x[1]=> 0.0, x[2] => 1.0, D(x[1]) => 0, D(x[2]) => 0], \n",
    "    (0.0,15.0), [m[1] => 1, m[2] => 1, k => 1])\n",
    "sol = solve(prob)\n",
    "plot(sol)"
   ]
  },
  {
   "cell_type": "code",
   "execution_count": null,
   "id": "ea5d5fef-8a9a-4642-b4ef-5eef53cdabfc",
   "metadata": {},
   "outputs": [],
   "source": []
  }
 ],
 "metadata": {
  "kernelspec": {
   "display_name": "Julia 1.8.0-rc3",
   "language": "julia",
   "name": "julia-1.8"
  },
  "language_info": {
   "file_extension": ".jl",
   "mimetype": "application/julia",
   "name": "julia",
   "version": "1.8.0"
  }
 },
 "nbformat": 4,
 "nbformat_minor": 5
}
